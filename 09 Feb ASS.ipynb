{
 "cells": [
  {
   "cell_type": "markdown",
   "id": "21709264-f496-476b-ac20-f40bde9a8ea1",
   "metadata": {},
   "source": [
    "## Q1, Create a vehicle class with an init method having instance variables as name_of_vehicle, max_speed and average_of_vehicle."
   ]
  },
  {
   "cell_type": "code",
   "execution_count": null,
   "id": "ab7be559-f5f8-4f4a-bbfc-da96b832cbf5",
   "metadata": {},
   "outputs": [],
   "source": [
    "class Vehicle:\n",
    "    def __init__(self, name_of_vehicle, max_speed, average_of_vehicle):\n",
    "        self.name_of_vehicle = name_of_vehicle\n",
    "        self.max_speed = max_speed\n",
    "        self.average_of_vehicle = average_of_vehicle\n"
   ]
  },
  {
   "cell_type": "code",
   "execution_count": null,
   "id": "5c8d9112-c3a7-4c56-8f1e-72b330a2f8fa",
   "metadata": {},
   "outputs": [],
   "source": [
    "my_vehicle = Vehicle(\"Mercedes Model Class-c\", 250, 300)\n"
   ]
  },
  {
   "cell_type": "code",
   "execution_count": null,
   "id": "c46d3145-b6c6-4b08-b88c-89616f12bb23",
   "metadata": {},
   "outputs": [
    {
     "name": "stdout",
     "output_type": "stream",
     "text": [
      "Mercedes Model Class-c\n",
      "250\n",
      "300\n"
     ]
    }
   ],
   "source": [
    "print(my_vehicle.name_of_vehicle)  \n",
    "print(my_vehicle.max_speed)  \n",
    "print(my_vehicle.average_of_vehicle)  \n"
   ]
  },
  {
   "cell_type": "markdown",
   "id": "f9291f5a-cb0e-418b-9329-42b7b4857499",
   "metadata": {},
   "source": [
    "## Q2. Create a child class car from the vehicle class created in Que 1, which will inherit the vehicle class.Create a method named seating_capacity which takes capacity as an argument and returns the name of the vehicle and its seating capacity."
   ]
  },
  {
   "cell_type": "code",
   "execution_count": 5,
   "id": "e659ee21-f30c-4b4e-ada7-92b88fad2652",
   "metadata": {},
   "outputs": [],
   "source": [
    "class Vehicle:\n",
    "    def __init__(self, name, max_speed):\n",
    "        self.name = name\n",
    "        self.max_speed = max_speed\n",
    "\n",
    "    def __str__(self):\n",
    "        return f\"{self.name}, Max Speed: {self.max_speed} mph\"\n",
    "\n",
    "class Car(Vehicle):\n",
    "    def seating_capacity(self, capacity):\n",
    "        return f\"{self.name} has a seating capacity of {capacity} people\"\n",
    "\n"
   ]
  },
  {
   "cell_type": "code",
   "execution_count": 8,
   "id": "8f823237-bc44-40be-bcaf-c7eca6b8f55f",
   "metadata": {},
   "outputs": [
    {
     "name": "stdout",
     "output_type": "stream",
     "text": [
      "Mercedes Model Class-c, Max Speed: 250 mph\n",
      "Mercedes Model Class-c has a seating capacity of 5 people\n"
     ]
    }
   ],
   "source": [
    "my_car = Car(\"Mercedes Model Class-c\", 250)\n",
    "print(my_car)  \n",
    "print(my_car.seating_capacity(5))  \n"
   ]
  },
  {
   "cell_type": "markdown",
   "id": "5427c042-53bc-4992-b0c7-4d724cf4f047",
   "metadata": {},
   "source": [
    "## Q3. What is multiple inheritance? Write a python code to demonstrate multiple inheritance."
   ]
  },
  {
   "cell_type": "markdown",
   "id": "a307c867-bc17-40ef-9746-c4710f366e1b",
   "metadata": {},
   "source": [
    "## ANS ==\n",
    "Multiple inheritance is a feature in object-oriented programming languages, where a class can inherit from more than one base class. This means that a derived class can have multiple parent classes, and it can access the properties and methods of all of its parent classes."
   ]
  },
  {
   "cell_type": "code",
   "execution_count": 13,
   "id": "8312a7dd-9b8c-40f7-ba1d-7be19868a5ee",
   "metadata": {},
   "outputs": [
    {
     "name": "stdout",
     "output_type": "stream",
     "text": [
      "Pigeon is eating.\n",
      "Pigeon is flying.\n"
     ]
    }
   ],
   "source": [
    "## Example:-\n",
    "class Animal:\n",
    "    def __init__(self, name):\n",
    "        self.name = name\n",
    "\n",
    "    def eat(self):\n",
    "        print(f\"{self.name} is eating.\")\n",
    "\n",
    "class Flyable:\n",
    "    def fly(self):\n",
    "        print(f\"{self.name} is flying.\")\n",
    "\n",
    "\n",
    "class Bird(Animal, Flyable):\n",
    "    def __init__(self, name):\n",
    "        super().__init__(name)\n",
    "\n",
    "bird = Bird(\"Pigeon\")\n",
    "bird.eat()\n",
    "bird.fly()\n"
   ]
  },
  {
   "cell_type": "markdown",
   "id": "d2a0a0d0-b33e-4dee-a988-2de15a74908b",
   "metadata": {},
   "source": [
    "## Q4.What are getter and setter in python? Create a class and create a getter and a setter method in this class."
   ]
  },
  {
   "cell_type": "markdown",
   "id": "4a5aa65e-0b5f-4657-b8be-61e514f5c73e",
   "metadata": {},
   "source": [
    "## ANS ==\n",
    "Getter and setter methods are used to get and set the values of private class variables or attributes. Getter methods return the value of a private attribute, while setter methods set or change the value of a private attribute"
   ]
  },
  {
   "cell_type": "code",
   "execution_count": 57,
   "id": "5b9e639b-1808-4a9c-abd5-7edfdf739936",
   "metadata": {},
   "outputs": [],
   "source": [
    "class Person:\n",
    "    def __init__(self,name,age):\n",
    "        self._name = name\n",
    "        self._age  = age\n",
    "        \n",
    "    def get_name(self):\n",
    "        return self._name\n",
    "    \n",
    "    def set_name(self,name):\n",
    "        self._name = name\n",
    "        \n",
    "    def get_age(self):\n",
    "        return self._age\n",
    "    \n",
    "    def set_age(self,age):\n",
    "        if age < 0:\n",
    "            raise VAlueError(\"Age must be a positive number\")\n",
    "            self.age = age"
   ]
  },
  {
   "cell_type": "code",
   "execution_count": 38,
   "id": "37837240-cb47-45f0-957c-3e8d6bededff",
   "metadata": {},
   "outputs": [
    {
     "name": "stdout",
     "output_type": "stream",
     "text": [
      "Ayush\n"
     ]
    }
   ],
   "source": [
    "person = Person(\"Ayush\", 20)\n",
    "name = person.get_name()\n",
    "print(name) \n"
   ]
  },
  {
   "cell_type": "code",
   "execution_count": 39,
   "id": "9e3b3932-d684-4434-b6a5-d8b523355ce5",
   "metadata": {},
   "outputs": [
    {
     "name": "stdout",
     "output_type": "stream",
     "text": [
      "Sudh\n"
     ]
    }
   ],
   "source": [
    "person.set_name(\"Sudh\")\n",
    "name = person.get_name()\n",
    "print(name) \n"
   ]
  },
  {
   "cell_type": "code",
   "execution_count": 40,
   "id": "cf87b8d0-38ac-431f-b5b1-ecd9a20e95b4",
   "metadata": {},
   "outputs": [
    {
     "name": "stdout",
     "output_type": "stream",
     "text": [
      "20\n"
     ]
    }
   ],
   "source": [
    "age = person.get_age()\n",
    "print(age)"
   ]
  },
  {
   "cell_type": "code",
   "execution_count": 58,
   "id": "40dc9d61-0797-4d1f-a4a5-53f3f6d36ea8",
   "metadata": {},
   "outputs": [
    {
     "name": "stdout",
     "output_type": "stream",
     "text": [
      "25\n"
     ]
    }
   ],
   "source": [
    "person.set_age(25)\n",
    "name = person.get_age()\n",
    "print(person.get_age()) \n"
   ]
  },
  {
   "cell_type": "markdown",
   "id": "29068af5-6c53-457d-9f28-00bcd9ce287e",
   "metadata": {},
   "source": [
    "## Q5.What is method overriding in python? Write a python code to demonstrate method overriding."
   ]
  },
  {
   "cell_type": "markdown",
   "id": "bd770518-c3d1-49bc-b91e-f3ab410a53aa",
   "metadata": {},
   "source": [
    "## ANS = \n",
    "Method overriding is the ability of a subclass to provide its own implementation of a method that is already defined in its superclass. When a method is overridden, the subclass's implementation of the method is used instead of the superclass's implementation"
   ]
  },
  {
   "cell_type": "code",
   "execution_count": 61,
   "id": "020a1d9d-c4b0-4bcc-a084-cb1ac81d0ff8",
   "metadata": {},
   "outputs": [
    {
     "name": "stdout",
     "output_type": "stream",
     "text": [
      "The dog barks\n",
      "The cow MAA\n"
     ]
    }
   ],
   "source": [
    "## Example :-\n",
    "class Animal:\n",
    "    def speak(self):\n",
    "        print(\"The animal speaks\")\n",
    "        \n",
    "class Dog(Animal):\n",
    "    def speak(self):\n",
    "        print(\"The dog barks\")\n",
    "        \n",
    "class Cow(Animal):\n",
    "    def speak(self):\n",
    "        print(\"The cow MAA\")\n",
    "        \n",
    "dog= Dog()\n",
    "cow = Cow()\n",
    "\n",
    "dog.speak()\n",
    "cow.speak()"
   ]
  },
  {
   "cell_type": "code",
   "execution_count": null,
   "id": "257f8bee-5cb0-49ad-8c93-8deed2a0e4f6",
   "metadata": {},
   "outputs": [],
   "source": []
  }
 ],
 "metadata": {
  "kernelspec": {
   "display_name": "Python 3 (ipykernel)",
   "language": "python",
   "name": "python3"
  },
  "language_info": {
   "codemirror_mode": {
    "name": "ipython",
    "version": 3
   },
   "file_extension": ".py",
   "mimetype": "text/x-python",
   "name": "python",
   "nbconvert_exporter": "python",
   "pygments_lexer": "ipython3",
   "version": "3.10.8"
  }
 },
 "nbformat": 4,
 "nbformat_minor": 5
}
