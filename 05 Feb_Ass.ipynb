{
 "cells": [
  {
   "cell_type": "markdown",
   "id": "882a2d42-a5c0-42bd-a6d9-e346f37975a6",
   "metadata": {},
   "source": [
    "## Q1. Explain Class and Object with respect to Object-Oriented Programming. Give a suitable example."
   ]
  },
  {
   "cell_type": "markdown",
   "id": "0ba169bf-0f1d-466b-8093-f6e006406840",
   "metadata": {},
   "source": [
    "## ANS ==\n",
    "In object-oriented programming (OOP), a class is a blueprint or a template for creating objects that define the properties and behaviors of the objects. \n",
    "A object is an instance of a class. It is created from the blueprint provided by the class and has its own unique state and behavior."
   ]
  },
  {
   "cell_type": "code",
   "execution_count": 1,
   "id": "09f0cb26-8b01-49b1-86fb-19c1ff183053",
   "metadata": {},
   "outputs": [
    {
     "name": "stdout",
     "output_type": "stream",
     "text": [
      "black\n",
      "WR-V\n",
      "The car has started.\n",
      "The car is accelerating.\n"
     ]
    }
   ],
   "source": [
    "## Examples:- \n",
    "class Car:\n",
    "    def __init__(self, color, make, model, year):\n",
    "        self.color = color\n",
    "        self.make = make\n",
    "        self.model = model\n",
    "        self.year = year\n",
    "\n",
    "    def start(self):\n",
    "        print(\"The car has started.\")\n",
    "\n",
    "    def stop(self):\n",
    "        print(\"The car has stopped.\")\n",
    "\n",
    "    def accelerate(self):\n",
    "        print(\"The car is accelerating.\")\n",
    "\n",
    "    def brake(self):\n",
    "        print(\"The car is braking.\")\n",
    "\n",
    "\n",
    "car1 = Car(\"black\", \"Toyota\", \"Fortuner\", 2019)\n",
    "car2 = Car(\"white\", \"Honda\", \"WR-V\", 2021)\n",
    "\n",
    "print(car1.color)  \n",
    "print(car2.model)  \n",
    "\n",
    "car1.start()  \n",
    "car2.accelerate() \n"
   ]
  },
  {
   "cell_type": "markdown",
   "id": "2426d8a9-0c82-4219-a8f4-e91c74829667",
   "metadata": {},
   "source": [
    "## Q2. Name the four pillars of OOPs."
   ]
  },
  {
   "cell_type": "markdown",
   "id": "7f6dd664-9766-4e4a-a58b-ece79412bc25",
   "metadata": {},
   "source": [
    "## ANS ==\n",
    "The Four pillars of Oops are:-\n",
    "1.Encapsulation\n",
    "2.Inheritance\n",
    "3.Polymorphism\n",
    "4.Abstraction"
   ]
  },
  {
   "cell_type": "markdown",
   "id": "077bf80d-b100-464c-9f47-36e1dd2d6adf",
   "metadata": {},
   "source": [
    "## Q3. Explain why the __init__() function is used. Give a suitable example."
   ]
  },
  {
   "cell_type": "markdown",
   "id": "f88da36e-b148-4466-8c92-ad94034126c1",
   "metadata": {},
   "source": [
    "## ANS ==\n",
    "The __init__() function is a special method in Python classes that is called when an instance of the class is created. It is used to initialize the attributes of the object and perform any other necessary setup for the object"
   ]
  },
  {
   "cell_type": "code",
   "execution_count": 4,
   "id": "a5137a59-de6c-4a94-944c-62b878e6bea7",
   "metadata": {},
   "outputs": [
    {
     "name": "stdout",
     "output_type": "stream",
     "text": [
      "2022 Mercedes C-Class\n"
     ]
    }
   ],
   "source": [
    "class Car:\n",
    "    def __init__(self, make, model, year):\n",
    "        self.make = make\n",
    "        self.model = model\n",
    "        self.year = year\n",
    "        self.odometer_reading = 0\n",
    "        \n",
    "    def get_descriptive_name(self):\n",
    "        full_name = f\"{self.year} {self.make} {self.model}\"\n",
    "        return full_name.title()\n",
    "my_car = Car(\"Mercedes\", \"C-Class\", 2022)\n",
    "print(my_car.get_descriptive_name())\n"
   ]
  },
  {
   "cell_type": "markdown",
   "id": "d4f62a76-aa7a-4971-9835-73f1f7c89736",
   "metadata": {},
   "source": [
    "## Q4.Why self is used in OOPs?"
   ]
  },
  {
   "cell_type": "markdown",
   "id": "01453da6-0ced-4eb6-86ca-450e8609e21c",
   "metadata": {},
   "source": [
    "## ANS== \n",
    "self refers to a reference to the current object or instance of a class. It is used to access the attributes and methods of the current object"
   ]
  },
  {
   "cell_type": "markdown",
   "id": "46af9fa5-6716-460f-a47c-f150017c5bbf",
   "metadata": {},
   "source": [
    "## Q5. What is inheritance? Give an example for each type of inheritance."
   ]
  },
  {
   "cell_type": "markdown",
   "id": "51678224-6dd2-414d-bcd8-d5f51413461c",
   "metadata": {},
   "source": [
    "## ANS ==\n",
    "Inheritance is a fundamental concept in object-oriented programming, which allows a new class to be based on an existing class. Inheritance is used to create new classes that share some or all of the characteristics of an existing class, while also allowing for customization or extension of those characteristics"
   ]
  },
  {
   "cell_type": "code",
   "execution_count": 13,
   "id": "47470bcb-37f7-4c39-837e-a5231af75e67",
   "metadata": {},
   "outputs": [
    {
     "name": "stdout",
     "output_type": "stream",
     "text": [
      "red\n",
      "Starting the car engine\n"
     ]
    }
   ],
   "source": [
    "## 1. SIngle Inheritance Example\n",
    "class Vehicle:\n",
    "   def __init__(self, color):\n",
    "      self.color = color\n",
    "\n",
    "class Car(Vehicle):\n",
    "   def start_engine(self):\n",
    "      print(\"Starting the car engine\")\n",
    "\n",
    "my_car = Car(\"red\")\n",
    "print(my_car.color)  \n",
    "my_car.start_engine()  \n"
   ]
  },
  {
   "cell_type": "code",
   "execution_count": 14,
   "id": "53923c40-b80b-402e-a637-2449f61bf814",
   "metadata": {},
   "outputs": [
    {
     "name": "stdout",
     "output_type": "stream",
     "text": [
      "Chirp\n"
     ]
    }
   ],
   "source": [
    "## 2. MUtiple Inheritance Example\n",
    "class Animal:\n",
    "   def make_sound(self):\n",
    "      pass\n",
    "\n",
    "class Flyable:\n",
    "   def fly(self):\n",
    "      pass\n",
    "\n",
    "class Bird(Animal, Flyable):\n",
    "   def make_sound(self):\n",
    "      print(\"Chirp\")\n",
    "\n",
    "my_bird = Bird()\n",
    "my_bird.make_sound()  \n",
    "my_bird.fly()  \n"
   ]
  },
  {
   "cell_type": "code",
   "execution_count": 15,
   "id": "cd94ba14-a25d-4cfa-b03d-3ef1beb27cb5",
   "metadata": {},
   "outputs": [
    {
     "name": "stdout",
     "output_type": "stream",
     "text": [
      "Woof\n"
     ]
    }
   ],
   "source": [
    "## MUlti-level Inheritance\n",
    "class Animal:\n",
    "   def make_sound(self):\n",
    "      pass\n",
    "\n",
    "class Mammal(Animal):\n",
    "   def feed_baby_with_milk(self):\n",
    "      pass\n",
    "\n",
    "class Dog(Mammal):\n",
    "   def make_sound(self):\n",
    "      print(\"Woof\")\n",
    "\n",
    "my_dog = Dog()\n",
    "my_dog.make_sound() \n",
    "my_dog.feed_baby_with_milk()  \n"
   ]
  },
  {
   "cell_type": "code",
   "execution_count": null,
   "id": "5a1157a1-889a-47ae-9fd3-ac5c1edfca18",
   "metadata": {},
   "outputs": [],
   "source": []
  }
 ],
 "metadata": {
  "kernelspec": {
   "display_name": "Python 3 (ipykernel)",
   "language": "python",
   "name": "python3"
  },
  "language_info": {
   "codemirror_mode": {
    "name": "ipython",
    "version": 3
   },
   "file_extension": ".py",
   "mimetype": "text/x-python",
   "name": "python",
   "nbconvert_exporter": "python",
   "pygments_lexer": "ipython3",
   "version": "3.10.8"
  }
 },
 "nbformat": 4,
 "nbformat_minor": 5
}
