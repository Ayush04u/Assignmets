{
 "cells": [
  {
   "cell_type": "markdown",
   "id": "4e4cacd9-918f-4cfd-bbf1-52ae04a7cb4a",
   "metadata": {},
   "source": [
    "## Q1. What is multiprocessing in python? Why is it useful?"
   ]
  },
  {
   "cell_type": "markdown",
   "id": "8b87abd5-7637-4e5a-bcb6-2c434923a064",
   "metadata": {},
   "source": [
    "## ANS ==\n",
    "Multiprocessing in Python is a module that allows developers to execute multiple processes concurrently, each with its own instance of the Python interpreter. This means that instead of running a program sequentially, with one task being completed before another starts, multiprocessing can run multiple tasks simultaneously on different processor cores. This can help to improve the speed and efficiency of a program, particularly when dealing with complex, CPU-intensive tasks."
   ]
  },
  {
   "cell_type": "markdown",
   "id": "70f511a2-25f0-47ee-aac4-6d795499cfed",
   "metadata": {},
   "source": [
    "Multiprocessing is useful in Python for many reasons like:\n",
    "\n",
    "1. Improved performance: By distributing the workload across multiple processes, multiprocessing can take advantage of the processing power available on modern CPUs and can complete tasks faster than a single-threaded program.\n",
    "\n",
    "2. Simplified parallel programming: Multiprocessing allows developers to write code that takes advantage of parallel processing without having to deal with the complexities of low-level concurrency programming.\n",
    "\n",
    "3. Better resource utilization: By running multiple processes, multiprocessing can help to better utilize available system resources, such as CPU cores and memory.\n",
    "\n",
    "4. Improved fault tolerance: Because each process runs in its own memory space, if one process fails or crashes, it does not affect the other processes."
   ]
  },
  {
   "cell_type": "markdown",
   "id": "fcf5fa6d-de6d-4984-95d7-0c4aa591afa7",
   "metadata": {},
   "source": [
    "## Q2. What are the differences between multiprocessing and multithreading?"
   ]
  },
  {
   "cell_type": "markdown",
   "id": "8d89218e-8e9f-4a31-b16e-34ce83fb5186",
   "metadata": {},
   "source": [
    "## ANS ==\n",
    "Process vs Thread: In multiprocessing, each process runs in its own separate memory space and has its own interpreter, while in multithreading, all threads share the same memory space and interpreter.\n",
    "\n",
    "Communication: Inter-process communication (IPC) is required for communication between processes in multiprocessing, which can be more complex to implement than communication between threads in multithreading.\n",
    "\n",
    "Resource usage: Multiprocessing creates new processes, which require more system resources than threads. Therefore, multithreading is more efficient in terms of resource usage.\n",
    "\n",
    "Scalability: Multiprocessing can scale better than multithreading since it can utilize multiple CPUs, while multithreading is limited to a single CPU.\n",
    "\n",
    "Fault tolerance: In multiprocessing, if one process fails or crashes, it does not affect the other processes, while in multithreading, a thread crash can potentially affect the entire program.\n",
    "\n",
    "\n",
    "\n",
    "\n",
    "\n",
    "\n"
   ]
  },
  {
   "cell_type": "markdown",
   "id": "bd21426c-fb8c-4665-a415-5c526f2ea85c",
   "metadata": {},
   "source": [
    "## Q3. Write a python code to create a process using the multiprocessing module."
   ]
  },
  {
   "cell_type": "code",
   "execution_count": 3,
   "id": "6900a11f-aef4-406f-b861-126c1c6d79dc",
   "metadata": {},
   "outputs": [
    {
     "name": "stdout",
     "output_type": "stream",
     "text": [
      "Starting new process...\n",
      "Process completed\n"
     ]
    }
   ],
   "source": [
    "import multiprocessing\n",
    "def my_func():\n",
    "    \"\"\"Function to be executed in the new process\"\"\"\n",
    "    print(\"Starting new process...\")\n",
    "    print(\"Process completed\")\n",
    "    \n",
    "if __name__ == '__main__':\n",
    "    my_process = multiprocessing.Process(target=my_func)\n",
    "    my_process.start()\n",
    "    my_process.join()"
   ]
  },
  {
   "cell_type": "markdown",
   "id": "5fbfb117-0c5c-4d78-89d5-65b2e397a062",
   "metadata": {},
   "source": [
    "## Q4. What is a multiprocessing pool in python? Why is it used?"
   ]
  },
  {
   "cell_type": "markdown",
   "id": "d43972ed-6f23-4d42-9641-7c0610edb10d",
   "metadata": {},
   "source": [
    "## ANS ==\n",
    "A multiprocessing pool is a mechanism that enables parallel processing of tasks across multiple CPU cores. A pool creates a group of worker processes that are available to execute tasks in parallel. Each worker process can work on a single task at a time, and once it completes the task, it is made available to take on another task.\n",
    "\n",
    "A multiprocessing pool is used to speed up the execution of CPU-bound tasks in Python. By splitting the work across multiple cores, a pool can perform computations much faster than a single-core approach. This is especially useful when you need to execute computationally intensive tasks, such as data processing, image processing, machine learning, and scientific simulations."
   ]
  },
  {
   "cell_type": "markdown",
   "id": "01751ffe-e6f7-44b7-ad8e-4ea4c0e37353",
   "metadata": {},
   "source": [
    "## Q5. How can we create a pool of worker processes in python using the multiprocessing module?"
   ]
  },
  {
   "cell_type": "markdown",
   "id": "b4345905-4056-459c-9556-1862fde8293b",
   "metadata": {},
   "source": [
    "## ANS ==\n",
    "To create a pool of worker processes in Python using the multiprocessing module, we  can follow these steps:"
   ]
  },
  {
   "cell_type": "code",
   "execution_count": 5,
   "id": "434630ca-cbf9-4b5c-80ae-97693074dd86",
   "metadata": {},
   "outputs": [],
   "source": [
    "##1.Import the multiprocessing module:\n",
    "import multiprocessing\n",
    "## 2.Create a function that you want to run in parallel. This function should take a single argument, which will be the data that you want to process:\n",
    "def process_data(data):\n",
    "    return processed_data\n",
    "## 3. Create a Pool object using the multiprocessing.Pool() function. The Pool object will manage the worker processes for you:\n",
    "pool = multiprocessing.Pool()\n",
    "## 4. Use the pool.map() method to apply the process_data() function to a list of data. The map() method will distribute the data across the worker processes and return the results as a list:\n",
    "data_list = []\n",
    "processed_data_list = pool.map(process_data, data_list)\n",
    "## 5.  When you are finished, you should close the Pool object to free up system resources:\n",
    "pool.close()\n",
    "pool.join()"
   ]
  },
  {
   "cell_type": "markdown",
   "id": "e7e3bd6c-5b81-454a-a9d5-40195ca08bbf",
   "metadata": {},
   "source": [
    "## Q6.Write a python program to create 4 processes, each process should print a different number using the multiprocessing module in python."
   ]
  },
  {
   "cell_type": "code",
   "execution_count": 7,
   "id": "bb78406e-2c0a-4537-a38c-efaa92271412",
   "metadata": {},
   "outputs": [
    {
     "name": "stdout",
     "output_type": "stream",
     "text": [
      "Process Process-258 prints\n",
      "Process Process-259 prints\n",
      "Process Process-260 prints\n",
      "Process Process-261 prints\n"
     ]
    }
   ],
   "source": [
    "import multiprocessing\n",
    "\n",
    "def print_number(num):\n",
    "    print(\"Process {} prints\".format(multiprocessing.current_process().name,num))\n",
    "if __name__ == '__main__':\n",
    "    process_list = []\n",
    "    for i in range(1,5):\n",
    "        process = multiprocessing.Process(target=print_number, args=(i,))\n",
    "        process_list.append(process)\n",
    "        process.start()\n",
    "    for process in process_list:\n",
    "        process.join()"
   ]
  },
  {
   "cell_type": "code",
   "execution_count": null,
   "id": "b4fa4e6a-fff9-490e-a0bd-c46773732948",
   "metadata": {},
   "outputs": [],
   "source": []
  }
 ],
 "metadata": {
  "kernelspec": {
   "display_name": "Python 3 (ipykernel)",
   "language": "python",
   "name": "python3"
  },
  "language_info": {
   "codemirror_mode": {
    "name": "ipython",
    "version": 3
   },
   "file_extension": ".py",
   "mimetype": "text/x-python",
   "name": "python",
   "nbconvert_exporter": "python",
   "pygments_lexer": "ipython3",
   "version": "3.10.8"
  }
 },
 "nbformat": 4,
 "nbformat_minor": 5
}
