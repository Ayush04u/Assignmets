{
 "cells": [
  {
   "cell_type": "markdown",
   "id": "f1241c05-063e-48a7-b934-b6a1dbcd4094",
   "metadata": {},
   "source": [
    "## Q1. You are writing code for a company. The requirement of the company is that you create a python function that will check whether the password entered by the user is correct or not. The function should take the password as input and return the string “Valid Password” if the entered password follows the below-given password guidelines else it should return “Invalid Password”. \n"
   ]
  },
  {
   "cell_type": "code",
   "execution_count": 1,
   "id": "5e7a6225-78f5-40da-b6a6-ad49cf6f5710",
   "metadata": {},
   "outputs": [],
   "source": [
    "import re\n",
    "\n",
    "def check_password(password):\n",
    "    if len(password) != 10:\n",
    "        return \"Invalid Password\"\n",
    "    \n",
    "    if len(re.findall(r'[A-Z]', password)) < 2 or len(re.findall(r'[a-z]', password)) < 2:\n",
    "        return \"Invalid Password\"\n",
    "    \n",
    "    if len(re.findall(r'\\d', password)) < 1 or len(re.findall(r'[!@#$%^&*(),.?\":{}|<>]', password)) < 3:\n",
    "        return \"Invalid Password\"\n",
    "    return \"Valid Password\"\n"
   ]
  },
  {
   "cell_type": "code",
   "execution_count": 7,
   "id": "fd870a51-bb74-422e-a5f7-6ef8c74982f8",
   "metadata": {},
   "outputs": [
    {
     "name": "stdout",
     "output_type": "stream",
     "text": [
      "Valid Password\n",
      "Invalid Password\n"
     ]
    }
   ],
   "source": [
    "password1 = \"ABcd123#!@\"\n",
    "result = check_password(password1)\n",
    "print(result)\n",
    "\n",
    "password2 = \"abc123$%\"\n",
    "result = check_password(password2)\n",
    "print(result) \n"
   ]
  },
  {
   "cell_type": "markdown",
   "id": "4b7e58e1-a02c-4d74-8c34-a17f245e3270",
   "metadata": {},
   "source": [
    "## Q2. Solve the below-given questions using at least one of the following:\n",
    "1. Lambda functioJ\n",
    "2. Filter functioJ\n",
    "3. Zap functioJ\n",
    "4. List ComprehensioI\n",
    " Check if the string starts with a particular letter\n",
    " Check if the string is numericY\n",
    " Sort a list of tuples having fruit names and their quantity. [(\"mango\",99),(\"orange\",80), (\"grapes\", 1000)-\n",
    " Find the squares of numbers from 1 to 10Y\n",
    " Find the cube root of numbers from 1 to 10Y\n",
    " Check if a given number is even\n",
    " Filter odd numbers from the given list [1,2,3,4,5,6,7,8,9,10-\n",
    " Sort a list of integers into positive and negative integers lists.\n",
    "[1,2,3,4,5,6,-1,-2,-3,-4,-5,0]"
   ]
  },
  {
   "cell_type": "markdown",
   "id": "b9bd13b1-c56b-4c50-b6a0-7346e27794e2",
   "metadata": {},
   "source": [
    "## 1. Check if the string starts with a particular letter"
   ]
  },
  {
   "cell_type": "code",
   "execution_count": 9,
   "id": "b5f29cfb-7cdb-4d37-b598-e09badcc01b3",
   "metadata": {},
   "outputs": [
    {
     "name": "stdout",
     "output_type": "stream",
     "text": [
      "['papaya']\n"
     ]
    }
   ],
   "source": [
    "## Using lambda function and startswith() method of string:\n",
    "string_list = ['apple', 'banana', 'papaya', 'mango', 'elderberry']\n",
    "letter = 'p'\n",
    "result = filter(lambda x: x.startswith(letter), string_list)\n",
    "print(list(result))\n"
   ]
  },
  {
   "cell_type": "markdown",
   "id": "57ce280b-df85-420c-8786-9523d3e43d98",
   "metadata": {},
   "source": [
    "## 2. Check if the string is numeric"
   ]
  },
  {
   "cell_type": "code",
   "execution_count": 10,
   "id": "fd31d797-f1ef-4887-a19e-a412a6dda43c",
   "metadata": {},
   "outputs": [
    {
     "name": "stdout",
     "output_type": "stream",
     "text": [
      "['123']\n"
     ]
    }
   ],
   "source": [
    "## Using lambda function and isnumeric() method of string:\n",
    "string_list = ['mango', '123', 'pineapple', 'date', '376.45']\n",
    "result = filter(lambda x: x.isnumeric(), string_list)\n",
    "print(list(result))\n"
   ]
  },
  {
   "cell_type": "markdown",
   "id": "17caaffd-d5ee-4e1e-85b7-ee19626160fe",
   "metadata": {},
   "source": [
    "## 3. Sort a list of tuples having fruit names and their quantity"
   ]
  },
  {
   "cell_type": "code",
   "execution_count": 11,
   "id": "86454cb1-9b87-449f-8926-9249470ffe09",
   "metadata": {},
   "outputs": [
    {
     "name": "stdout",
     "output_type": "stream",
     "text": [
      "[('orange', 80), ('mango', 99), ('grapes', 1000)]\n"
     ]
    }
   ],
   "source": [
    "## Using lambda function and sorted() method:\n",
    "fruits = [(\"mango\",99),(\"orange\",80), (\"grapes\", 1000)]\n",
    "result = sorted(fruits, key=lambda x: x[1])\n",
    "print(result)\n"
   ]
  },
  {
   "cell_type": "markdown",
   "id": "9fb5a4b4-0cf9-42d2-9c0d-14754e4a247d",
   "metadata": {},
   "source": [
    "## 4.Find the squares of numbers from 1 to 10:"
   ]
  },
  {
   "cell_type": "code",
   "execution_count": 12,
   "id": "4dd87df6-8274-4de3-9b74-51076fc4910a",
   "metadata": {},
   "outputs": [
    {
     "name": "stdout",
     "output_type": "stream",
     "text": [
      "[1, 4, 9, 16, 25, 36, 49, 64, 81, 100]\n"
     ]
    }
   ],
   "source": [
    "## Using list comprehension:\n",
    "sqr = [i**2 for i in range(1,11)]\n",
    "print(sqr)\n"
   ]
  },
  {
   "cell_type": "markdown",
   "id": "84fa2219-50e8-420c-9026-cda76e87ac25",
   "metadata": {},
   "source": [
    "## 5. Find the cube root of numbers from 1 to 10"
   ]
  },
  {
   "cell_type": "code",
   "execution_count": 14,
   "id": "3820d62d-b7da-45a3-937a-f3a125eae083",
   "metadata": {},
   "outputs": [
    {
     "name": "stdout",
     "output_type": "stream",
     "text": [
      "[1.0, 1.26, 1.44, 1.59, 1.71, 1.82, 1.91, 2.0, 2.08, 2.15]\n"
     ]
    }
   ],
   "source": [
    "## USing list comprehension and math library\n",
    "import math\n",
    "result = [round(math.pow(i, 1/3),2) for i in range(1,11)]\n",
    "print(result)\n"
   ]
  },
  {
   "cell_type": "markdown",
   "id": "d3ed6cdd-c43d-4525-aca2-08d86866989e",
   "metadata": {},
   "source": [
    "## 6. Check if the given number is even"
   ]
  },
  {
   "cell_type": "code",
   "execution_count": 16,
   "id": "3a51a5b2-ebe5-4a6f-885f-c8f97ead3576",
   "metadata": {},
   "outputs": [
    {
     "name": "stdout",
     "output_type": "stream",
     "text": [
      "False\n"
     ]
    }
   ],
   "source": [
    "## Using lambda function and mudulo operator\n",
    "number = 9\n",
    "result = lambda x: x%2 ==0\n",
    "print(result(number))"
   ]
  },
  {
   "cell_type": "markdown",
   "id": "eee34e8c-7c9a-4cb9-8804-ad3d38c7a15d",
   "metadata": {},
   "source": [
    "## 7.Filter odd numbers from the given list:"
   ]
  },
  {
   "cell_type": "code",
   "execution_count": 17,
   "id": "7cd855f2-5ef2-4b01-a51f-32209e7c6776",
   "metadata": {},
   "outputs": [
    {
     "name": "stdout",
     "output_type": "stream",
     "text": [
      "[1, 3, 5, 7, 9]\n"
     ]
    }
   ],
   "source": [
    "## Using the filter function and lambda functio\n",
    "numbers = [1,2,3,4,5,6,7,8,9,10]\n",
    "result = filter(lambda x: x%2 != 0, numbers)\n",
    "print(list(result))\n"
   ]
  },
  {
   "cell_type": "markdown",
   "id": "2b7c614d-483b-4c54-8289-7c184c2d1831",
   "metadata": {},
   "source": [
    "## 8.Sort a list of integers into positive and negative integers lists"
   ]
  },
  {
   "cell_type": "code",
   "execution_count": 19,
   "id": "69e8435c-9d95-47a0-bafb-f127c9881f99",
   "metadata": {},
   "outputs": [
    {
     "name": "stdout",
     "output_type": "stream",
     "text": [
      "[1, 2, 3, 4, 5, 6]\n",
      "[-7, -8, -9, -10, -11]\n"
     ]
    }
   ],
   "source": [
    "numbers = [1,2,3,4,5,6,-7,-8,-9,-10,-11,0]\n",
    "positive_list = [i for i in numbers if i > 0]\n",
    "negative_list = [i for i in numbers if i < 0]\n",
    "print(positive_list)\n",
    "print(negative_list)\n"
   ]
  },
  {
   "cell_type": "code",
   "execution_count": null,
   "id": "a954ee52-1d1f-4ac2-b950-4b5396daedca",
   "metadata": {},
   "outputs": [],
   "source": []
  }
 ],
 "metadata": {
  "kernelspec": {
   "display_name": "Python 3 (ipykernel)",
   "language": "python",
   "name": "python3"
  },
  "language_info": {
   "codemirror_mode": {
    "name": "ipython",
    "version": 3
   },
   "file_extension": ".py",
   "mimetype": "text/x-python",
   "name": "python",
   "nbconvert_exporter": "python",
   "pygments_lexer": "ipython3",
   "version": "3.10.8"
  }
 },
 "nbformat": 4,
 "nbformat_minor": 5
}
