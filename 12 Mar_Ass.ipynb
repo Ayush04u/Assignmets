{
 "cells": [
  {
   "cell_type": "markdown",
   "id": "91dec4b8-0e34-455b-b030-2ecc0a0735c0",
   "metadata": {},
   "source": [
    "## Q1. Calculate the 95% confidence interval for a sample of data with a mean of 50 and a standard deviation of 5 using Python. Interpret the results."
   ]
  },
  {
   "cell_type": "code",
   "execution_count": 1,
   "id": "15a7cf4d-a605-4f92-bf8b-7d4b6dd2595f",
   "metadata": {},
   "outputs": [
    {
     "name": "stdout",
     "output_type": "stream",
     "text": [
      "95% Confidence Interval: (48.1329693162095, 51.8670306837905)\n"
     ]
    }
   ],
   "source": [
    "import scipy.stats as stats\n",
    "\n",
    "mean = 50\n",
    "std_dev = 5\n",
    "sample_size = 30 \n",
    "sem = std_dev / (sample_size ** 0.5)\n",
    "margin_of_error = stats.t.ppf(0.975, df=sample_size - 1) * sem\n",
    "confidence_interval = (mean - margin_of_error, mean + margin_of_error)\n",
    "print(f\"95% Confidence Interval: {confidence_interval}\")\n"
   ]
  },
  {
   "cell_type": "markdown",
   "id": "b78a17cc-852d-43c0-8f0e-d44f8fab5c3a",
   "metadata": {},
   "source": [
    "## Q2. Conduct a chi-square goodness of fit test to determine if the distribution of colors of M&Ms in a bag matches the expected distribution of 20% blue, 20% orange, 20% green, 10% yellow, 10% red, and 20% brown. Use Python to perform the test with a significance level of 0.05."
   ]
  },
  {
   "cell_type": "code",
   "execution_count": 2,
   "id": "f84be38f-6ed3-4637-8be3-3ebcc4e58c61",
   "metadata": {},
   "outputs": [
    {
     "name": "stdout",
     "output_type": "stream",
     "text": [
      "Chi-square statistic: 3.1\n",
      "P-value: 0.6845720146699826\n",
      "Fail to reject the null hypothesis. The distribution of colors matches the expected distribution.\n"
     ]
    }
   ],
   "source": [
    "# Ans ==\n",
    "import numpy as np\n",
    "from scipy.stats import chisquare\n",
    "observed_frequencies = np.array([25, 15, 20, 12, 10, 18])  \n",
    "\n",
    "expected_percentages = np.array([20, 20, 20, 10, 10, 20])\n",
    "expected_frequencies = (expected_percentages / 100) * np.sum(observed_frequencies)\n",
    "\n",
    "chi2_stat, p_value = chisquare(observed_frequencies, f_exp=expected_frequencies)\n",
    "\n",
    "alpha = 0.05\n",
    "print(f\"Chi-square statistic: {chi2_stat}\")\n",
    "print(f\"P-value: {p_value}\")\n",
    "\n",
    "if p_value < alpha:\n",
    "    print(\"Reject the null hypothesis. The distribution of colors is different from the expected distribution.\")\n",
    "else:\n",
    "    print(\"Fail to reject the null hypothesis. The distribution of colors matches the expected distribution.\")\n"
   ]
  },
  {
   "cell_type": "markdown",
   "id": "fb2fd0e2-b01e-4bb6-b169-a732b2d5198d",
   "metadata": {},
   "source": [
    "## Q3. Use Python to calculate the chi-square statistic and p-value for a contingency table with the following\n",
    "data:\n",
    "    Group A, Group B\n",
    "\n",
    "Outcome 1 20 15\n",
    "Outcome 2 10 25\n",
    "Outcome 3 15 20"
   ]
  },
  {
   "cell_type": "code",
   "execution_count": 3,
   "id": "7bb256c9-f177-4370-afc4-d537b1014b4a",
   "metadata": {},
   "outputs": [
    {
     "name": "stdout",
     "output_type": "stream",
     "text": [
      "Chi-square statistic: 5.833333333333334\n",
      "P-value: 0.05411376622282158\n",
      "Degrees of freedom: 2\n",
      "Expected frequencies:\n",
      "[[15. 20.]\n",
      " [15. 20.]\n",
      " [15. 20.]]\n",
      "Fail to reject the null hypothesis. There is no significant association between groups and outcomes.\n"
     ]
    }
   ],
   "source": [
    "import numpy as np\n",
    "from scipy.stats import chi2_contingency\n",
    "contingency_table = np.array([[20, 15],\n",
    "                              [10, 25],\n",
    "                              [15, 20]])\n",
    "\n",
    "chi2_stat, p_value, dof, expected = chi2_contingency(contingency_table)\n",
    "\n",
    "print(f\"Chi-square statistic: {chi2_stat}\")\n",
    "print(f\"P-value: {p_value}\")\n",
    "print(f\"Degrees of freedom: {dof}\")\n",
    "print(\"Expected frequencies:\")\n",
    "print(expected)\n",
    "\n",
    "alpha = 0.05\n",
    "if p_value < alpha:\n",
    "    print(\"Reject the null hypothesis. There is a significant association between groups and outcomes.\")\n",
    "else:\n",
    "    print(\"Fail to reject the null hypothesis. There is no significant association between groups and outcomes.\")\n"
   ]
  },
  {
   "cell_type": "markdown",
   "id": "8e6aadd4-5e79-46ca-8c67-47425327141e",
   "metadata": {},
   "source": [
    "## Q4. A study of the prevalence of smoking in a population of 500 individuals found that 60 individuals smoked. Use Python to calculate the 95% confidence interval for the true proportion of individuals in the population who smoke."
   ]
  },
  {
   "cell_type": "code",
   "execution_count": 4,
   "id": "9893f29c-db44-41a2-a34b-770fc7fd3628",
   "metadata": {},
   "outputs": [
    {
     "name": "stdout",
     "output_type": "stream",
     "text": [
      "95% Confidence Interval: (0.0915, 0.1485)\n"
     ]
    }
   ],
   "source": [
    "# Ans ==\n",
    "import math\n",
    "\n",
    "sample_proportion = 60 / 500  \n",
    "confidence_level = 0.95\n",
    "sample_size = 500\n",
    "z_score = 1.96\n",
    "\n",
    "standard_error = math.sqrt((sample_proportion * (1 - sample_proportion)) / sample_size)\n",
    "\n",
    "margin_of_error = z_score * standard_error\n",
    "\n",
    "\n",
    "lower_limit = sample_proportion - margin_of_error\n",
    "upper_limit = sample_proportion + margin_of_error\n",
    "\n",
    "\n",
    "print(f\"95% Confidence Interval: ({lower_limit:.4f}, {upper_limit:.4f})\")\n"
   ]
  },
  {
   "cell_type": "markdown",
   "id": "272bf802-c0a3-47f7-8bd5-bff0ed19bcca",
   "metadata": {},
   "source": [
    "## Q5. Calculate the 90% confidence interval for a sample of data with a mean of 75 and a standard deviation of 12 using Python. Interpret the results."
   ]
  },
  {
   "cell_type": "code",
   "execution_count": 5,
   "id": "4b0427db-8236-4490-9768-03c1be5b5c8a",
   "metadata": {},
   "outputs": [
    {
     "name": "stdout",
     "output_type": "stream",
     "text": [
      "90% Confidence Interval: (71.40, 78.60)\n"
     ]
    }
   ],
   "source": [
    "import scipy.stats as stats\n",
    "\n",
    "mean = 75\n",
    "std_dev = 12\n",
    "sample_size = 30  \n",
    "\n",
    "standard_error = std_dev / (sample_size ** 0.5)\n",
    "\n",
    "confidence_level = 0.90\n",
    "\n",
    "margin_of_error = stats.norm.ppf((1 + confidence_level) / 2) * standard_error\n",
    "\n",
    "lower_limit = mean - margin_of_error\n",
    "upper_limit = mean + margin_of_error\n",
    "\n",
    "\n",
    "print(f\"90% Confidence Interval: ({lower_limit:.2f}, {upper_limit:.2f})\")\n"
   ]
  },
  {
   "cell_type": "markdown",
   "id": "fc38a912-b38b-4c28-b225-b5e7573fd734",
   "metadata": {},
   "source": [
    "## Q6. Use Python to plot the chi-square distribution with 10 degrees of freedom. Label the axes and shade the area corresponding to a chi-square statistic of 15."
   ]
  },
  {
   "cell_type": "code",
   "execution_count": 6,
   "id": "8cfa66b1-cb40-4aaf-9efd-2ae94d89ba61",
   "metadata": {},
   "outputs": [
    {
     "data": {
      "image/png": "[encoded data removed]",
      "text/plain": [
       "<Figure size 640x480 with 1 Axes>"
      ]
     },
     "metadata": {},
     "output_type": "display_data"
    }
   ],
   "source": [
    "#Asn ==\n",
    "import numpy as np\n",
    "import matplotlib.pyplot as plt\n",
    "from scipy.stats import chi2\n",
    "\n",
    "degrees_of_freedom = 10\n",
    "\n",
    "x = np.linspace(0, 30, 1000)\n",
    "\n",
    "plt.plot(x, chi2.pdf(x, degrees_of_freedom), label=f'Chi-Square ({degrees_of_freedom} degrees of freedom)')\n",
    "\n",
    "x_fill = np.linspace(0, 15, 1000)\n",
    "plt.fill_between(x_fill, chi2.pdf(x_fill, degrees_of_freedom), color='blue', alpha=0.3, label='Shaded Area (χ² ≤ 15)')\n",
    "\n",
    "plt.xlabel('Chi-Square Statistic')\n",
    "plt.ylabel('Probability Density Function')\n",
    "plt.title('Chi-Square Distribution')\n",
    "\n",
    "plt.legend()\n",
    "\n",
    "plt.show()\n"
   ]
  },
  {
   "cell_type": "markdown",
   "id": "811ce26a-50a7-4404-9f0f-53180a5f2c72",
   "metadata": {},
   "source": [
    "## Q7. A random sample of 1000 people was asked if they preferred Coke or Pepsi. Of the sample, 520 preferred Coke. Calculate a 99% confidence interval for the true proportion of people in the population who prefer Coke."
   ]
  },
  {
   "cell_type": "code",
   "execution_count": 7,
   "id": "add456cf-ca60-4667-ad9b-e9ee296a9d1f",
   "metadata": {},
   "outputs": [
    {
     "name": "stdout",
     "output_type": "stream",
     "text": [
      "99% Confidence Interval: (0.4793, 0.5607)\n"
     ]
    }
   ],
   "source": [
    "# Ans ==\n",
    "import scipy.stats as stats\n",
    "import math\n",
    "\n",
    "sample_proportion = 520 / 1000  \n",
    "sample_size = 1000\n",
    "confidence_level = 0.99\n",
    "\n",
    "standard_error = math.sqrt((sample_proportion * (1 - sample_proportion)) / sample_size)\n",
    "z_score = stats.norm.ppf((1 + confidence_level) / 2)  \n",
    "margin_of_error = z_score * standard_error\n",
    "lower_bound = sample_proportion - margin_of_error\n",
    "upper_bound = sample_proportion + margin_of_error\n",
    "\n",
    "\n",
    "print(f\"99% Confidence Interval: ({lower_bound:.4f}, {upper_bound:.4f})\")\n"
   ]
  },
  {
   "cell_type": "markdown",
   "id": "aa2a80fb-bd94-4174-bfe9-62b182a5911a",
   "metadata": {},
   "source": [
    "## Q8. A researcher hypothesizes that a coin is biased towards tails. They flip the coin 100 times and observe 45 tails. Conduct a chi-square goodness of fit test to determine if the observed frequencies match the expected frequencies of a fair coin. Use a significance level of 0.05."
   ]
  },
  {
   "cell_type": "code",
   "execution_count": 8,
   "id": "9aa04b0c-ac9c-48f8-8ed2-2a560422239c",
   "metadata": {},
   "outputs": [
    {
     "name": "stdout",
     "output_type": "stream",
     "text": [
      "Chi-square test statistic: 0.5000\n",
      "P-value: 0.4795\n",
      "Fail to reject the null hypothesis. There is not enough evidence to suggest bias towards tails.\n"
     ]
    }
   ],
   "source": [
    "# Ans ==\n",
    "import scipy.stats as stats\n",
    "\n",
    "observed_tails = 45\n",
    "expected_tails = 50\n",
    "sample_size = 100\n",
    "degrees_of_freedom = 1\n",
    "significance_level = 0.05\n",
    "\n",
    "chi2_statistic = ((observed_tails - expected_tails)**2) / expected_tails\n",
    "\n",
    "p_value = 1 - stats.chi2.cdf(chi2_statistic, degrees_of_freedom)\n",
    "\n",
    "print(f\"Chi-square test statistic: {chi2_statistic:.4f}\")\n",
    "print(f\"P-value: {p_value:.4f}\")\n",
    "\n",
    "if p_value < significance_level:\n",
    "    print(\"Reject the null hypothesis. The coin may be biased towards tails.\")\n",
    "else:\n",
    "    print(\"Fail to reject the null hypothesis. There is not enough evidence to suggest bias towards tails.\")\n"
   ]
  },
  {
   "cell_type": "markdown",
   "id": "a5a9fe2b-1b8c-44f7-8aae-ef26728b9681",
   "metadata": {},
   "source": [
    "## Q9. A study was conducted to determine if there is an association between smoking status (smoker or non-smoker) and lung cancer diagnosis (yes or no). The results are shown in the contingency table below. Conduct a chi-square test for independence to determine if there is a significant association between smoking status and lung cancer diagnosis."
   ]
  },
  {
   "cell_type": "code",
   "execution_count": 9,
   "id": "280f66cb-dd08-4f49-9a26-97547b065e15",
   "metadata": {},
   "outputs": [
    {
     "name": "stdout",
     "output_type": "stream",
     "text": [
      "Chi-square statistic: 12.057347670250895\n",
      "P-value: 0.0005158863863703744\n",
      "Degrees of freedom: 1\n",
      "Reject the null hypothesis. There is a significant association between smoking status and lung cancer diagnosis.\n"
     ]
    }
   ],
   "source": [
    "# Ans ==\n",
    "import numpy as np\n",
    "from scipy.stats import chi2_contingency\n",
    "\n",
    "observed_data = np.array([[60, 140], [30, 170]])\n",
    "\n",
    "chi2, p, _, _ = chi2_contingency(observed_data)\n",
    "\n",
    "degrees_of_freedom = (observed_data.shape[0] - 1) * (observed_data.shape[1] - 1)\n",
    "\n",
    "print(f\"Chi-square statistic: {chi2}\")\n",
    "print(f\"P-value: {p}\")\n",
    "print(f\"Degrees of freedom: {degrees_of_freedom}\")\n",
    "\n",
    "# Compare p-value with significance level (e.g., 0.05)\n",
    "alpha = 0.05\n",
    "if p < alpha:\n",
    "    print(\"Reject the null hypothesis. There is a significant association between smoking status and lung cancer diagnosis.\")\n",
    "else:\n",
    "    print(\"Fail to reject the null hypothesis. There is no significant association between smoking status and lung cancer diagnosis.\")\n"
   ]
  },
  {
   "cell_type": "markdown",
   "id": "bf4e795c-aa42-4c7b-b34b-1e7ed2733bcb",
   "metadata": {},
   "source": [
    "## Q10. A study was conducted to determine if the proportion of people who prefer milk chocolate, dark chocolate, or white chocolate is different in the U.S. versus the U.K. A random sample of 500 people from the U.S. and a random sample of 500 people from the U.K. were surveyed. The results are shown in the contingency table below. Conduct a chi-square test for independence to determine if there is a significant association between chocolate preference and country of origin."
   ]
  },
  {
   "cell_type": "code",
   "execution_count": 10,
   "id": "f4fd0321-ee74-4b64-92c6-7dd3f5cf66c9",
   "metadata": {},
   "outputs": [
    {
     "name": "stdout",
     "output_type": "stream",
     "text": [
      "Chi-square statistic: 13.393665158371041\n",
      "P-value: 0.0012348168997745918\n",
      "Degrees of freedom: 2\n",
      "Reject the null hypothesis. There is a significant association between chocolate preference and country of origin.\n"
     ]
    }
   ],
   "source": [
    "import numpy as np\n",
    "from scipy.stats import chi2_contingency\n",
    "observed_data = np.array([[200, 150, 150], [225, 175, 100]])\n",
    "\n",
    "chi2, p, _, _ = chi2_contingency(observed_data)\n",
    "\n",
    "degrees_of_freedom = (observed_data.shape[0] - 1) * (observed_data.shape[1] - 1)\n",
    "\n",
    "print(f\"Chi-square statistic: {chi2}\")\n",
    "print(f\"P-value: {p}\")\n",
    "print(f\"Degrees of freedom: {degrees_of_freedom}\")\n",
    "\n",
    "alpha = 0.01\n",
    "\n",
    "if p < alpha:\n",
    "    print(\"Reject the null hypothesis. There is a significant association between chocolate preference and country of origin.\")\n",
    "else:\n",
    "    print(\"Fail to reject the null hypothesis. There is no significant association between chocolate preference and country of origin.\")\n"
   ]
  },
  {
   "cell_type": "markdown",
   "id": "8549f922-937f-4454-9d16-5333c0d31f00",
   "metadata": {},
   "source": [
    "## Q11. A random sample of 30 people was selected from a population with an unknown mean and standard deviation. The sample mean was found to be 72 and the sample standard deviation was found to be 10. Conduct a hypothesis test to determine if the population mean is significantly different from 70. Use a significance level of 0.05."
   ]
  },
  {
   "cell_type": "code",
   "execution_count": 11,
   "id": "27f31c8e-2d59-4237-a57f-69e71f726b85",
   "metadata": {},
   "outputs": [
    {
     "name": "stdout",
     "output_type": "stream",
     "text": [
      "Calculated t-value: 1.0954451150103321\n",
      "Critical t-value: 2.045229642132703\n",
      "P-value: 0.2823362372860698\n",
      "Fail to reject the null hypothesis. There is not enough evidence to suggest a significant difference from 70.\n"
     ]
    }
   ],
   "source": [
    "#Ans ==\n",
    "import scipy.stats as stats\n",
    "\n",
    "sample_mean = 72\n",
    "sample_std = 10\n",
    "sample_size = 30\n",
    "population_mean_h0 = 70\n",
    "significance_level = 0.05\n",
    "\n",
    "t_value = (sample_mean - population_mean_h0) / (sample_std / (sample_size ** 0.5))\n",
    "\n",
    "degrees_of_freedom = sample_size - 1\n",
    "critical_t_value = stats.t.ppf(1 - significance_level / 2, degrees_of_freedom)\n",
    "\n",
    "p_value = 2 * (1 - stats.t.cdf(abs(t_value), degrees_of_freedom))\n",
    "\n",
    "print(f\"Calculated t-value: {t_value}\")\n",
    "print(f\"Critical t-value: {critical_t_value}\")\n",
    "print(f\"P-value: {p_value}\")\n",
    "\n",
    "# Compare t-value with critical t-value and p-value with significance level\n",
    "if abs(t_value) > critical_t_value or p_value < significance_level:\n",
    "    print(\"Reject the null hypothesis. The population mean is significantly different from 70.\")\n",
    "else:\n",
    "    print(\"Fail to reject the null hypothesis. There is not enough evidence to suggest a significant difference from 70.\")\n"
   ]
  },
  {
   "cell_type": "code",
   "execution_count": null,
   "id": "28c68227-af71-4824-9869-56249a4aedaf",
   "metadata": {},
   "outputs": [],
   "source": []
  }
 ],
 "metadata": {
  "kernelspec": {
   "display_name": "Python 3 (ipykernel)",
   "language": "python",
   "name": "python3"
  },
  "language_info": {
   "codemirror_mode": {
    "name": "ipython",
    "version": 3
   },
   "file_extension": ".py",
   "mimetype": "text/x-python",
   "name": "python",
   "nbconvert_exporter": "python",
   "pygments_lexer": "ipython3",
   "version": "3.10.8"
  }
 },
 "nbformat": 4,
 "nbformat_minor": 5
}
