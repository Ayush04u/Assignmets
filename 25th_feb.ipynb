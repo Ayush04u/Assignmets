{
 "cells": [
  {
   "cell_type": "code",
   "execution_count": 4,
   "id": "c54956c3-0aae-4ae0-b3dc-73376c225fb5",
   "metadata": {},
   "outputs": [],
   "source": [
    "import pandas as pd\n",
    "course_name = ['Data Science', 'Machine Learning', 'Big Data', 'Data Engineer']\n",
    "duration = [2,3,6,4]"
   ]
  },
  {
   "cell_type": "code",
   "execution_count": 6,
   "id": "793e049a-a09b-4bf6-b68f-a28a8c2a7b1c",
   "metadata": {},
   "outputs": [],
   "source": [
    "df = pd.DataFrame(data = {'course_name' : course_name, 'duration' : duration})"
   ]
  },
  {
   "cell_type": "markdown",
   "id": "ef037624-734f-4707-b460-3c00b6f8f1e9",
   "metadata": {},
   "source": [
    "## Q1. Write a code to print the data present in the second row of the dataframe, df."
   ]
  },
  {
   "cell_type": "code",
   "execution_count": 7,
   "id": "3d68ff96-8d29-45fe-96b7-9031899aa4fa",
   "metadata": {},
   "outputs": [
    {
     "name": "stdout",
     "output_type": "stream",
     "text": [
      "course_name    Machine Learning\n",
      "duration                      3\n",
      "Name: 1, dtype: object\n"
     ]
    }
   ],
   "source": [
    "#Ans=\n",
    "print(df.iloc[1])\n"
   ]
  },
  {
   "cell_type": "markdown",
   "id": "af810478-548b-4fd5-9dab-9366cfaf3af9",
   "metadata": {},
   "source": [
    "## Q2. What is the difference between the functions loc and iloc in pandas.DataFrame?"
   ]
  },
  {
   "cell_type": "markdown",
   "id": "f1f64650-ab59-4476-9cbb-00132b86fd80",
   "metadata": {},
   "source": [
    "## Ans==\n",
    "loc: It is label-based indexing. It is used for selection by label, meaning that you have to specify the name of the row or column.\n",
    "\n",
    "iloc: It is integer-location based indexing. It is used for selection based on the numerical index of the data."
   ]
  },
  {
   "cell_type": "markdown",
   "id": "47e3b9d3-5c69-44c9-9c22-f2db43fe2fae",
   "metadata": {},
   "source": [
    "# Q3. Reindex the given dataframe using a variable, reindex = [3,0,1,2] and store it in the variable, new_df then find the output for both new_df.loc[2] and new_df.iloc[2].\n",
    "Did you observe any difference in both the outputs? If so then explain it.\n",
    "Consider the below code to answer further questions:\n",
    "import pandas as pd\n",
    "import numpy as np\n",
    "columns = ['column_1', 'column_2', 'column_3', 'column_4', 'column_5', 'column_6']\n",
    "indices = [1,2,3,4,5,6]\n",
    "#Creating a dataframe:\n",
    "df1 = pd.DataFrame(np.random.rand(6,6), columns = columns, index = indices)"
   ]
  },
  {
   "cell_type": "code",
   "execution_count": 10,
   "id": "8a66df6a-76c2-4698-9a7f-cb85cd400cf3",
   "metadata": {},
   "outputs": [
    {
     "name": "stdout",
     "output_type": "stream",
     "text": [
      "column_1    0.159201\n",
      "column_2    0.343778\n",
      "column_3    0.217094\n",
      "column_4    0.359344\n",
      "column_5    0.307040\n",
      "column_6    0.914412\n",
      "Name: 2, dtype: float64\n",
      "column_1    0.790493\n",
      "column_2    0.345107\n",
      "column_3    0.143600\n",
      "column_4    0.672706\n",
      "column_5    0.092372\n",
      "column_6    0.957190\n",
      "Name: 1, dtype: float64\n"
     ]
    }
   ],
   "source": [
    "#Ans==\n",
    "import pandas as pd\n",
    "import numpy as np\n",
    "\n",
    "# Given dataframe creation\n",
    "columns = ['column_1', 'column_2', 'column_3', 'column_4', 'column_5', 'column_6']\n",
    "indices = [1, 2, 3, 4, 5, 6]\n",
    "df1 = pd.DataFrame(np.random.rand(6, 6), columns=columns, index=indices)\n",
    "\n",
    "\n",
    "reindex = [3, 0, 1, 2]\n",
    "new_df = df1.reindex(reindex)\n",
    "\n",
    "\n",
    "print(new_df.loc[2])\n",
    "print(new_df.iloc[2])\n",
    "\n",
    "# Observation:\n",
    "# The difference between loc and iloc lies in the way they handle indexing:\n",
    "\n",
    "# loc uses the labels/index names.\n",
    "# iloc uses the numerical index positions.\n",
    "# In this case, new_df.loc[2] refers to the row with the label/index '2', and new_df.iloc[2] refers to the row at the numerical index position '2'.\n",
    "\n",
    "# Since we have reindexed new_df with reindex = [3, 0, 1, 2], the label '2' now corresponds to the original row with the index '1'. Therefore, new_df.loc[2] and new_df.iloc[2] will yield the same row from the dataframe."
   ]
  },
  {
   "cell_type": "markdown",
   "id": "631e0b33-00aa-4244-a170-0bc9166c0e81",
   "metadata": {},
   "source": [
    "## Q4. Write a code to find the following statistical measurements for the above dataframe df1:\n",
    "(i) mean of each and every column present in the dataframe.\n",
    "(ii) standard deviation of column, ‘column_2’"
   ]
  },
  {
   "cell_type": "code",
   "execution_count": 11,
   "id": "d221794e-7f83-43ca-8f86-af9c65d85ae1",
   "metadata": {},
   "outputs": [
    {
     "name": "stdout",
     "output_type": "stream",
     "text": [
      "duration    3.75\n",
      "dtype: float64\n",
      "1.707825127659933\n"
     ]
    },
    {
     "name": "stderr",
     "output_type": "stream",
     "text": [
      "/tmp/ipykernel_77/1344721107.py:3: FutureWarning: The default value of numeric_only in DataFrame.mean is deprecated. In a future version, it will default to False. In addition, specifying 'numeric_only=None' is deprecated. Select only valid columns or specify the value of numeric_only to silence this warning.\n",
      "  print(df.mean())\n"
     ]
    }
   ],
   "source": [
    "#Ans ==\n",
    "# (i) Mean of each column\n",
    "print(df.mean())\n",
    "\n",
    "# (ii) Standard deviation of column 'duration'\n",
    "print(df['duration'].std())\n"
   ]
  },
  {
   "cell_type": "markdown",
   "id": "1c0fa5b3-178a-4681-bff1-69a9436aced8",
   "metadata": {},
   "source": [
    "## Q5. Replace the data present in the second row of column, ‘column_2’ by a string variable then find the mean of column, column_2.If you are getting errors in executing it then explain why.\n",
    "[Hint: To replace the data use df1.loc[] and equate this to string data of your choice.]"
   ]
  },
  {
   "cell_type": "code",
   "execution_count": 13,
   "id": "9b9a9389-dfc5-426c-b065-49f89b5873d7",
   "metadata": {},
   "outputs": [
    {
     "name": "stdout",
     "output_type": "stream",
     "text": [
      "0.250442240426921\n"
     ]
    }
   ],
   "source": [
    "#Ans ==\n",
    "# Replace the data in the second row of 'column_2' with a string variable\n",
    "df1.loc[2, 'column_2'] = 'some_string'\n",
    "\n",
    "# Find the mean of 'column_2'\n",
    "mean_column_2 = pd.to_numeric(df1['column_2'], errors='coerce').mean()\n",
    "\n",
    "# Display the mean\n",
    "print(mean_column_2)\n",
    "\n"
   ]
  },
  {
   "cell_type": "markdown",
   "id": "0d5a9ae5-75db-4a30-bb1b-f76d369477b1",
   "metadata": {},
   "source": [
    "## Q6. What do you understand about the windows function in pandas and list the types of windows functions?"
   ]
  },
  {
   "cell_type": "markdown",
   "id": "ed628bdd-43df-48bb-afa9-0e4ab15a573f",
   "metadata": {},
   "source": [
    "# Ans ==\n",
    "Windows functions in pandas operate on a set of data points called a \"window.\" The window can slide or roll over the data, and a function is applied to the data within that window. Types include:\n",
    "\n",
    "i.Rolling functions (rolling)\n",
    "ii.Expanding functions (expanding)\n",
    "iii.Exponential moving functions (ewm)\n"
   ]
  },
  {
   "cell_type": "markdown",
   "id": "007f014c-ba66-469b-b1fa-b531cd3ee756",
   "metadata": {},
   "source": [
    "# Q7. Write a code to print only the current month and year at the time of answering this question.\n",
    "[Hint: Use pandas.datetime function]"
   ]
  },
  {
   "cell_type": "code",
   "execution_count": 15,
   "id": "65aea1e3-e502-46f4-9500-118ec1ec6d5e",
   "metadata": {},
   "outputs": [
    {
     "name": "stdout",
     "output_type": "stream",
     "text": [
      "January 2024\n"
     ]
    }
   ],
   "source": [
    "# ANS ==\n",
    "\n",
    "current_date = pd.to_datetime('today')\n",
    "print(current_date.strftime('%B %Y'))\n"
   ]
  },
  {
   "cell_type": "markdown",
   "id": "a8258787-6af3-4cbc-8d16-dba43d5d58cc",
   "metadata": {},
   "source": [
    "## Q8. Write a Python program that takes in two dates as input (in the format YYYY-MM-DD) and calculates the difference between them in days, hours, and minutes using Pandas time delta. The program should prompt the user to enter the dates and display the result."
   ]
  },
  {
   "cell_type": "code",
   "execution_count": 16,
   "id": "bcd14c65-1a12-4f86-9090-744b16b051b0",
   "metadata": {},
   "outputs": [
    {
     "name": "stdin",
     "output_type": "stream",
     "text": [
      "Enter the first date (YYYY-MM-DD):  2024-01-21\n",
      "Enter the second date (YYYY-MM-DD):  2022-01-15\n"
     ]
    },
    {
     "name": "stdout",
     "output_type": "stream",
     "text": [
      "Difference: -736 days, 0 hours, 0 minutes\n"
     ]
    }
   ],
   "source": [
    "#ANS ==\n",
    "date1 = input(\"Enter the first date (YYYY-MM-DD): \")\n",
    "date2 = input(\"Enter the second date (YYYY-MM-DD): \")\n",
    "\n",
    "date1 = pd.to_datetime(date1)\n",
    "date2 = pd.to_datetime(date2)\n",
    "\n",
    "time_difference = date2 - date1\n",
    "\n",
    "print(f\"Difference: {time_difference.days} days, {time_difference.seconds // 3600} hours, {time_difference.seconds % 3600 // 60} minutes\")\n"
   ]
  },
  {
   "cell_type": "markdown",
   "id": "e910389b-c46e-4a8a-ac8a-d600f4308748",
   "metadata": {},
   "source": [
    "# Q9. Write a Python program that reads a CSV file containing categorical data and converts a specified column to a categorical data type. The program should prompt the user to enter the file path, column name, and category order, and then display the sorted data."
   ]
  },
  {
   "cell_type": "code",
   "execution_count": 11,
   "id": "5516654e-a272-47e1-b55b-5c99772cfd99",
   "metadata": {},
   "outputs": [
    {
     "name": "stdin",
     "output_type": "stream",
     "text": [
      "Enter the file path of the CSV file:  data.csv\n",
      "Enter the column name to convert to categorical:  Name\n",
      "Enter the category order (comma-separated):  0,1\n"
     ]
    },
    {
     "name": "stdout",
     "output_type": "stream",
     "text": [
      "   Unnamed: 0 Name  Age  Gender\n",
      "0           0  NaN   25  Female\n",
      "1           1  NaN   30    Male\n",
      "2           2  NaN   27  Female\n",
      "3           3  NaN   28    Male\n",
      "4           4  NaN   27  Female\n"
     ]
    }
   ],
   "source": [
    "#ANS ==\n",
    "import pandas as pd\n",
    "\n",
    "file_path = input(\"Enter the file path of the CSV file: \")\n",
    "column_name = input(\"Enter the column name to convert to categorical: \")\n",
    "category_order = input(\"Enter the category order (comma-separated): \").split(',')\n",
    "\n",
    "df = pd.read_csv(file_path)\n",
    "\n",
    "df[column_name] = pd.Categorical(df[column_name], categories=category_order, ordered=True)\n",
    "\n",
    "sorted_data = df.sort_values(column_name)\n",
    "print(sorted_data)\n",
    "\n"
   ]
  },
  {
   "cell_type": "markdown",
   "id": "498deb03-347a-4271-9357-729ef418791b",
   "metadata": {},
   "source": [
    "## Q10. Write a Python program that reads a CSV file containing sales data for different products and visualizes the data using a stacked bar chart to show the sales of each product category over time. The program should prompt the user to enter the file path and display the chart."
   ]
  },
  {
   "cell_type": "code",
   "execution_count": 4,
   "id": "92fe0f7b-3599-4a99-ac54-426db641d962",
   "metadata": {},
   "outputs": [
    {
     "name": "stdin",
     "output_type": "stream",
     "text": [
      "Enter the file path of the CSV file:  Static_Data.csv\n"
     ]
    },
    {
     "data": {
      "image/png": "[encoded data removed]",
      "text/plain": [
       "<Figure size 640x480 with 1 Axes>"
      ]
     },
     "metadata": {},
     "output_type": "display_data"
    }
   ],
   "source": [
    "import pandas as pd\n",
    "import matplotlib.pyplot as plt\n",
    "\n",
    "# Prompt user for file path\n",
    "file_path = input(\"Enter the file path of the CSV file: \")\n",
    "\n",
    "# Read CSV into DataFrame and explicitly set 'Time' as the index\n",
    "df = pd.read_csv(file_path)\n",
    "df.set_index('Time', inplace=True)\n",
    "\n",
    "# Create a stacked bar chart\n",
    "df.plot(kind='bar', stacked=True)\n",
    "plt.title('Sales Data by Product Category Over Time')\n",
    "plt.xlabel('Time')\n",
    "plt.ylabel('Sales')\n",
    "plt.show()\n"
   ]
  },
  {
   "cell_type": "markdown",
   "id": "59a22ec1-1ae6-490a-aa61-72a10ddf14e3",
   "metadata": {},
   "source": [
    "## Q11. You are given a CSV file containing student data that includes the student ID and their test score. Write\n",
    "a Python program that reads the CSV file, calculates the mean, median, and mode of the test scores, and\n",
    "displays the results in a table.\n",
    "The program should do the followingM\n",
    "I Prompt the user to enter the file path of the CSV file containing the student dataR\n",
    "I Read the CSV file into a Pandas DataFrameR\n",
    "I Calculate the mean, median, and mode of the test scores using Pandas toolsR\n",
    "I Display the mean, median, and mode in a table.\n",
    "Assume the CSV file contains the following columnsM\n",
    "I Student ID: The ID of the studentR\n",
    "I Test Score: The score of the student's test.\n",
    "Example usage of the program:\n",
    "Enter the file path of the CSV file containing the student data: student_data.csv\n",
    "+-----------+--------+\n",
    "| Statistic | Value |\n",
    "+-----------+--------+\n",
    "| Mean | 79.6 |\n",
    "| Median | 82 |\n",
    "| Mode | 85, 90 |\n",
    "+-----------+--------+\n",
    "Assume that the CSV file student_data.csv contains the following data:\n",
    "Student ID,Test Score\n",
    "1,85\n",
    "2,90\n",
    "3,80\n",
    "4,75\n",
    "5,85\n",
    "6,82\n",
    "7,78\n",
    "8,85\n",
    "9,90\n",
    "10,85\n",
    "The program should calculate the mean, median, and mode of the test scores and display the results\n",
    "in a table."
   ]
  },
  {
   "cell_type": "code",
   "execution_count": 16,
   "id": "c4167172-fc1d-4c01-93a2-613974857079",
   "metadata": {},
   "outputs": [
    {
     "name": "stdin",
     "output_type": "stream",
     "text": [
      "Enter the file path of the CSV file containing student data:  student.csv\n"
     ]
    },
    {
     "name": "stdout",
     "output_type": "stream",
     "text": [
      "  Statistic Value\n",
      "0      Mean  83.5\n",
      "1    Median  85.0\n",
      "2      Mode    85\n"
     ]
    }
   ],
   "source": [
    "##Ans ==\n",
    "import pandas as pd\n",
    "\n",
    "# Prompt user for file path\n",
    "file_path = input(\"Enter the file path of the CSV file containing student data: \")\n",
    "\n",
    "# Read CSV into DataFrame\n",
    "df = pd.read_csv(file_path)\n",
    "\n",
    "# Calculate mean, median, and mode\n",
    "mean_score = df['Test Score'].mean()\n",
    "median_score = df['Test Score'].median()\n",
    "mode_score = df['Test Score'].mode()\n",
    "\n",
    "# Display results in a table\n",
    "result_table = pd.DataFrame({\n",
    "    'Statistic': ['Mean', 'Median', 'Mode'],\n",
    "    'Value': [mean_score, median_score, ', '.join(map(str, mode_score))]\n",
    "})\n",
    "print(result_table)\n"
   ]
  },
  {
   "cell_type": "code",
   "execution_count": null,
   "id": "af646f79-72f5-4358-ad5f-8e7a59b8b70c",
   "metadata": {},
   "outputs": [],
   "source": []
  },
  {
   "cell_type": "code",
   "execution_count": 15,
   "id": "5e954374-469e-434a-8b10-284b483de61f",
   "metadata": {},
   "outputs": [],
   "source": []
  },
  {
   "cell_type": "code",
   "execution_count": null,
   "id": "4cbe086c-1408-4c11-b130-436ea3f9cff1",
   "metadata": {},
   "outputs": [],
   "source": []
  }
 ],
 "metadata": {
  "kernelspec": {
   "display_name": "Python 3 (ipykernel)",
   "language": "python",
   "name": "python3"
  },
  "language_info": {
   "codemirror_mode": {
    "name": "ipython",
    "version": 3
   },
   "file_extension": ".py",
   "mimetype": "text/x-python",
   "name": "python",
   "nbconvert_exporter": "python",
   "pygments_lexer": "ipython3",
   "version": "3.10.8"
  }
 },
 "nbformat": 4,
 "nbformat_minor": 5
}
