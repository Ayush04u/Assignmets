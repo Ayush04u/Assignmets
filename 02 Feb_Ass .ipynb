{
 "cells": [
  {
   "cell_type": "markdown",
   "id": "49061a5e-a7d6-4c8c-8cfc-92f027a5cf70",
   "metadata": {},
   "source": [
    "## Q.1 What are the characteristics of the tuples? Is tuple immutable?"
   ]
  },
  {
   "cell_type": "markdown",
   "id": "7c399521-878f-4899-810d-40fb4093f2b7",
   "metadata": {},
   "source": [
    "## ANS ==\n",
    "The characteristics of tuples are:-\n",
    "1.Tuples are ordered\n",
    "2.Tuples are heterogeneous\n",
    "3.Tuples are indexed\n",
    "4.Tuples are immutable\n",
    "Yes,tuples are immutable.Once a tuple is created, it's content's cannot be changed."
   ]
  },
  {
   "cell_type": "markdown",
   "id": "3719c82a-88f6-4521-9f61-eeb4f0262b2d",
   "metadata": {},
   "source": [
    "## Q2. What are the two tuple methods in python? Give an example of each method. Give a reason why tuples have only two in-built methods as compared to Lists."
   ]
  },
  {
   "cell_type": "markdown",
   "id": "b45d462e-e82b-4965-850d-6de5f4634945",
   "metadata": {},
   "source": [
    "## ANs ==\n",
    "There are two built-in tuple methods in Python:\n",
    "    1. count()\n",
    "    2.index()\n",
    "    \n",
    "Count() Example:\n",
    "    my_tuple = (1, 2, 3, 1, 4, 1)\n",
    "count_ones = my_tuple.count(1)\n",
    "print(count_ones) \n",
    "\n",
    "index Examples:\n",
    "    my_tuple = ('apple', 'banana', 'orange', 'banana')\n",
    "banana_index = my_tuple.index('banana')\n",
    "print(banana_index) \n",
    "\n",
    "the reason why tuples have only two in-built methods as compared to lists is because tuples are immutable and do not require methods for modifying their contents in place."
   ]
  },
  {
   "cell_type": "markdown",
   "id": "e9fc8d74-e69f-4d23-90ed-e8ee5c9d1e79",
   "metadata": {},
   "source": [
    "## Q3. Which collection datatypes in python do not allow duplicate items? Write a code using a set to remove duplicates from the given list."
   ]
  },
  {
   "cell_type": "markdown",
   "id": "66572e20-dc57-4077-b30c-5243d6af8586",
   "metadata": {},
   "source": [
    "## ANS ==\n",
    "sets and frozensets collection data type that do not allow duplicate items\n",
    "\n"
   ]
  },
  {
   "cell_type": "code",
   "execution_count": 3,
   "id": "737f65e8-e253-4132-93cb-fe1435200e45",
   "metadata": {},
   "outputs": [
    {
     "name": "stdout",
     "output_type": "stream",
     "text": [
      "[1, 2, 3, 4]\n"
     ]
    }
   ],
   "source": [
    "## Code\n",
    "\n",
    "my_list = [1,1,1,2,1,3,1,4,2,1,2,2,2,3,2,4,3,1,3,2,3,3,3,4,4,1,4,2,4,3,4,4]\n",
    "unique_list = list(set(my_list))\n",
    "print(unique_list)"
   ]
  },
  {
   "cell_type": "markdown",
   "id": "0597157d-6f6e-4dbb-9aa5-87684b87aaef",
   "metadata": {},
   "source": [
    "## Q4. Explain the difference between the union() and update() methods for a set. Give an example of each method."
   ]
  },
  {
   "cell_type": "markdown",
   "id": "04ddf8ed-6f18-4689-8b67-9c7c64e0ce20",
   "metadata": {},
   "source": [
    "## ANS ==\n",
    "The union() method returns a new set that contains all the unique elements from both the original set and the set(s) passed as arguments.The original sets are not modified by this method\n"
   ]
  },
  {
   "cell_type": "code",
   "execution_count": 1,
   "id": "83f7f3a9-33bd-4508-8434-e3e50b77b0ab",
   "metadata": {},
   "outputs": [
    {
     "name": "stdout",
     "output_type": "stream",
     "text": [
      "{1, 2, 3, 4, 5, 6, 7}\n"
     ]
    }
   ],
   "source": [
    "set1 = {1, 2, 3}\n",
    "set2 = {3, 4, 5}\n",
    "set3 = {5, 6, 7}\n",
    "\n",
    "new_set = set1.union(set2, set3)\n",
    "print(new_set) "
   ]
  },
  {
   "cell_type": "markdown",
   "id": "7887c769-516a-46d8-920c-f2a1d7895aa4",
   "metadata": {},
   "source": [
    "##\n",
    "the update() method adds all the elements of another set(s) to the original set. Unlike the union() method, this method modifies the original set"
   ]
  },
  {
   "cell_type": "code",
   "execution_count": 2,
   "id": "5534cad1-9928-46f7-8128-25d903ffde2d",
   "metadata": {},
   "outputs": [
    {
     "name": "stdout",
     "output_type": "stream",
     "text": [
      "{1, 2, 3, 4, 5}\n"
     ]
    }
   ],
   "source": [
    "set1 = {1, 2, 3}\n",
    "set2 = {3, 4, 5}\n",
    "\n",
    "set1.update(set2)\n",
    "print(set1)\n"
   ]
  },
  {
   "cell_type": "markdown",
   "id": "245e4383-3e75-448c-a52c-07dad87bd9c0",
   "metadata": {},
   "source": [
    "## Q5. What is a dictionary? Give an example. Also, state whether a dictionary is ordered or unordered."
   ]
  },
  {
   "cell_type": "markdown",
   "id": "c438464d-1d29-4a7f-9120-163bd26bcd86",
   "metadata": {},
   "source": [
    "## ANS == \n",
    "Dictionary is an ordered collection of items. It stores elements in key-value pairs.The keys are unique identifiers that are associated with each value. Example is given below."
   ]
  },
  {
   "cell_type": "code",
   "execution_count": 4,
   "id": "b41cc833-cc58-4ef3-bb38-04c6e5e06069",
   "metadata": {},
   "outputs": [
    {
     "name": "stdout",
     "output_type": "stream",
     "text": [
      "6\n"
     ]
    }
   ],
   "source": [
    "my_dict = {'Ayush': 1, 'Sudhanshu': 6, 'Uttam': 9}\n",
    "print(my_dict['Sudhanshu'])"
   ]
  },
  {
   "cell_type": "markdown",
   "id": "a31972a7-207f-4a7a-8a3d-b797bb601233",
   "metadata": {},
   "source": [
    "\n",
    "It is unordered,it means that the key value pair don't have a specific order."
   ]
  },
  {
   "cell_type": "markdown",
   "id": "fd047e7d-ddc6-4bfc-af2d-4cbe3d5b21e2",
   "metadata": {},
   "source": [
    "## Q6.Can we create a nested dictionary? If so, please give an example by creating a simple one-level nested dictionary."
   ]
  },
  {
   "cell_type": "markdown",
   "id": "8b51223c-fa46-4e04-91ea-ed98bd78b49b",
   "metadata": {},
   "source": [
    "## ANS ==\n",
    "Yes We can create nested Dictionary."
   ]
  },
  {
   "cell_type": "code",
   "execution_count": 9,
   "id": "c5564d9d-1599-4b35-80f4-33a07220f9dd",
   "metadata": {},
   "outputs": [],
   "source": [
    "my_dict = {\n",
    "    \"CAR\": {\n",
    "        \"name\": \"BMW\",\n",
    "        \"color\": \"Black\",\n",
    "        \"price\": 1.5 \n",
    "    },\n",
    "    \"Bike\": {\n",
    "        \"name\": \"Ninja H2R\",\n",
    "        \"color\": \"orange\",\n",
    "        \"price\": 79.90 \n",
    "    }\n",
    "}\n"
   ]
  },
  {
   "cell_type": "code",
   "execution_count": 11,
   "id": "0f58733f-9727-436a-bb0e-bb248950f0c6",
   "metadata": {},
   "outputs": [
    {
     "data": {
      "text/plain": [
       "'BMW'"
      ]
     },
     "execution_count": 11,
     "metadata": {},
     "output_type": "execute_result"
    }
   ],
   "source": [
    "my_dict[\"CAR\"][\"name\"]"
   ]
  },
  {
   "cell_type": "markdown",
   "id": "49f38594-d49d-4d91-a1c5-f5b9f06e4acd",
   "metadata": {},
   "source": [
    "## Q7.Using setdefault() method, create key named topics in the given dictionary and also add the value of the key as this list ['Python', 'Machine Learning’, 'Deep Learning']"
   ]
  },
  {
   "cell_type": "code",
   "execution_count": 16,
   "id": "3d2f1d75-e72a-4000-b51a-22af4fbd7ad4",
   "metadata": {},
   "outputs": [
    {
     "name": "stdout",
     "output_type": "stream",
     "text": [
      "{'language': 'Python', 'course': 'Data Science Maste', 'topics': ['Python', 'Machine Learning', 'Deep Learning']}\n"
     ]
    }
   ],
   "source": [
    "## ANS:-\n",
    "my_dict = {'language' : 'Python', 'course': 'Data Science Maste'}\n",
    "my_dict.setdefault('topics', ['Python', 'Machine Learning', 'Deep Learning'])\n",
    "print(my_dict) \n"
   ]
  },
  {
   "cell_type": "markdown",
   "id": "07ce8b37-0d18-4cf8-b6b5-6a0059d9df46",
   "metadata": {},
   "source": [
    "## Q8. What are the three view objects in dictionaries? Use the three in-built methods in python to display\n",
    "these three view objects for the given dictionary. dict1 = {'Sport': 'Cricket' , 'Teams': ['India', 'Australia', 'England', 'South Africa', 'Sri Lanka', 'New Zealand']}"
   ]
  },
  {
   "cell_type": "code",
   "execution_count": 19,
   "id": "146c2532-08c4-44a9-ab4d-0d3c51d83b50",
   "metadata": {},
   "outputs": [
    {
     "name": "stdout",
     "output_type": "stream",
     "text": [
      "dict_keys(['Sport', 'Teams'])\n",
      "dict_values(['Cricket', ['India', 'Australia', 'England', 'South Africa', 'Sri Lanka', 'New Zealand']])\n",
      "dict_items([('Sport', 'Cricket'), ('Teams', ['India', 'Australia', 'England', 'South Africa', 'Sri Lanka', 'New Zealand'])])\n"
     ]
    }
   ],
   "source": [
    "# Ans :- The Thre views objects in dictionary are :- dict_keys,dict_values,dict_items\n",
    "\n",
    "dict1 = {'Sport': 'Cricket', 'Teams': ['India', 'Australia', 'England', 'South Africa', 'Sri Lanka', 'New Zealand']}\n",
    "print(dict1.keys()) \n",
    "\n",
    "print(dict1.values()) \n",
    "\n",
    "print(dict1.items()) \n"
   ]
  },
  {
   "cell_type": "code",
   "execution_count": null,
   "id": "f4b35c84-f98b-497c-b2f1-b0fe8843e55d",
   "metadata": {},
   "outputs": [],
   "source": []
  }
 ],
 "metadata": {
  "kernelspec": {
   "display_name": "Python 3 (ipykernel)",
   "language": "python",
   "name": "python3"
  },
  "language_info": {
   "codemirror_mode": {
    "name": "ipython",
    "version": 3
   },
   "file_extension": ".py",
   "mimetype": "text/x-python",
   "name": "python",
   "nbconvert_exporter": "python",
   "pygments_lexer": "ipython3",
   "version": "3.10.8"
  }
 },
 "nbformat": 4,
 "nbformat_minor": 5
}
