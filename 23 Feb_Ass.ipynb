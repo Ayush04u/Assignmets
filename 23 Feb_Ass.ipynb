{
 "cells": [
  {
   "cell_type": "markdown",
   "id": "366fe8f4-d0db-4450-9a31-55a49cddd157",
   "metadata": {},
   "source": [
    "## Q1. Create a Pandas Series that contains the following data: 4, 8, 15, 16, 23, and 42. Then, print the series."
   ]
  },
  {
   "cell_type": "code",
   "execution_count": 1,
   "id": "ba2c15fe-af9f-4eba-9516-046007b3e9d5",
   "metadata": {},
   "outputs": [
    {
     "name": "stdout",
     "output_type": "stream",
     "text": [
      "0     4\n",
      "1     8\n",
      "2    15\n",
      "3    16\n",
      "4    23\n",
      "5    42\n",
      "dtype: int64\n"
     ]
    }
   ],
   "source": [
    "import pandas as pd \n",
    "\n",
    "data = [4,8,15,16,23,42]\n",
    "series = pd.Series(data)\n",
    "\n",
    "print(series)"
   ]
  },
  {
   "cell_type": "code",
   "execution_count": 3,
   "id": "024db05d-d6b9-462b-8ba5-561e25e94a1d",
   "metadata": {},
   "outputs": [
    {
     "name": "stdout",
     "output_type": "stream",
     "text": [
      "0     1\n",
      "1     2\n",
      "2     3\n",
      "3     4\n",
      "4     5\n",
      "5     6\n",
      "6     7\n",
      "7     8\n",
      "8     9\n",
      "9    10\n",
      "dtype: int64\n"
     ]
    }
   ],
   "source": [
    "import pandas as pd\n",
    "my_list = [1,2,3,4,5,6,7,8,9,10]\n",
    "\n",
    "my_series = pd.Series(my_list)\n",
    "print(my_series)"
   ]
  },
  {
   "cell_type": "code",
   "execution_count": 5,
   "id": "9195be15-018c-4293-94f0-780b9b3acdb7",
   "metadata": {},
   "outputs": [
    {
     "name": "stdout",
     "output_type": "stream",
     "text": [
      "     Name  Age  Gender\n",
      "0   Alice   25  Female\n",
      "1     Bob   30    Male\n",
      "2  Claire   27  Female\n"
     ]
    }
   ],
   "source": [
    "import pandas as pd\n",
    "\n",
    "data = {\n",
    "    'Name' : ['Alice','Bob','Claire'],\n",
    "    'Age': [25,30,27],\n",
    "    'Gender' : ['Female', 'Male', 'Female']\n",
    "}\n",
    "\n",
    "df =  pd.DataFrame(data)\n",
    "print(df)"
   ]
  },
  {
   "cell_type": "markdown",
   "id": "0f75ce6a-51d4-44de-b913-855a7411ccac",
   "metadata": {},
   "source": [
    "## Q4. What is ‘DataFrame’ in pandas and how is it different from pandas.series? Explain with an example."
   ]
  },
  {
   "cell_type": "markdown",
   "id": "039d2913-97f2-42a4-b9b7-cadf0e254a40",
   "metadata": {},
   "source": [
    "## ANS ==\n",
    "In pandas, a DataFrame is a 2-dimensional labeled data structure with columns of potentially different types. It can be thought of as a table with rows and columns, similar to a spreadsheet or a SQL table. A DataFrame can be created from various data sources like CSV files, SQL databases, and Excel sheets.\n",
    "\n",
    "On the other hand, a Pandas Series is a one-dimensional labeled array capable of holding any data type (integers, strings, floating-point numbers, Python objects, etc.). A Series can be created from a Python list, dictionary, or ndarray.\n",
    "\n",
    "The primary difference between a DataFrame and a Series is that a Series has only one column, while a DataFrame can have multiple columns. In other words, a DataFrame is a collection of Series objects, where each Series represents a column in the DataFrame.\n",
    "\n",
    "\n",
    "Here's an example that demonstrates the difference between a DataFrame and a Series:"
   ]
  },
  {
   "cell_type": "code",
   "execution_count": 9,
   "id": "2ea1dcbd-bb35-4f52-b797-bd0676d8a4a6",
   "metadata": {},
   "outputs": [
    {
     "name": "stdout",
     "output_type": "stream",
     "text": [
      "DataFrame:\n",
      "     Name  Age  Gender\n",
      "0   Alice   25  Female\n",
      "1     Bob   30    Male\n",
      "2  Claire   27  Female\n",
      "Type of df: <class 'pandas.core.frame.DataFrame'>\n",
      "Series:\n",
      "0    25\n",
      "1    30\n",
      "2    27\n",
      "Name: Age, dtype: int64\n",
      "Type of age_series: <class 'pandas.core.series.Series'>\n"
     ]
    }
   ],
   "source": [
    "import pandas as pd\n",
    "\n",
    "data = {'Name': ['Alice', 'Bob', 'Claire'], \n",
    "        'Age': [25, 30, 27], \n",
    "        'Gender': ['Female', 'Male', 'Female']}\n",
    "\n",
    "df = pd.DataFrame(data)\n",
    "\n",
    "age_series = df['Age']\n",
    "\n",
    "print('DataFrame:')\n",
    "print(df)\n",
    "print('Type of df:', type(df))\n",
    "\n",
    "print('Series:')\n",
    "print(age_series)\n",
    "print('Type of age_series:', type(age_series))\n"
   ]
  },
  {
   "cell_type": "markdown",
   "id": "8b727df6-f61a-4647-afa1-b7898a39610f",
   "metadata": {},
   "source": [
    "## Q5. What are some common functions you can use to manipulate data in a Pandas DataFrame? Can you give an example of when you might use one of these functions?"
   ]
  },
  {
   "cell_type": "markdown",
   "id": "701b93e0-4f00-4e1d-9331-30f84c65a2f0",
   "metadata": {},
   "source": [
    "## ANS ==\n",
    "Pandas is a popular library in Python used for data manipulation and analysis. It provides several functions to manipulate data in a DataFrame. Here are some common functions we can use:\n",
    "\n",
    "1. drop(): This function is used to drop columns or rows from a DataFrame. For example, if you have a DataFrame with a column you no longer need, you can use the drop() function to remove it.\n",
    "\n",
    "2. groupby(): This function is used to group data based on some criteria. For example, if you have a DataFrame with sales data, you can use the groupby() function to group the data by product, region, or any other criteria.\n",
    "\n",
    "3. merge(): This function is used to combine two or more DataFrames into one. For example, if you have sales data in one DataFrame and customer data in another DataFrame, you can use the merge() function to combine the data based on a common column.\n",
    "\n",
    "4. fillna(): This function is used to fill missing values in a DataFrame with a specified value. For example, if you have a DataFrame with missing values, you can use the fillna() function to replace the missing values with the mean or median of the column.\n",
    "\n",
    "5. apply(): This function is used to apply a function to each row or column of a DataFrame. For example, if you have a DataFrame with sales data, you can use the apply() function to calculate the total sales for each row."
   ]
  },
  {
   "cell_type": "markdown",
   "id": "a026c19c-7a46-44d0-b6d8-a537655caf73",
   "metadata": {},
   "source": [
    "## Q6. Which of the following is mutable in nature Series, DataFrame, Panel?"
   ]
  },
  {
   "cell_type": "markdown",
   "id": "2d1f4738-b633-4e8a-86e5-5100ff3ca867",
   "metadata": {},
   "source": [
    "## ANS == \n",
    "In Pandas, the Series and DataFrame are mutable in nature, meaning that their values can be changed after they are created. On the other hand, the Panel is immutable, meaning that its values cannot be changed after it is created.\n",
    "\n",
    "To modify a Series or DataFrame, you can use various methods such as loc, iloc, and at to access and modify their values. For example, to change the value of a specific element in a DataFrame, you can use the loc method to locate the element "
   ]
  },
  {
   "cell_type": "markdown",
   "id": "fbeb1b70-d19b-4be1-94f9-ed622db8461d",
   "metadata": {},
   "source": [
    "## Q7. Create a DataFrame using multiple Series. Explain with an example."
   ]
  },
  {
   "cell_type": "markdown",
   "id": "aa324cb2-6358-412d-9d94-479504191688",
   "metadata": {},
   "source": [
    "## ANS ==\n",
    "In pandas, a DataFrame is a two-dimensional tabular data structure consisting of rows and columns. One way to create a DataFrame is by using multiple Series.\n",
    "\n",
    "A Series is a one-dimensional labeled array in pandas that can hold data of any type. Multiple Series can be combined into a DataFrame to create a table-like structure.\n",
    "\n",
    "Here is an example of how to create a DataFrame using multiple Series:"
   ]
  },
  {
   "cell_type": "code",
   "execution_count": 10,
   "id": "4076d625-be18-408b-a55a-9d266ea0f288",
   "metadata": {},
   "outputs": [
    {
     "name": "stdout",
     "output_type": "stream",
     "text": [
      "   col1 col2   col3\n",
      "0     1    a   True\n",
      "1     2    b  False\n",
      "2     3    c   True\n"
     ]
    }
   ],
   "source": [
    "import pandas as pd\n",
    "\n",
    "series1 = pd.Series([1, 2, 3])\n",
    "series2 = pd.Series(['a', 'b', 'c'])\n",
    "series3 = pd.Series([True, False, True])\n",
    "\n",
    "df = pd.DataFrame({'col1': series1, 'col2': series2, 'col3': series3})\n",
    "\n",
    "print(df)\n"
   ]
  },
  {
   "cell_type": "code",
   "execution_count": null,
   "id": "53964e1f-e8ef-4695-bd1a-b2bd62be42bd",
   "metadata": {},
   "outputs": [],
   "source": []
  }
 ],
 "metadata": {
  "kernelspec": {
   "display_name": "Python 3 (ipykernel)",
   "language": "python",
   "name": "python3"
  },
  "language_info": {
   "codemirror_mode": {
    "name": "ipython",
    "version": 3
   },
   "file_extension": ".py",
   "mimetype": "text/x-python",
   "name": "python",
   "nbconvert_exporter": "python",
   "pygments_lexer": "ipython3",
   "version": "3.10.8"
  }
 },
 "nbformat": 4,
 "nbformat_minor": 5
}
