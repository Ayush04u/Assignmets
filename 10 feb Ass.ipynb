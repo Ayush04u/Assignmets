{
 "cells": [
  {
   "cell_type": "markdown",
   "id": "d64b8f4c-5032-42d0-978f-4c5016981cd1",
   "metadata": {},
   "source": [
    "## Q1. Which function is used to open a file? What are the different modes of opening a file? Explain each mode of file opening"
   ]
  },
  {
   "cell_type": "markdown",
   "id": "374497b5-73c4-4c83-9ad8-7a391ea81674",
   "metadata": {},
   "source": [
    "\n",
    "There are several different modes in which a file can be opened:\n",
    "\n",
    "r - Read mode: This mode opens the file for reading only. The file pointer is placed at the beginning of the file. If the file does not exist, an error is raised.\n",
    "\n",
    "w - Write mode: This mode opens the file for writing only. If the file exists, its contents are truncated. If the file does not exist, a new file is created.\n",
    "\n",
    "a - Append mode: This mode opens the file for writing only. The file pointer is placed at the end of the file. If the file does not exist, a new file is created.\n",
    "\n",
    "x - Exclusive creation mode: This mode opens the file for exclusive creation. If the file already exists, an error is raised.\n",
    "\n",
    "b - Binary mode: This mode is used to open a file in binary mode. This is used for non-text files like images or audio files.\n",
    "\n",
    "t - Text mode: This mode is used to open a file in text mode. This is used for text files like .txt, .csv, or .html files.\n",
    "\n",
    "+ - Update mode: This mode is used to open a file for updating. It can be used with any of the above modes."
   ]
  },
  {
   "cell_type": "markdown",
   "id": "16f38b83-7cc9-4362-a236-d394b4f30428",
   "metadata": {},
   "source": [
    "## Q2. Why close() function is used? Why is it important to close a file?"
   ]
  },
  {
   "cell_type": "markdown",
   "id": "23e74d93-15b0-4104-9745-01c1ed8bf1d9",
   "metadata": {},
   "source": [
    "## ANS ==\n",
    "The close() function is used to close a file object that was previously opened using the open() function. It is important to close a file because leaving a file open can have unintended consequences, such as preventing other programs from accessing the file, using up system resources, or causing data corruption.\n",
    "\n",
    "When a file is opened in a program, the operating system allocates resources to manage the file, such as memory and file descriptors. If the file is not closed properly, these resources may not be released, which can cause problems\n",
    "\n",
    "Closing a file using the close() function releases the resources associated with the file, allowing other programs to access it and ensuring that any changes made to the file are properly saved. It is considered good practice to always close files after they are opened, even if the program terminates shortly afterward. This helps to avoid potential issues and ensures that the program behaves predictably"
   ]
  },
  {
   "cell_type": "markdown",
   "id": "b7827d5f-89f0-4ba0-b49b-7e8f60a51bb1",
   "metadata": {},
   "source": [
    "## Q3. Write a python program to create a text file. Write ‘I want to become a Data Scientist’ in that file. Then close the file. Open this file and read the content of the file."
   ]
  },
  {
   "cell_type": "code",
   "execution_count": 1,
   "id": "44500a1a-a51e-4d48-8247-ffe6be3bdcbc",
   "metadata": {},
   "outputs": [
    {
     "name": "stdout",
     "output_type": "stream",
     "text": [
      "I want to become a Data Scientist\n"
     ]
    }
   ],
   "source": [
    "with open('test.txt','w') as file:\n",
    "    file.write('I want to become a Data Scientist')\n",
    "    \n",
    "with open('test.txt','r') as file:\n",
    "    file_contents = file.read()\n",
    "    \n",
    "print(file_contents)"
   ]
  },
  {
   "cell_type": "markdown",
   "id": "e3be6cfd-a09d-44a3-bc71-0047c08ba5a2",
   "metadata": {},
   "source": [
    "## Q4. Explain the following with python code: read(), readline() and readlines()."
   ]
  },
  {
   "cell_type": "code",
   "execution_count": 5,
   "id": "8583cbd4-be0b-4830-9725-d7b411e8a496",
   "metadata": {},
   "outputs": [
    {
     "name": "stdout",
     "output_type": "stream",
     "text": [
      "I want to become a Data Scientist\n",
      "i am learning python\n",
      "i want to do masters in Data Science\n"
     ]
    }
   ],
   "source": [
    "## The read() Method:-\n",
    "file = open(\"test1.txt\", \"r\")\n",
    "content = file.read()\n",
    "print(content)\n",
    "file.close()\n"
   ]
  },
  {
   "cell_type": "code",
   "execution_count": 8,
   "id": "d9761836-954e-42f2-bccd-04e1ee607bfd",
   "metadata": {},
   "outputs": [
    {
     "name": "stdout",
     "output_type": "stream",
     "text": [
      "I want to become a Data Scientist\n",
      "\n"
     ]
    }
   ],
   "source": [
    "## The readline() Method:-\n",
    "file = open(\"test1.txt\", \"r\")\n",
    "line = file.readline()\n",
    "print(line)\n",
    "file.close()\n"
   ]
  },
  {
   "cell_type": "code",
   "execution_count": 12,
   "id": "7b670f6f-7814-4825-a262-63a8aa1a9614",
   "metadata": {},
   "outputs": [
    {
     "name": "stdout",
     "output_type": "stream",
     "text": [
      "['I want to become a Data Scientist\\n', 'i am learning python\\n', 'i want to do masters in Data Science']\n"
     ]
    }
   ],
   "source": [
    "## The readlines() Method:-\n",
    "file = open(\"test1.txt\", \"r\")\n",
    "lines = file.readlines()\n",
    "print(lines)\n",
    "file.close()\n",
    "\n"
   ]
  },
  {
   "cell_type": "markdown",
   "id": "b0b1d150-a0b2-49ae-9cd4-19cf59f0781e",
   "metadata": {},
   "source": [
    "## Q5. Explain why with statement is used with open(). What is the advantage of using with statement and open() together?"
   ]
  },
  {
   "cell_type": "markdown",
   "id": "24ef2600-94ea-4c84-b3be-392185d9ca04",
   "metadata": {},
   "source": [
    "## ANS ==\n",
    "The with statement with open() provides a safe and efficient way to handle file I/O in Python, and helps to ensure that files are properly opened and closed, even in the event of errors or exceptions.\n",
    "\n",
    "The advantage of using the with statement and open() together is that it simplifies the code and makes it more readable. Instead of having to explicitly close the file using the close() method, the with statement automatically takes care of this for you, making the code shorter and less error-prone."
   ]
  },
  {
   "cell_type": "markdown",
   "id": "5ff63b26-e5ee-4e2c-95d4-da1c7427530f",
   "metadata": {},
   "source": [
    "## Q6. Explain the write() and writelines() functions. Give a suitable example."
   ]
  },
  {
   "cell_type": "markdown",
   "id": "a87d0ee7-6312-44a1-a21f-2cfe2f8f0034",
   "metadata": {},
   "source": [
    "## ANS ==\n",
    "The write() function is used to write a single string of data to a file. It takes a string as input and writes the contents of the string to the file. If the file already exists, it will overwrite the existing contents of the file. If the file does not exist, it will create a new file with the specified name."
   ]
  },
  {
   "cell_type": "code",
   "execution_count": 23,
   "id": "e78442be-1d01-4f4f-9a4b-7dcffc8c588b",
   "metadata": {},
   "outputs": [],
   "source": [
    "## FOR Example:-\n",
    "with open('test2.txt', 'w') as f:\n",
    "    f.write('This is an example of using the write() function in Python.\\n')\n"
   ]
  },
  {
   "cell_type": "markdown",
   "id": "50c3dd60-5b06-4bc1-82cd-3100b0a5fc04",
   "metadata": {},
   "source": [
    "The writelines() function, on the other hand, is used to write a sequence of strings to a file. It takes a list of strings as input, and writes each string to the file. Like the write() function, if the file already exists, it will overwrite the existing contents of the file, and if the file does not exist, it will create a new file with the specified name."
   ]
  },
  {
   "cell_type": "code",
   "execution_count": 15,
   "id": "e41cd4be-fdf4-44bd-ba68-174e9b7b43a7",
   "metadata": {},
   "outputs": [
    {
     "name": "stdout",
     "output_type": "stream",
     "text": [
      "['This is the first line.\\n', 'This is the second line.\\n', 'This is the third line.\\n']\n"
     ]
    }
   ],
   "source": [
    "## FOR Example:-\n",
    "lines = ['This is the first line.\\n', 'This is the second line.\\n', 'This is the third line.\\n']\n",
    "\n",
    "with open('test2.txt', 'w') as f:\n",
    "    f.writelines(lines)\n",
    "print(lines)"
   ]
  },
  {
   "cell_type": "code",
   "execution_count": null,
   "id": "6f806cb8-509e-48b8-8ccc-f367ea2b967f",
   "metadata": {},
   "outputs": [],
   "source": []
  }
 ],
 "metadata": {
  "kernelspec": {
   "display_name": "Python 3 (ipykernel)",
   "language": "python",
   "name": "python3"
  },
  "language_info": {
   "codemirror_mode": {
    "name": "ipython",
    "version": 3
   },
   "file_extension": ".py",
   "mimetype": "text/x-python",
   "name": "python",
   "nbconvert_exporter": "python",
   "pygments_lexer": "ipython3",
   "version": "3.10.8"
  }
 },
 "nbformat": 4,
 "nbformat_minor": 5
}
