{
 "cells": [
  {
   "cell_type": "markdown",
   "id": "8a749471-d3e7-43e4-8dd7-09cc28ef4cdb",
   "metadata": {},
   "source": [
    "## Q1. How can you create a Bokeh plot using Python code?"
   ]
  },
  {
   "cell_type": "code",
   "execution_count": 8,
   "id": "6932ef88-6688-45e9-9e19-894d2809bb27",
   "metadata": {},
   "outputs": [],
   "source": [
    "#Ans ==\n",
    "from bokeh.plotting import figure, show\n",
    "\n",
    "# Create a new plot with a title and axis labels\n",
    "plot = figure(title=\"My Bokeh Plot\", x_axis_label=\"X-axis\", y_axis_label=\"Y-axis\")\n",
    "\n",
    "# Add data to the plot (e.g., using the circle glyph)\n",
    "plot.circle([1, 2, 3, 4, 5], [6, 7, 2, 4, 5], size=10, color=\"navy\", alpha=0.5)\n",
    "\n",
    "# Show the plot\n",
    "show(plot)\n",
    "\n"
   ]
  },
  {
   "cell_type": "markdown",
   "id": "925c97e2-68e5-4351-8996-bacc4225633e",
   "metadata": {},
   "source": [
    "## Q2.What are glyphs in Bokeh, and how can you add them to a Bokeh plot? Explain with an example."
   ]
  },
  {
   "cell_type": "code",
   "execution_count": 10,
   "id": "408a727e-5645-453c-9caa-a30bea745f8c",
   "metadata": {},
   "outputs": [],
   "source": [
    "#Ans ==\n",
    "from bokeh.plotting import figure, show\n",
    "\n",
    "# Create a new plot\n",
    "plot = figure(title=\"Glyph Example\", x_axis_label=\"X-axis\", y_axis_label=\"Y-axis\")\n",
    "\n",
    "# Add a circle glyph to the plot\n",
    "plot.circle(x=[1, 2, 3, 4, 5], y=[6, 7, 2, 4, 5], size=10, color=\"green\", alpha=0.8, legend_label=\"Circle Glyph\")\n",
    "\n",
    "# Add a line glyph to the plot\n",
    "plot.line(x=[1, 2, 3, 4, 5], y=[6, 7, 2, 4, 5], line_width=2, line_color=\"blue\", legend_label=\"Line Glyph\")\n",
    "\n",
    "# Show the plot with legend\n",
    "plot.legend.location = \"top_left\"\n",
    "show(plot)\n"
   ]
  },
  {
   "cell_type": "markdown",
   "id": "3df76724-db91-46dd-b5a0-43c3aa86b99f",
   "metadata": {},
   "source": [
    "## Q3. How can you customize the appearance of a Bokeh plot, including the axes, title, and legend?"
   ]
  },
  {
   "cell_type": "code",
   "execution_count": 12,
   "id": "d20c77fa-5f59-4a19-8ab5-21e64e9f7b77",
   "metadata": {},
   "outputs": [],
   "source": [
    "#Ans ==\n",
    "from bokeh.plotting import figure, show\n",
    "\n",
    "# Create a new plot with customized appearance\n",
    "plot = figure(\n",
    "    title=\"Customized Bokeh Plot\",\n",
    "    x_axis_label=\"X-axis\",\n",
    "    y_axis_label=\"Y-axis\",\n",
    "    width=400,\n",
    "    height=300,\n",
    "    tools=\"pan,box_zoom,reset\",\n",
    "    sizing_mode=\"fixed\",  # or \"stretch_both\" for responsive sizing\n",
    ")\n",
    "\n",
    "# Add data to the plot\n",
    "plot.circle([1, 2, 3, 4, 5], [6, 7, 2, 4, 5], size=10, color=\"orange\", alpha=0.7, legend_label=\"Data Points\")\n",
    "\n",
    "# Customize axes\n",
    "plot.xaxis.axis_label_text_color = \"red\"\n",
    "plot.yaxis.axis_label_text_font_style = \"italic\"\n",
    "\n",
    "# Customize title\n",
    "plot.title.text_font_size = \"16pt\"\n",
    "plot.title.text_color = \"navy\"\n",
    "\n",
    "# Customize legend\n",
    "plot.legend.label_text_color = \"purple\"\n",
    "\n",
    "# Show the plot\n",
    "show(plot)\n",
    "\n"
   ]
  },
  {
   "cell_type": "markdown",
   "id": "86facce6-0f68-4dfe-9b0a-0902df6c987a",
   "metadata": {},
   "source": [
    "## Q4. What is a Bokeh server, and how can you use it to create interactive plots that can be updated in real time?"
   ]
  },
  {
   "cell_type": "markdown",
   "id": "55e0afb4-d621-4195-bafc-da8fb91d258b",
   "metadata": {},
   "source": [
    "#Ans ==\n",
    "Bokeh server is a component of the Bokeh library that allows you to create interactive web applications with real-time updates. It enables the server to push updates to the client, making it possible to build dynamic and responsive plots. Bokeh server extends the capabilities of static Bokeh plots by adding interactivity and the ability to handle user inputs and updates.\n",
    "\n",
    "To use Bokeh server, you typically follow these steps:\n",
    "\n",
    "Define a Bokeh Application:\n",
    "Create a Python script or module that defines a Bokeh application using the curdoc() function from bokeh.document. The Bokeh application is essentially a function or class that sets up the initial state of the plot and specifies how the plot should respond to events.\n",
    "\n",
    "Create Dynamic Elements:\n",
    "Within the Bokeh application, you can create dynamic elements that can be updated in real time. For example, you can define a callback function that modifies the data or properties of the plot based on user interactions or external triggers.\n",
    "\n",
    "Run the Bokeh Server:\n",
    "Execute the Bokeh server command in your terminal to launch the server and make your application available. The command is typically bokeh serve your_script.py. This starts a Bokeh server that listens for incoming connections.\n",
    "\n",
    "Access the Interactive Plot:\n",
    "Open a web browser and navigate to the specified address (usually http://localhost:5006/your_script). This will display your Bokeh application, and any updates triggered by user interactions or callbacks will be reflected in real time."
   ]
  },
  {
   "cell_type": "code",
   "execution_count": 14,
   "id": "f4bee5e6-a3a6-4eb2-8063-ddf54c26a705",
   "metadata": {},
   "outputs": [],
   "source": [
    "# File: my_bokeh_app.py\n",
    "from bokeh.plotting import figure, curdoc, show\n",
    "from bokeh.models import ColumnDataSource\n",
    "from bokeh.io import push_notebook\n",
    "import numpy as np\n",
    "\n",
    "# Create a plot with initial data\n",
    "plot = figure(title=\"Real-time Bokeh Plot\", height=300, width=400)\n",
    "source = ColumnDataSource(data=dict(x=[], y=[]))\n",
    "glyph = plot.circle(x='x', y='y', size=10, color=\"orange\", source=source)\n",
    "\n",
    "# Update the plot in response to user interactions\n",
    "def update():\n",
    "    new_data = dict(x=np.random.random(), y=np.random.random())\n",
    "    source.stream(new_data, rollover=10)\n",
    "    push_notebook()\n",
    "\n",
    "# Set up a periodic callback to update the plot every 1000 milliseconds (1 second)\n",
    "curdoc().add_periodic_callback(update, 1000)\n",
    "\n",
    "# Show the plot in a Jupyter notebook\n",
    "show(plot, notebook_handle=True)\n"
   ]
  },
  {
   "cell_type": "markdown",
   "id": "e91fb869-2fb3-41aa-a1a3-af4071bd2cfa",
   "metadata": {},
   "source": [
    "## Q5. How can you embed a Bokeh plot into a web page or dashboard using Flask or Django?"
   ]
  },
  {
   "cell_type": "code",
   "execution_count": 2,
   "id": "deec5c4e-b876-42f4-8ba8-9b6764cf5b4d",
   "metadata": {},
   "outputs": [
    {
     "name": "stdout",
     "output_type": "stream",
     "text": [
      " * Serving Flask app '__main__'\n",
      " * Debug mode: on\n"
     ]
    },
    {
     "name": "stderr",
     "output_type": "stream",
     "text": [
      "WARNING: This is a development server. Do not use it in a production deployment. Use a production WSGI server instead.\n",
      " * Running on http://127.0.0.1:5000\n",
      "Press CTRL+C to quit\n",
      " * Restarting with stat\n",
      "Traceback (most recent call last):\n",
      "  File \"/opt/conda/lib/python3.10/runpy.py\", line 196, in _run_module_as_main\n",
      "    return _run_code(code, main_globals, None,\n",
      "  File \"/opt/conda/lib/python3.10/runpy.py\", line 86, in _run_code\n",
      "    exec(code, run_globals)\n",
      "  File \"/opt/conda/lib/python3.10/site-packages/ipykernel_launcher.py\", line 17, in <module>\n",
      "    app.launch_new_instance()\n",
      "  File \"/opt/conda/lib/python3.10/site-packages/traitlets/config/application.py\", line 991, in launch_instance\n",
      "    app.initialize(argv)\n",
      "  File \"/opt/conda/lib/python3.10/site-packages/traitlets/config/application.py\", line 113, in inner\n",
      "    return method(app, *args, **kwargs)\n",
      "  File \"/opt/conda/lib/python3.10/site-packages/ipykernel/kernelapp.py\", line 665, in initialize\n",
      "    self.init_sockets()\n",
      "  File \"/opt/conda/lib/python3.10/site-packages/ipykernel/kernelapp.py\", line 309, in init_sockets\n",
      "    self.shell_port = self._bind_socket(self.shell_socket, self.shell_port)\n",
      "  File \"/opt/conda/lib/python3.10/site-packages/ipykernel/kernelapp.py\", line 246, in _bind_socket\n",
      "    return self._try_bind_socket(s, port)\n",
      "  File \"/opt/conda/lib/python3.10/site-packages/ipykernel/kernelapp.py\", line 222, in _try_bind_socket\n",
      "    s.bind(\"tcp://%s:%i\" % (self.ip, port))\n",
      "  File \"/opt/conda/lib/python3.10/site-packages/zmq/sugar/socket.py\", line 232, in bind\n",
      "    super().bind(addr)\n",
      "  File \"zmq/backend/cython/socket.pyx\", line 568, in zmq.backend.cython.socket.Socket.bind\n",
      "  File \"zmq/backend/cython/checkrc.pxd\", line 28, in zmq.backend.cython.checkrc._check_rc\n",
      "zmq.error.ZMQError: Address already in use\n"
     ]
    },
    {
     "ename": "SystemExit",
     "evalue": "1",
     "output_type": "error",
     "traceback": [
      "An exception has occurred, use %tb to see the full traceback.\n",
      "\u001b[0;31mSystemExit\u001b[0m\u001b[0;31m:\u001b[0m 1\n"
     ]
    }
   ],
   "source": [
    "#Ans==\n",
    "# File: app.py\n",
    "from flask import Flask, render_template\n",
    "from bokeh.plotting import figure\n",
    "from bokeh.embed import components\n",
    "import numpy as np\n",
    "\n",
    "app = Flask(__name__)\n",
    "\n",
    "@app.route('/')\n",
    "def index():\n",
    "    # Create a Bokeh plot\n",
    "    x = np.linspace(0, 4 * np.pi, 100)\n",
    "    y = np.sin(x)\n",
    "    plot = figure(title=\"Bokeh Plot in Flask\", plot_height=300, plot_width=400)\n",
    "    plot.line(x, y)\n",
    "\n",
    "    # Get components to embed in the template\n",
    "    script, div = components(plot)\n",
    "    return render_template('index.html', script=script, div=div)\n",
    "\n",
    "if __name__ == '__main__':\n",
    "    app.run(debug=True)\n"
   ]
  },
  {
   "cell_type": "markdown",
   "id": "a5db73e4-1f10-4029-8a73-01a0cbc54cf9",
   "metadata": {},
   "source": [
    "<!-- File: templates/index.html -->\n",
    "<!DOCTYPE html>\n",
    "<html lang=\"en\">\n",
    "<head>\n",
    "    <meta charset=\"UTF-8\">\n",
    "    <meta name=\"viewport\" content=\"width=device-width, initial-scale=1.0\">\n",
    "    <title>Flask Bokeh Plot</title>\n",
    "    {{ script|safe }}\n",
    "</head>\n",
    "<body>\n",
    "    <h1>Bokeh Plot in Flask</h1>\n",
    "    {{ div|safe }}\n",
    "</body>\n",
    "</html>\n"
   ]
  },
  {
   "cell_type": "code",
   "execution_count": null,
   "id": "d33de2eb-42c8-4480-b574-7a3406ef00e1",
   "metadata": {},
   "outputs": [],
   "source": [
    "# File: myapp/views.py\n",
    "from django.shortcuts import render\n",
    "from bokeh.plotting import figure\n",
    "from bokeh.embed import components\n",
    "import numpy as np\n",
    "\n",
    "def bokeh_plot(request):\n",
    "    # Create a Bokeh plot\n",
    "    x = np.linspace(0, 4 * np.pi, 100)\n",
    "    y = np.sin(x)\n",
    "    plot = figure(title=\"Bokeh Plot in Django\", plot_height=300, plot_width=400)\n",
    "    plot.line(x, y)\n",
    "\n",
    "    # Get components to embed in the template\n",
    "    script, div = components(plot)\n",
    "    return render(request, 'bokeh_plot.html', {'script': script, 'div': div})\n"
   ]
  },
  {
   "cell_type": "code",
   "execution_count": null,
   "id": "0a067d36-1476-4750-b003-56400e0941f6",
   "metadata": {},
   "outputs": [],
   "source": [
    "# File: myapp/urls.py\n",
    "from django.urls import path\n",
    "from .views import bokeh_plot\n",
    "\n",
    "urlpatterns = [\n",
    "    path('bokeh_plot/', bokeh_plot, name='bokeh_plot'),\n",
    "]\n"
   ]
  },
  {
   "cell_type": "code",
   "execution_count": null,
   "id": "34aa0e58-79e7-4253-a4d2-9ab2e3ac9964",
   "metadata": {},
   "outputs": [],
   "source": [
    "<!-- File: myapp/templates/bokeh_plot.html -->\n",
    "<!DOCTYPE html>\n",
    "<html lang=\"en\">\n",
    "<head>\n",
    "    <meta charset=\"UTF-8\">\n",
    "    <meta name=\"viewport\" content=\"width=device-width, initial-scale=1.0\">\n",
    "    <title>Django Bokeh Plot</title>\n",
    "    {{ script|safe }}\n",
    "</head>\n",
    "<body>\n",
    "    <h1>Bokeh Plot in Django</h1>\n",
    "    {{ div|safe }}\n",
    "</body>\n",
    "</html>\n"
   ]
  }
 ],
 "metadata": {
  "kernelspec": {
   "display_name": "Python 3 (ipykernel)",
   "language": "python",
   "name": "python3"
  },
  "language_info": {
   "codemirror_mode": {
    "name": "ipython",
    "version": 3
   },
   "file_extension": ".py",
   "mimetype": "text/x-python",
   "name": "python",
   "nbconvert_exporter": "python",
   "pygments_lexer": "ipython3",
   "version": "3.10.8"
  }
 },
 "nbformat": 4,
 "nbformat_minor": 5
}
