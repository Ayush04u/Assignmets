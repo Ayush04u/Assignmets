{
 "cells": [
  {
   "cell_type": "markdown",
   "id": "bd857c35-4034-42c8-a3b3-60688050c77d",
   "metadata": {},
   "source": [
    "## Q1. What is a database? Differentiate between SQL and NoSQL databases."
   ]
  },
  {
   "cell_type": "markdown",
   "id": "f356fcd0-ff30-4c2a-a216-b92743d6efa6",
   "metadata": {},
   "source": [
    "## Ans ==\n",
    "A database is a structured collection of data that is organized in a way that allows easy access, retrieval, and manipulation of information. It is a software system that manages, stores, and retrieves data from a computer or other electronic devices.\n",
    "\n",
    "SQL (Structured Query Language) databases are traditional relational databases that are based on a table structure, which means that data is organized into tables with defined columns and rows. SQL databases use a set of predefined schemas to define how data is stored, and use SQL to interact with the data. SQL databases are widely used for their ability to handle complex queries and transactions and are ideal for applications where data consistency and integrity are crucial.\n",
    "\n",
    "NoSQL databases, on the other hand, are non-relational databases that are designed to handle large volumes of unstructured or semi-structured data, such as social media data, sensor data, or logs. NoSQL databases are based on a document, key-value, graph, or column-family data model, and offer flexible data structures that can be easily adapted to different data types. NoSQL databases typically offer better scalability, performance, and availability than SQL databases, but may sacrifice some of the features and functionalities of SQL databases such as strong consistency, transaction support, and complex querying capabilities."
   ]
  },
  {
   "cell_type": "markdown",
   "id": "09579e4d-8ae8-448c-970d-9859510ea7ba",
   "metadata": {},
   "source": [
    "## Q2. What is DDL? Explain why CREATE, DROP, ALTER, and TRUNCATE are used with an example."
   ]
  },
  {
   "cell_type": "markdown",
   "id": "6c71fec8-4012-4d27-af2d-9433e04ddc67",
   "metadata": {},
   "source": [
    "## ANS == \n",
    "DDL stands for Data Definition Language, which is a set of SQL commands used to define and modify the structure of database objects such as tables, indexes, and views. These commands are used to create, drop, alter, and truncate database objects."
   ]
  },
  {
   "cell_type": "code",
   "execution_count": null,
   "id": "e09d155f-7a82-411d-a4fe-2a566248dd77",
   "metadata": {},
   "outputs": [],
   "source": [
    "## 1. CREATE: This command is used to create a new table in the database. The syntax for creating a table is as follows:\n",
    "\n",
    "CREATE TABLE table_name (\n",
    "   column1 datatype constraint,\n",
    "   column2 datatype constraint,\n",
    "   \n",
    ");\n",
    "\n"
   ]
  },
  {
   "cell_type": "code",
   "execution_count": null,
   "id": "9c4a78a4-ba1f-4d79-b8a6-d83973d72498",
   "metadata": {},
   "outputs": [],
   "source": [
    "CREATE TABLE employees(\n",
    "    id int PRIMARY KEY,\n",
    "    name ayush(341) NOT NULL,\n",
    "    salary decimal(30, 2 ) DEFAULT 0.00\n",
    ");"
   ]
  },
  {
   "cell_type": "code",
   "execution_count": null,
   "id": "2eea62c4-ee96-461b-b7c5-82aa6eec9058",
   "metadata": {},
   "outputs": [],
   "source": [
    "## 2. DROP: This command is used to delete a table or other database object from the database. The syntax for dropping a table is:\n",
    "DROP TABLE table_name;\n",
    "\n",
    "## For example, to delete the \"employees\" table, the SQL command would be:\n",
    "DROP TABLE employees;\n"
   ]
  },
  {
   "cell_type": "code",
   "execution_count": null,
   "id": "61c75ecc-6d42-4ace-9cb7-2de0ff2163b7",
   "metadata": {},
   "outputs": [],
   "source": [
    "## 3. ALTER: This command is used to modify the structure of an existing table, such as adding or removing columns or changing the data type of a column. The syntax for altering a table is:\n",
    "ALTER TABLE table_name\n",
    "   ADD column_name datatype constraint;\n",
    "    \n",
    "## For example, to add a column for email address to the \"employees\" table, the SQL command would be:\n",
    "ALTER TABLE employees\n",
    "   ADD email varchar(255);\n"
   ]
  },
  {
   "cell_type": "code",
   "execution_count": null,
   "id": "35d7c189-0cb8-416f-a556-e7ab350bda31",
   "metadata": {},
   "outputs": [],
   "source": [
    "## 4. TRUNCATE: This command is used to delete all the data from a table without deleting the table structure itself. The syntax for truncating a table is:\n",
    "TRUNCATE TABLE table_name;\n",
    "## For example, to delete all the data from the \"employees\" table, the SQL command would be:\n",
    "TRUNCATE TABLE employees;"
   ]
  },
  {
   "cell_type": "markdown",
   "id": "ad729cde-6dcb-47e0-a8c5-3fbee5c24ead",
   "metadata": {},
   "source": [
    "## Q3.What is DML? Explain INSERT, UPDATE, and DELETE with an example."
   ]
  },
  {
   "cell_type": "markdown",
   "id": "a51c6d98-7720-4129-ad24-e21a3f601610",
   "metadata": {},
   "source": [
    "## ANS == \n",
    "DML stands for Data Manipulation Language, which is a subset of SQL used to manipulate data stored in a relational database. DML commands are used to insert new data into a database, update existing data, and delete data from a database."
   ]
  },
  {
   "cell_type": "markdown",
   "id": "dfbf89c4-29a4-498e-be63-2a7524682f00",
   "metadata": {},
   "source": [
    "## Here are some examples of each DML command:"
   ]
  },
  {
   "cell_type": "code",
   "execution_count": null,
   "id": "2b8dbb13-bb72-4856-bfdb-d322f00ad927",
   "metadata": {},
   "outputs": [],
   "source": [
    "# 1. INSERT: The INSERT command is used to insert new data into a table.\n",
    "\n",
    "INSERT INTO students (id, name, age) VALUES (1, 'Ayush', 20);"
   ]
  },
  {
   "cell_type": "code",
   "execution_count": null,
   "id": "f726bec5-d601-4567-b16b-e51dc2e371c9",
   "metadata": {},
   "outputs": [],
   "source": [
    "# 2. UPDATE: The UPDATE command is used to modify existing data in a table.\n",
    "\n",
    "UPDATE students SET age = 21 WHERE id = 1;"
   ]
  },
  {
   "cell_type": "code",
   "execution_count": null,
   "id": "48c733fa-a3c7-412e-91c0-bf3b619a8c11",
   "metadata": {},
   "outputs": [],
   "source": [
    "# 3. DELETE: The DELETE command is used to delete data from a table \n",
    "\n",
    "DELETE FROM students WHERE id = 1;"
   ]
  },
  {
   "cell_type": "markdown",
   "id": "04af6ffe-af6c-4219-95b8-f337a76b919b",
   "metadata": {},
   "source": [
    "## Q4. What is DQL? Explain SELECT with an example."
   ]
  },
  {
   "cell_type": "markdown",
   "id": "20d51f85-7e51-4fef-b70e-fb05eb1e0c4f",
   "metadata": {},
   "source": [
    "## ANS ==\n",
    "DQL stands for Data Query Language, which is a type of SQL used to retrieve data from a database. It is used to fetch and extract data from tables in a database.\n",
    "\n",
    "SELECT is one of the most commonly used DQL commands in SQL. It is used to retrieve data from a database table. The SELECT command can be used to select specific columns or all columns from a table, and can also filter the results based on certain conditions.\n",
    "\n",
    "Here is an example of a SELECT query:\n",
    "\n",
    "Suppose we have a table called \"customers\" with the following columns:\n",
    "\n",
    "customer_id\n",
    "first_name\n",
    "last_name\n",
    "email\n",
    "phone\n",
    "To retrieve all the data from this table, we can use the following SELECT query:"
   ]
  },
  {
   "cell_type": "code",
   "execution_count": null,
   "id": "ad01f8cd-9d60-47fb-be17-6017ee57906e",
   "metadata": {},
   "outputs": [],
   "source": [
    "SELECT * FROM customers;"
   ]
  },
  {
   "cell_type": "code",
   "execution_count": null,
   "id": "d52e85e1-5a36-42ee-bf2d-7a97c84fd8c3",
   "metadata": {},
   "outputs": [],
   "source": [
    "SELECT first_name, last_name FROM customers;"
   ]
  },
  {
   "cell_type": "code",
   "execution_count": null,
   "id": "4df28e36-c249-4ee8-8fcb-7caf41ddffa8",
   "metadata": {},
   "outputs": [],
   "source": [
    "SELECT * FROM customers WHERE email LIKE '@example.com' ; "
   ]
  },
  {
   "cell_type": "markdown",
   "id": "7bddc5bf-3b9c-43ad-89c5-9a4243841e55",
   "metadata": {},
   "source": [
    "## Q5. Explain Primary Key and Foreign Key."
   ]
  },
  {
   "cell_type": "markdown",
   "id": "ed4cc7a8-1609-4878-9f70-9024eff94e45",
   "metadata": {},
   "source": [
    "## ANS  ==\n",
    "A primary key is a column or a set of columns that uniquely identifies each row in a table. It is used to ensure the integrity of the data and to enforce data consistency. A primary key cannot have NULL values and must be unique for each row. A table can have only one primary key.\n",
    "\n",
    "For example, consider a table called \"students\" with the following columns:\n",
    "\n",
    "student_id (primary key)\n",
    "first_name\n",
    "last_name\n",
    "email\n",
    "phone\n",
    "In this table, the student_id column is the primary key. It ensures that each row in the table has a unique identifier."
   ]
  },
  {
   "cell_type": "markdown",
   "id": "2a573120-569a-4e2e-8066-03be9c153dda",
   "metadata": {},
   "source": [
    "A foreign key is a column or a set of columns that refers to the primary key of another table. It is used to establish relationships between tables and to enforce referential integrity. A foreign key can have NULL values, which means that the relationship is optional. However, if a foreign key value exists, it must match a primary key value in the referenced table.\n",
    "\n",
    "For example, consider a table called \"enrollments\" with the following columns:\n",
    "\n",
    "enrollment_id (primary key)\n",
    "student_id (foreign key)\n",
    "course_id (foreign key)\n",
    "enrollment_date\n",
    "In this table, the student_id column is a foreign key that refers to the primary key of the \"students\" table. It establishes a relationship between the \"enrollments\" table and the \"students\" table."
   ]
  },
  {
   "cell_type": "markdown",
   "id": "1866c8ff-3b19-4f2a-9a30-cfeca80c4b54",
   "metadata": {},
   "source": [
    "## Q6. Write a python code to connect MySQL to python. Explain the cursor() and execute() method."
   ]
  },
  {
   "cell_type": "code",
   "execution_count": null,
   "id": "96a4e566-96fb-4c44-9bc5-16a0414aa4a5",
   "metadata": {},
   "outputs": [],
   "source": [
    "import mysql.connector\n",
    "\n",
    "mydb = mysql.connector.connect(\n",
    "  host=\"localhost\",\n",
    "  user=\"yourusername\",\n",
    "  password=\"yourpassword\",\n",
    "  database=\"yourdatabase\"\n",
    ")\n",
    "\n",
    "\n",
    "mycursor = mydb.cursor()\n",
    "\n",
    "\n",
    "mycursor.execute(\"SELECT * FROM yourtable\")\n",
    "\n",
    "\n",
    "myresult = mycursor.fetchall()\n",
    "\n",
    "\n",
    "for x in myresult:\n",
    "  print(x)\n"
   ]
  },
  {
   "cell_type": "markdown",
   "id": "ee22c48d-b8db-49e2-8960-d270c4abc5ba",
   "metadata": {},
   "source": [
    "Explanation of cursor() and execute():\n",
    "\n",
    "In the above code, we first establish a connection to the MySQL server using the connect() method of the mysql.connector module. We pass in the host, username, password, and database name to establish the connection.\n",
    "\n",
    "Next, we create a cursor object using the cursor() method of the connection object. The cursor object allows us to execute SQL queries on the database.\n",
    "\n",
    "We then use the execute() method of the cursor object to execute a SQL query. In this case, we are selecting all rows from a table.\n",
    "\n",
    "After executing the query, we use the fetchall() method of the cursor object to fetch all the rows returned by the query.\n",
    "\n",
    "Finally, we iterate over the result set and print each row."
   ]
  },
  {
   "cell_type": "markdown",
   "id": "3335a32d-97ff-4af9-a372-6b751b1912cb",
   "metadata": {},
   "source": [
    "## Q7. Give the order of execution of SQL clauses in an SQL query."
   ]
  },
  {
   "cell_type": "markdown",
   "id": "056561f2-e302-4d63-afcc-205d7710503b",
   "metadata": {},
   "source": [
    "## ANS ==\n",
    "The order of execution of clauses in an SQL query is as follows:\n",
    "\n",
    "1. FROM: This clause specifies the table(s) from which the data will be retrieved.\n",
    "\n",
    "2. JOIN: This clause is used to join multiple tables based on a common column or columns.\n",
    "\n",
    "3. WHERE: This clause filters the rows returned by the query based on a specified condition.\n",
    "\n",
    "4. GROUP BY: This clause groups the rows returned by the query based on one or more columns.\n",
    "\n",
    "5. HAVING: This clause filters the grouped rows based on a specified condition.\n",
    "\n",
    "6. SELECT: This clause selects the columns that will be returned by the query.\n",
    "\n",
    "7. DISTINCT: This clause removes duplicate rows from the result set.\n",
    "\n",
    "8. ORDER BY: This clause sorts the rows returned by the query based on one or more columns.\n",
    "\n",
    "9. LIMIT: This clause limits the number of rows returned by the query."
   ]
  },
  {
   "cell_type": "code",
   "execution_count": null,
   "id": "87a71d49-7d82-4e0e-ad0d-6b5d4a1f82fb",
   "metadata": {},
   "outputs": [],
   "source": []
  }
 ],
 "metadata": {
  "kernelspec": {
   "display_name": "Python 3 (ipykernel)",
   "language": "python",
   "name": "python3"
  },
  "language_info": {
   "codemirror_mode": {
    "name": "ipython",
    "version": 3
   },
   "file_extension": ".py",
   "mimetype": "text/x-python",
   "name": "python",
   "nbconvert_exporter": "python",
   "pygments_lexer": "ipython3",
   "version": "3.10.8"
  }
 },
 "nbformat": 4,
 "nbformat_minor": 5
}
