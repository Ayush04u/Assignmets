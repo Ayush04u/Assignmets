{
 "cells": [
  {
   "cell_type": "markdown",
   "id": "82cd3f8d-ab53-4e1b-a1dc-1d2375cbc2eb",
   "metadata": {},
   "source": [
    "## Q.1 what is exception in python? Write the difference between Exceptions and syntax errors."
   ]
  },
  {
   "cell_type": "markdown",
   "id": "37cdb80c-62b4-47da-9f4c-106c70458d00",
   "metadata": {},
   "source": [
    "## ANS ==\n",
    "In Python, an exception is an error that occurs during the execution of a program. When an exception occurs, the program stops running and an error message is displayed, indicating the type of exception and where it occurred in the code.\n",
    "\n",
    "Exceptions can occur for various reasons, such as:\n",
    "\n",
    "Syntax errors: These occur when there is a problem with the syntax of the code, such as a missing parenthesis or a typo.\n",
    "\n",
    "Runtime errors: These occur when the code is syntactically correct, but an error occurs during the execution of the program. Examples include division by zero, attempting to access an element in a list that does not exist, or trying to open a file that does not exist.\n",
    "\n",
    "Logical errors: These occur when the code runs without error, but does not produce the expected output. These errors are more difficult to detect and can be caused by incorrect algorithms or incorrect assumptions about the data.\n",
    "\n",
    "The main difference between exceptions and syntax errors is that syntax errors are detected by the interpreter before the code is executed, while exceptions occur during the execution of the program. Syntax errors are typically caused by mistakes in the code, while exceptions are typically caused by unexpected events during the execution of the program. Additionally, syntax errors prevent the program from running at all, while exceptions can be caught and handled within the code to allow the program to continue running."
   ]
  },
  {
   "cell_type": "markdown",
   "id": "3fa667a7-89d9-40dc-aaba-5ebe189e94e0",
   "metadata": {},
   "source": [
    "## Q2. What happens when an exception is not handled?    Explain with an example."
   ]
  },
  {
   "cell_type": "markdown",
   "id": "7afb02c0-1547-48d8-a0f9-70ed88e562da",
   "metadata": {},
   "source": [
    "## ANS ==\n",
    "When an exception is not handled, the program will terminate abruptly and display an error message or crash. This can lead to data loss or corruption, and can also cause the program to enter an unstable state"
   ]
  },
  {
   "cell_type": "code",
   "execution_count": 5,
   "id": "4241c92a-a01e-4ab7-b7d7-8d33fb6bf8ed",
   "metadata": {},
   "outputs": [
    {
     "name": "stdout",
     "output_type": "stream",
     "text": [
      "Error: division by zero\n"
     ]
    }
   ],
   "source": [
    "## For example, consider the following Python code that divides two numbers and catches a possible ZeroDivisionError:\n",
    "try:\n",
    "    a = 10\n",
    "    b = 0\n",
    "    result = a / b\n",
    "    print(result)\n",
    "except ZeroDivisionError:\n",
    "    print(\"Error: division by zero\")\n"
   ]
  },
  {
   "cell_type": "markdown",
   "id": "5efe7a96-d9d3-4c20-8f68-a25e29695985",
   "metadata": {},
   "source": [
    "## Q3. which Python statements are  used to catch and handle exceptions? Expalin with an example."
   ]
  },
  {
   "cell_type": "markdown",
   "id": "9b5f7d05-81b4-4489-a3ab-49ad8d83d4c3",
   "metadata": {},
   "source": [
    "## ANS ==\n",
    "Python has a built-in mechanism to catch and handle exceptions that can occur during the execution of a program. The try and except statements are used for this purpose.\n",
    "\n",
    "The try block contains the code that might generate an exception, and the except block contains the code to handle the exception. If an exception is raised in the try block, Python looks for an appropriate except block to handle the exception"
   ]
  },
  {
   "cell_type": "code",
   "execution_count": 9,
   "id": "39ddd51e-91de-4f01-80dc-ab59e9b39f80",
   "metadata": {},
   "outputs": [
    {
     "name": "stdin",
     "output_type": "stream",
     "text": [
      "Enter a number:  0\n"
     ]
    },
    {
     "name": "stdout",
     "output_type": "stream",
     "text": [
      "You cannot divide by zero.\n"
     ]
    }
   ],
   "source": [
    "## Here's an example:\n",
    "try:\n",
    "    x = int(input(\"Enter a number: \"))\n",
    "    y = 10 / x\n",
    "    print(y)\n",
    "except ValueError:\n",
    "    print(\"You did not enter a valid number.\")\n",
    "except ZeroDivisionError:\n",
    "    print(\"You cannot divide by zero.\")\n"
   ]
  },
  {
   "cell_type": "markdown",
   "id": "02ba78a8-7ce7-4bf9-b445-8be24fabc4f0",
   "metadata": {},
   "source": [
    "## Q4. Explain with an example:\n",
    "a. try and else \n",
    "b. finally\n",
    "c. raise"
   ]
  },
  {
   "cell_type": "markdown",
   "id": "37b90862-fcdc-4b7e-b1f5-6c839d9da471",
   "metadata": {},
   "source": [
    "## ANS ==\n",
    "try and else are control flow statements used in Python to handle exceptions or errors that might occur during the execution of a program. The try block contains the code that might generate an error, while the else block contains the code that should be executed if no exception occurs. \n",
    "\n",
    "Here's an example:"
   ]
  },
  {
   "cell_type": "code",
   "execution_count": 15,
   "id": "99bb676a-9d1b-4eac-88bc-1caa3549b852",
   "metadata": {},
   "outputs": [
    {
     "name": "stdout",
     "output_type": "stream",
     "text": [
      "Cannot divide by zero\n"
     ]
    }
   ],
   "source": [
    "try:\n",
    "    result = 10/0\n",
    "except ZeroDivisionError:\n",
    "    print(\"Cannot divide by zero\")\n",
    "else:\n",
    "    print(\"Result:\",result)"
   ]
  },
  {
   "cell_type": "markdown",
   "id": "580b8def-0cf7-4ad8-ba93-842b5c20282f",
   "metadata": {},
   "source": [
    " b. finally is another control flow statement used in Python to specify a block of code that should be executed regardless of whether an exception occurred or not.\n",
    "\n",
    "Here's an example:"
   ]
  },
  {
   "cell_type": "code",
   "execution_count": 18,
   "id": "2e25f757-f469-45ed-b07e-d27038a8e757",
   "metadata": {},
   "outputs": [],
   "source": [
    "try:\n",
    "    f = open(\"test1.txt\",\"r\")\n",
    "except IOError:\n",
    "    print(\"Error opening the file\")\n",
    "finally:\n",
    "    f.close()"
   ]
  },
  {
   "cell_type": "markdown",
   "id": "a83c48a6-9fb2-4d2e-82c3-16fe2d010b81",
   "metadata": {},
   "source": [
    "c. raise is a statement in Python that is used to manually generate an exception or error. It is often used to handle exceptional cases that cannot be handled by the regular control flow statements. \n",
    "\n",
    "Here's an example:"
   ]
  },
  {
   "cell_type": "code",
   "execution_count": 19,
   "id": "01dad7e0-7eac-4844-bec1-b3e9dead555f",
   "metadata": {},
   "outputs": [
    {
     "name": "stdout",
     "output_type": "stream",
     "text": [
      "Cannot divide by zero\n"
     ]
    }
   ],
   "source": [
    "def divide(x,y):\n",
    "    if y == 0:\n",
    "        raise ZeroDivisionError(\"Cannot divide by zero\")\n",
    "    return x / y\n",
    "try:\n",
    "    result = divide(10,0)\n",
    "except (ZeroDivisionError) as e:\n",
    "    print(e)"
   ]
  },
  {
   "cell_type": "markdown",
   "id": "1c8e7475-abf5-4fd5-9bb9-8347fc7da47c",
   "metadata": {},
   "source": [
    "## Q5. What are the Custom Exception in python? Why do we need Custom Exceptions? Explain with an example"
   ]
  },
  {
   "cell_type": "markdown",
   "id": "0c842ab4-b262-4078-9e17-bce3e5ab9de3",
   "metadata": {},
   "source": [
    "## ANS ==\n",
    "custom exceptions are exceptions that we can define for our specific use cases. They allow us to create more specific and informative error messages that can help us identify and debug issues in our code more easily. We might need custom exceptions when we want to handle specific errors in our program that are not covered by the built-in Python exceptions."
   ]
  },
  {
   "cell_type": "markdown",
   "id": "cfbf7496-51ed-47a9-a34b-8e69443ecfad",
   "metadata": {},
   "source": [
    "For example, suppose we are creating a program that calculates the area of a rectangle. If the user enters negative values for the length or width of the rectangle, the built-in ValueError exception will be raised. However, this error message is not specific to our program and does not provide much information on what went wrong. We can create a custom exception to handle this case:"
   ]
  },
  {
   "cell_type": "code",
   "execution_count": 38,
   "id": "36d8bf45-c913-43bb-8a03-f936b5679439",
   "metadata": {},
   "outputs": [],
   "source": [
    "class RectangleError(Exception):\n",
    "    pass\n",
    "\n",
    "def calculate_area(length, width):\n",
    "    \n",
    "    if length < 0 or width < 0:\n",
    "        raise RectangleError(\"Length and width must be positive values\")\n",
    "    else:\n",
    "        return length * width\n"
   ]
  },
  {
   "cell_type": "markdown",
   "id": "830bd612-e479-4c85-a8f0-f815956d344a",
   "metadata": {},
   "source": [
    "## Q6. Create a custom exception class. Use this class to handle an exception."
   ]
  },
  {
   "cell_type": "code",
   "execution_count": 39,
   "id": "1806f7a9-66a5-40ec-a4ec-1242ec8d3b6b",
   "metadata": {},
   "outputs": [
    {
     "name": "stdout",
     "output_type": "stream",
     "text": [
      "Exception caught: Something went wrong!\n"
     ]
    }
   ],
   "source": [
    "class CustomException(Exception):\n",
    "    def __init__(self, message):\n",
    "        super().__init__(message)\n",
    "        self.message = message\n",
    "\n",
    "try:\n",
    "    raise CustomException(\"Something went wrong!\")\n",
    "except CustomException as e:\n",
    "    print(\"Exception caught:\", e.message)\n"
   ]
  },
  {
   "cell_type": "code",
   "execution_count": null,
   "id": "839fe108-0c9b-4206-bef5-f0fa037adf33",
   "metadata": {},
   "outputs": [],
   "source": []
  }
 ],
 "metadata": {
  "kernelspec": {
   "display_name": "Python 3 (ipykernel)",
   "language": "python",
   "name": "python3"
  },
  "language_info": {
   "codemirror_mode": {
    "name": "ipython",
    "version": 3
   },
   "file_extension": ".py",
   "mimetype": "text/x-python",
   "name": "python",
   "nbconvert_exporter": "python",
   "pygments_lexer": "ipython3",
   "version": "3.10.8"
  }
 },
 "nbformat": 4,
 "nbformat_minor": 5
}
