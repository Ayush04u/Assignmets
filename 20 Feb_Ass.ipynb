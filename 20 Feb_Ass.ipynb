{
 "cells": [
  {
   "cell_type": "markdown",
   "id": "c6464936-a3de-4bec-b0f0-1ce0f9a11c99",
   "metadata": {},
   "source": [
    "## Q1. Explain GET and POST methods."
   ]
  },
  {
   "cell_type": "markdown",
   "id": "e56169b7-4bca-42f8-ac86-6937fdfe453d",
   "metadata": {},
   "source": [
    "## ANS ==\n",
    "GET method:\n",
    "\n",
    "1. When a client sends a GET request to a server, it retrieves information from the server.\n",
    "2. The information can be in the form of a web page, a file, or any other resource available on the server.\n",
    "3. The GET request parameters are included in the URL, which is visible to the user.\n",
    "4. The GET method is considered safe and idempotent, meaning it can be executed multiple times without changing the server state. \n",
    "\n",
    "Example: A user enters a website URL into their browser, and the browser sends a GET request to the server to retrieve the website content.\n",
    "\n",
    "\n",
    "POST method:\n",
    "\n",
    "1. When a client sends a POST request to a server, it submits data to be processed by the server.\n",
    "2. The data can be in the form of form data, JSON, XML, or any other format.\n",
    "3. The POST request parameters are included in the request body, which is not visible to the user.\n",
    "4. The POST method is not considered safe or idempotent, meaning it can modify server state and should only be executed once.\n",
    "\n",
    "Example: A user fills out a form on a website and submits it. The browser sends a POST request to the server with the form data, and the server processes the data and responds accordingly."
   ]
  },
  {
   "cell_type": "markdown",
   "id": "faefd792-8d16-4b6d-b2c8-818a3a620812",
   "metadata": {},
   "source": [
    "## Q2. Why is request used in Flask?"
   ]
  },
  {
   "cell_type": "markdown",
   "id": "d09496dd-afa5-499d-82b9-5015c2444086",
   "metadata": {},
   "source": [
    "## ANS ==\n",
    "In Flask, request is used to access data that a client sends to a server during an HTTP request. When a client sends a request to a server, it typically includes data such as form data, query parameters, and HTTP headers. The request object in Flask provides a convenient way to access this data.\n",
    "\n",
    "The request object provides methods for accessing various parts of the request data, such as request.args for query parameters, request.form for form data, and request.headers for HTTP headers. It also provides properties like request.method to get the HTTP method used in the request, request.path to get the path of the request, and request.remote_addr to get the IP address of the client making the request."
   ]
  },
  {
   "cell_type": "markdown",
   "id": "364866ee-a5e4-48f1-b85a-89d4277a7b58",
   "metadata": {},
   "source": [
    "## Q3. Why is redirect() used in Flask?"
   ]
  },
  {
   "cell_type": "markdown",
   "id": "e604add1-ea70-41ca-b867-1e23fdc55736",
   "metadata": {},
   "source": [
    "The redirect() function works by sending an HTTP response with a Location header set to the URL that the client should be redirected to. When the client receives this response, it will automatically make a new request to the specified URL."
   ]
  },
  {
   "cell_type": "code",
   "execution_count": null,
   "id": "ea55d490-118f-4c03-ab90-13c78c6c2a51",
   "metadata": {},
   "outputs": [
    {
     "name": "stdout",
     "output_type": "stream",
     "text": [
      " * Serving Flask app '__main__'\n",
      " * Debug mode: off\n"
     ]
    },
    {
     "name": "stderr",
     "output_type": "stream",
     "text": [
      "WARNING: This is a development server. Do not use it in a production deployment. Use a production WSGI server instead.\n",
      " * Running on all addresses (0.0.0.0)\n",
      " * Running on http://127.0.0.1:5000\n",
      " * Running on http://172.18.0.21:5000\n",
      "Press CTRL+C to quit\n",
      "172.18.0.2 - - [17/Apr/2023 06:28:04] \"GET / HTTP/1.1\" 302 -\n",
      "172.18.0.2 - - [17/Apr/2023 06:28:04] \"GET /login HTTP/1.1\" 200 -\n",
      "172.18.0.2 - - [17/Apr/2023 06:28:04] \"GET /favicon.ico HTTP/1.1\" 404 -\n"
     ]
    }
   ],
   "source": [
    "## Example of how to use redirect() in Flask:\n",
    "from flask import Flask, redirect, url_for\n",
    "\n",
    "app = Flask(__name__)\n",
    "\n",
    "@app.route('/')\n",
    "def index():\n",
    "    # Redirect to the login page\n",
    "    return redirect(url_for('login'))\n",
    "\n",
    "@app.route('/login')\n",
    "def login():\n",
    "    # Display the login form\n",
    "    return 'Please log in'\n",
    "\n",
    "if __name__ == '__main__':\n",
    "    app.run(host=\"0.0.0.0\")\n"
   ]
  },
  {
   "cell_type": "markdown",
   "id": "6e434d1f-f022-4b52-8c50-835720effb20",
   "metadata": {},
   "source": [
    "## Q4. What are templates in Flask? Why is the render_template() function used?"
   ]
  },
  {
   "cell_type": "markdown",
   "id": "5e4750af-ca36-415b-9a76-79b2bf34f5ae",
   "metadata": {},
   "source": [
    "## ANS ==\n",
    "In Flask, templates are a way to render dynamic content and generate HTML files that can be served to clients. Templates allow you to separate the presentation of your application from the logic that generates the data. This makes it easier to maintain and modify your code.\n",
    "\n",
    "Templates in Flask use the Jinja2 templating engine, which is a powerful and flexible template engine for Python. Jinja2 allows you to use template inheritance, macros, loops, conditional statements, and other features that can help you create complex HTML pages with ease.\n",
    "\n",
    "The render_template() function in Flask is used to render a template and return it as a response to a client request. It takes the name of the template file as its first argument and any additional keyword arguments that you want to pass to the template. For example, if you have a template file called index.html"
   ]
  },
  {
   "cell_type": "markdown",
   "id": "480f4f31-4968-4b41-a9f3-71ebe637df7e",
   "metadata": {},
   "source": [
    "## Q5. Create a simple API. Use Postman to test it. Attach the screenshot of the output in the Jupyter Notebook."
   ]
  },
  {
   "cell_type": "code",
   "execution_count": null,
   "id": "74ca979d-2cd3-4233-8a3a-c303712a58b3",
   "metadata": {},
   "outputs": [],
   "source": [
    "from flask import Flask, jsonify\n",
    "\n",
    "app = Flask(__name__)\n",
    "\n",
    "books = [\n",
    "    {\n",
    "        'id': 1,\n",
    "        'title': 'The Great Gatsby',\n",
    "        'author': 'F. Scott Fitzgerald',\n",
    "        'year': '1925'\n",
    "    },\n",
    "    {\n",
    "        'id': 2,\n",
    "        'title': 'To Kill a Mockingbird',\n",
    "        'author': 'Harper Lee',\n",
    "        'year': '1960'\n",
    "    },\n",
    "    {\n",
    "        'id': 3,\n",
    "        'title': '1984',\n",
    "        'author': 'George Orwell',\n",
    "        'year': '1949'\n",
    "    }\n",
    "]\n",
    "\n",
    "@app.route('/books', methods=['GET'])\n",
    "def get_all_books():\n",
    "    return jsonify(books)\n",
    "\n",
    "@app.route('/books/<int:book_id>', methods=['GET'])\n",
    "def get_book(book_id):\n",
    "    book = next((book for book in books if book['id'] == book_id), None)\n",
    "    if book:\n",
    "        return jsonify(book)\n",
    "    else:\n",
    "        return jsonify({'error': 'Book not found'})\n",
    "\n",
    "if __name__ == '__main__':\n",
    "    app.run(host=\"0.0.0.0\")\n"
   ]
  },
  {
   "cell_type": "markdown",
   "id": "e5352077-8488-465c-b965-a3301e0374f3",
   "metadata": {},
   "source": [
    "<img src=\"Postman.png\" width= 300, height=100>"
   ]
  },
  {
   "cell_type": "code",
   "execution_count": null,
   "id": "2d814036-4447-4c6d-8997-980250e5a3e0",
   "metadata": {},
   "outputs": [],
   "source": []
  }
 ],
 "metadata": {
  "kernelspec": {
   "display_name": "Python 3 (ipykernel)",
   "language": "python",
   "name": "python3"
  },
  "language_info": {
   "codemirror_mode": {
    "name": "ipython",
    "version": 3
   },
   "file_extension": ".py",
   "mimetype": "text/x-python",
   "name": "python",
   "nbconvert_exporter": "python",
   "pygments_lexer": "ipython3",
   "version": "3.10.8"
  }
 },
 "nbformat": 4,
 "nbformat_minor": 5
}
