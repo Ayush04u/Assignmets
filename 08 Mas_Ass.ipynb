{
 "cells": [
  {
   "cell_type": "markdown",
   "id": "434873b2-5a75-49c8-86e6-bd3d1e42b806",
   "metadata": {},
   "source": [
    "## Q1. What is the Probability density function?"
   ]
  },
  {
   "cell_type": "markdown",
   "id": "b5f1cae6-1e28-401d-95de-ae6dbd95250f",
   "metadata": {},
   "source": [
    "# Ans==\n",
    "\n",
    "The Probability Density Function (PDF) is a concept in probability theory and statistics that describes the likelihood of a continuous random variable taking on a particular value. For a continuous random variable, the probability that it equals any specific value is technically zero. Instead, the PDF provides a way to describe the relative likelihood of the variable falling within a certain range."
   ]
  },
  {
   "cell_type": "markdown",
   "id": "3e171024-2b9e-4a87-9cb9-7a8c2b15658a",
   "metadata": {},
   "source": [
    "## Q2. What are the types of Probability distribution?"
   ]
  },
  {
   "cell_type": "markdown",
   "id": "bd36be9c-3dba-4b1d-96df-031a1118bf26",
   "metadata": {},
   "source": [
    "# Ans ==\n",
    "There are several types of probability distributions, each describing the likelihood of different outcomes in a random experiment or process. The two main categories of probability distributions are discrete probability distributions and continuous probability distributions.\n",
    "\n",
    "Discrete Probability Distributions:\n",
    "\n",
    "Bernoulli Distribution: Describes a random experiment with two possible outcomes (success or failure), where the probability of success is denoted by \n",
    "�\n",
    "p.\n",
    "Binomial Distribution: Represents the number of successes in a fixed number of independent Bernoulli trials with the same probability of success \n",
    "�\n",
    "p.\n",
    "Poisson Distribution: Models the number of events occurring within a fixed interval of time or space.\n",
    "Continuous Probability Distributions:\n",
    "\n",
    "Uniform Distribution: All outcomes within a range are equally likely. The probability density function is constant within the range.\n",
    "Normal Distribution (Gaussian Distribution): Describes a symmetric, bell-shaped curve. Many natural phenomena follow a normal distribution.\n",
    "Exponential Distribution: Models the time between events in a Poisson process, where events occur continuously and independently at a constant rate.\n",
    "Gamma Distribution: Generalizes the exponential distribution and includes a shape parameter.\n",
    "Logistic Distribution: Often used in logistic regression and has an S-shaped curve.\n",
    "Cauchy Distribution: Similar to the normal distribution but has heavier tails.\n",
    "Multinomial Distribution: Describes experiments with more than two possible outcomes, where each outcome has a specified probability.\n",
    "\n",
    "Hypergeometric Distribution: Models the probability of obtaining a specified number of successes in a fixed number of draws without replacement from a finite population containing a specific number of successes and failures.\n",
    "\n",
    "Geometric Distribution: Represents the number of Bernoulli trials needed to achieve the first success.\n",
    "\n",
    "These are just some of the most common probability distributions. The choice of distribution depends on the nature of the random variable being modeled and the characteristics of the random experiment or process under consideration."
   ]
  },
  {
   "cell_type": "markdown",
   "id": "49d6b7fb-c670-4ee5-be82-e0abf8600143",
   "metadata": {},
   "source": [
    "## Q3. Write a Python function to calculate the probability density function of a normal distribution with given mean and standard deviation at a given point."
   ]
  },
  {
   "cell_type": "code",
   "execution_count": 2,
   "id": "5846d4f5-27fc-447b-b34a-311f87c49026",
   "metadata": {},
   "outputs": [
    {
     "name": "stdout",
     "output_type": "stream",
     "text": [
      "The PDF at x = 1.5 is: 0.12951759566589174\n"
     ]
    }
   ],
   "source": [
    "import math\n",
    "\n",
    "def normal_pdf(x, mean, std_dev):\n",
    "    \"\"\"\n",
    "    Calculate the probability density function (PDF) of a normal distribution at a given point.\n",
    "\n",
    "    Parameters:\n",
    "    - x: The point at which to evaluate the PDF.\n",
    "    - mean: Mean of the normal distribution.\n",
    "    - std_dev: Standard deviation of the normal distribution.\n",
    "\n",
    "    Returns:\n",
    "    - The PDF value at the given point.\n",
    "    \"\"\"\n",
    "    coefficient = 1 / math.sqrt(2 * math.pi * std_dev**2)\n",
    "    exponent = -((x - mean)**2) / (2 * std_dev**2)\n",
    "    pdf_value = coefficient * math.exp(exponent)\n",
    "    return pdf_value\n",
    "\n",
    "# Example usage:\n",
    "mean_value = 0\n",
    "std_dev_value = 1\n",
    "point = 1.5\n",
    "\n",
    "pdf_at_point = normal_pdf(point, mean_value, std_dev_value)\n",
    "print(f\"The PDF at x = {point} is: {pdf_at_point}\")\n"
   ]
  },
  {
   "cell_type": "markdown",
   "id": "3398275d-14d4-4d7d-94b3-926e833895bb",
   "metadata": {},
   "source": [
    "## Q4. What are the properties of Binomial distribution? Give two examples of events where binomial distribution can be applied."
   ]
  },
  {
   "cell_type": "markdown",
   "id": "c909f373-d44b-40ec-8ed8-d8c4595f4cc7",
   "metadata": {},
   "source": [
    "# Ans ==\n",
    "The Binomial distribution is a discrete probability distribution that describes the number of successes in a fixed number of independent Bernoulli trials, where each trial has only two possible outcomes (success or failure) and the probability of success is constant. The properties of the Binomial distribution include:\n",
    "\n",
    "Fixed Number of Trials (n): The distribution models a fixed number of trials, denoted by \n",
    "�\n",
    "n.\n",
    "\n",
    "Independent Trials: Each trial is assumed to be independent of the others.\n",
    "\n",
    "Two Possible Outcomes: Each trial results in one of two mutually exclusive outcomes: success (usually denoted as 1) or failure (usually denoted as 0).\n",
    "\n",
    "Constant Probability of Success (p): The probability of success, denoted by \n",
    "�\n",
    "p, is the same for each trial.\n",
    "\n",
    "Discreteness: The random variable representing the number of successes is discrete, taking on integer values.\n",
    "\n",
    "The probability mass function (PMF) of the Binomial distribution is given by:\n",
    "\n",
    "�\n",
    "(\n",
    "�\n",
    "=\n",
    "�\n",
    ")\n",
    "=\n",
    "(\n",
    "�\n",
    "�\n",
    ")\n",
    "�\n",
    "�\n",
    "(\n",
    "1\n",
    "−\n",
    "�\n",
    ")\n",
    "�\n",
    "−\n",
    "�\n",
    "P(X=k)=( \n",
    "k\n",
    "n\n",
    "​\n",
    " )p \n",
    "k\n",
    " (1−p) \n",
    "n−k\n",
    " \n",
    "\n",
    "where \n",
    "�\n",
    "X is the number of successes, \n",
    "�\n",
    "k is the specific number of successes, \n",
    "�\n",
    "n is the number of trials, \n",
    "�\n",
    "p is the probability of success, and \n",
    "(\n",
    "�\n",
    "�\n",
    ")\n",
    "( \n",
    "k\n",
    "n\n",
    "​\n",
    " ) is the binomial coefficient, representing the number of ways to choose \n",
    "�\n",
    "k successes from \n",
    "�\n",
    "n trials.\n",
    "\n",
    "Examples of Events where Binomial Distribution can be Applied:\n",
    "\n",
    "Coin Flips:\n",
    "\n",
    "Experiment: Tossing a fair coin multiple times.\n",
    "Outcomes: Success (head) or failure (tail).\n",
    "Parameters: \n",
    "�\n",
    "=\n",
    "0.5\n",
    "p=0.5 (probability of getting heads), \n",
    "�\n",
    "n is the number of coin flips.\n",
    "Quality Control:\n",
    "\n",
    "Experiment: Inspecting a batch of items to determine the number of defective items.\n",
    "Outcomes: Success (non-defective) or failure (defective).\n",
    "Parameters: \n",
    "�\n",
    "p is the probability of an item being defective, \n",
    "�\n",
    "n is the number of items inspected.\n",
    "The Binomial distribution is applicable in situations where there are a fixed number of trials, each trial has only two possible outcomes, and the trials are independent with a constant probability of success."
   ]
  },
  {
   "cell_type": "markdown",
   "id": "7983bfcd-fb06-4ae3-b9d8-4d61e3c9d456",
   "metadata": {},
   "source": [
    "## Q5. Generate a random sample of size 1000 from a binomial distribution with probability of success 0.4 and plot a histogram of the results using matplotlib."
   ]
  },
  {
   "cell_type": "code",
   "execution_count": 3,
   "id": "d5035615-b4d0-41a4-8ed3-f4d4846019b8",
   "metadata": {},
   "outputs": [
    {
     "data": {
      "image/png": "[encoded data removed]",
      "text/plain": [
       "<Figure size 640x480 with 1 Axes>"
      ]
     },
     "metadata": {},
     "output_type": "display_data"
    }
   ],
   "source": [
    "import numpy as np\n",
    "import matplotlib.pyplot as plt\n",
    "\n",
    "# Set the parameters\n",
    "probability_of_success = 0.4\n",
    "sample_size = 1000\n",
    "\n",
    "# Generate a random sample from a binomial distribution\n",
    "random_sample = np.random.binomial(n=1, p=probability_of_success, size=sample_size)\n",
    "\n",
    "# Plot the histogram\n",
    "plt.hist(random_sample, bins=[-0.5, 0.5, 1.5], edgecolor='black', align='mid')\n",
    "plt.title('Histogram of Binomial Distribution')\n",
    "plt.xlabel('Outcome')\n",
    "plt.ylabel('Frequency')\n",
    "plt.xticks([0, 1], ['Failure', 'Success'])\n",
    "plt.show()\n"
   ]
  },
  {
   "cell_type": "markdown",
   "id": "ec8b54d7-ecf6-456a-9689-37251fc8d1c0",
   "metadata": {},
   "source": [
    "## Q6. Write a Python function to calculate the cumulative distribution function of a Poisson distribution with given mean at a given point."
   ]
  },
  {
   "cell_type": "code",
   "execution_count": 4,
   "id": "f0f2966c-57b6-49c2-9316-e1c63095d70d",
   "metadata": {},
   "outputs": [
    {
     "name": "stdout",
     "output_type": "stream",
     "text": [
      "The CDF at X <= 3 is: 0.7575761331330659\n"
     ]
    }
   ],
   "source": [
    "# Ans =\n",
    "import math\n",
    "\n",
    "def poisson_cdf(k, mean):\n",
    "    \"\"\"\n",
    "    Calculate the cumulative distribution function (CDF) of a Poisson distribution at a given point.\n",
    "\n",
    "    Parameters:\n",
    "    - k: The point at which to evaluate the CDF.\n",
    "    - mean: Mean of the Poisson distribution.\n",
    "\n",
    "    Returns:\n",
    "    - The CDF value at the given point.\n",
    "    \"\"\"\n",
    "    cdf_value = 0\n",
    "    for i in range(k + 1):\n",
    "        cdf_value += (math.exp(-mean) * mean**i) / math.factorial(i)\n",
    "    return cdf_value\n",
    "\n",
    "# Example usage:\n",
    "mean_value = 2.5\n",
    "point = 3\n",
    "\n",
    "cdf_at_point = poisson_cdf(point, mean_value)\n",
    "print(f\"The CDF at X <= {point} is: {cdf_at_point}\")\n"
   ]
  },
  {
   "cell_type": "markdown",
   "id": "72601217-2938-4661-ac73-ca6f400a2c31",
   "metadata": {},
   "source": [
    "## Q7. How Binomial distribution different from Poisson distribution?"
   ]
  },
  {
   "cell_type": "markdown",
   "id": "8204edb3-4960-4994-a8fe-48445e835a9a",
   "metadata": {},
   "source": [
    "# Ans ==\n",
    "The Binomial distribution and the Poisson distribution are both discrete probability distributions, but they are used to model different types of random phenomena and have distinct characteristics. Here are some key differences between the Binomial and Poisson distributions:\n",
    "\n",
    "Number of Trials:\n",
    "\n",
    "Binomial Distribution: Describes the number of successes in a fixed number of independent trials, where each trial has only two possible outcomes (success or failure).\n",
    "Poisson Distribution: Describes the number of events occurring in a fixed interval of time or space.\n",
    "Nature of Outcomes:\n",
    "\n",
    "Binomial Distribution: Each trial in a Binomial distribution has only two possible outcomes (success or failure).\n",
    "Poisson Distribution: Represents the count of events in a continuous or infinite range, and each event is a discrete occurrence.\n",
    "Independence of Trials:\n",
    "\n",
    "Binomial Distribution: Assumes that each trial is independent of the others.\n",
    "Poisson Distribution: Assumes that the events occur independently of each other.\n",
    "Probability of Success:\n",
    "\n",
    "Binomial Distribution: Requires a fixed probability of success (\n",
    "�\n",
    "p) for each trial.\n",
    "Poisson Distribution: Describes events that occur at a constant rate (\n",
    "�\n",
    "λ) over time or space.\n",
    "Number of Parameters:\n",
    "\n",
    "Binomial Distribution: Requires two parameters: the number of trials (\n",
    "�\n",
    "n) and the probability of success (\n",
    "�\n",
    "p).\n",
    "Poisson Distribution: Requires one parameter: the average rate of events (\n",
    "�\n",
    "λ).\n",
    "Applicability:\n",
    "\n",
    "Binomial Distribution: Commonly used when there is a fixed number of trials and each trial has two possible outcomes. Examples include coin flips and the number of successes in a fixed number of independent experiments.\n",
    "Poisson Distribution: Applied to situations where events occur independently over time or space at a constant rate. Examples include the number of phone calls received in an hour, the number of arrivals at a service point, or the number of defects in a product."
   ]
  },
  {
   "cell_type": "markdown",
   "id": "0e124a03-a984-44c6-a7d7-91f9b5c1966e",
   "metadata": {},
   "source": [
    "## Q8. Generate a random sample of size 1000 from a Poisson distribution with mean 5 and calculate the sample mean and variance."
   ]
  },
  {
   "cell_type": "code",
   "execution_count": 5,
   "id": "75e331ec-c347-4de3-bab2-30b058b66946",
   "metadata": {},
   "outputs": [
    {
     "name": "stdout",
     "output_type": "stream",
     "text": [
      "Sample Mean: 5.024\n",
      "Sample Variance: 4.760184184184184\n"
     ]
    }
   ],
   "source": [
    "## Ans ==\n",
    "import numpy as np\n",
    "\n",
    "# Set the parameters\n",
    "mean_value = 5\n",
    "sample_size = 1000\n",
    "\n",
    "# Generate a random sample from a Poisson distribution\n",
    "random_sample = np.random.poisson(lam=mean_value, size=sample_size)\n",
    "\n",
    "# Calculate the sample mean and variance\n",
    "sample_mean = np.mean(random_sample)\n",
    "sample_variance = np.var(random_sample, ddof=1)  # ddof=1 for sample variance\n",
    "\n",
    "# Print the results\n",
    "print(f\"Sample Mean: {sample_mean}\")\n",
    "print(f\"Sample Variance: {sample_variance}\")\n"
   ]
  },
  {
   "cell_type": "markdown",
   "id": "242cf15d-6b5f-4a0a-a550-bc9c36c2e70d",
   "metadata": {},
   "source": [
    "## Q9. How mean and variance are related in Binomial distribution and Poisson distribution?"
   ]
  },
  {
   "cell_type": "markdown",
   "id": "cd9c0392-89ae-4133-a201-10a9f26a2cee",
   "metadata": {},
   "source": [
    "#Ans ==\n",
    "In both the Binomial distribution and the Poisson distribution, the mean (\n",
    "�\n",
    "μ or \n",
    "�\n",
    "λ) and variance (\n",
    "�\n",
    "2\n",
    "σ \n",
    "2\n",
    " ) are related, but the specific relationships differ due to the nature of these distributions.\n",
    "\n",
    "Binomial Distribution:\n",
    "In a Binomial distribution with parameters \n",
    "�\n",
    "n (number of trials) and \n",
    "�\n",
    "p (probability of success), the mean (\n",
    "�\n",
    "μ) and variance (\n",
    "�\n",
    "2\n",
    "σ \n",
    "2\n",
    " ) are related as follows:\n",
    "\n",
    "�\n",
    "=\n",
    "�\n",
    "�\n",
    "μ=np\n",
    "\n",
    "�\n",
    "2\n",
    "=\n",
    "�\n",
    "�\n",
    "(\n",
    "1\n",
    "−\n",
    "�\n",
    ")\n",
    "σ \n",
    "2\n",
    " =np(1−p)\n",
    "\n",
    "Here, \n",
    "�\n",
    "n is the number of trials, and \n",
    "�\n",
    "p is the probability of success in a single trial.\n",
    "\n",
    "Poisson Distribution:\n",
    "In a Poisson distribution with parameter \n",
    "�\n",
    "λ (average rate of events), the mean (\n",
    "�\n",
    "μ) and variance (\n",
    "�\n",
    "2\n",
    "σ \n",
    "2\n",
    " ) are equal and given by:\n",
    "\n",
    "�\n",
    "=\n",
    "�\n",
    "2\n",
    "=\n",
    "�\n",
    "μ=σ \n",
    "2\n",
    " =λ\n",
    "\n",
    "In the Poisson distribution, the mean and variance are both equal to the rate parameter \n",
    "�\n",
    "λ.\n",
    "\n",
    "Summary:\n",
    "Binomial Distribution:\n",
    "\n",
    "Mean: \n",
    "�\n",
    "=\n",
    "�\n",
    "�\n",
    "μ=np\n",
    "Variance: \n",
    "�\n",
    "2\n",
    "=\n",
    "�\n",
    "�\n",
    "(\n",
    "1\n",
    "−\n",
    "�\n",
    ")\n",
    "σ \n",
    "2\n",
    " =np(1−p)\n",
    "Poisson Distribution:\n",
    "\n",
    "Mean: \n",
    "�\n",
    "=\n",
    "�\n",
    "2\n",
    "=\n",
    "�\n",
    "μ=σ \n",
    "2\n",
    " =λ\n",
    "In both cases, the variance is directly related to the mean, but the specific relationships depend on the distribution type. The Binomial distribution tends to have larger variances than Poisson distributions for the same mean, especially as the probability of success (\n",
    "�\n",
    "p) approaches 0.5 and the number of trials (\n",
    "�\n",
    "n) increases. The Poisson distribution, on the other hand, is a limiting case of the Binomial distribution as \n",
    "�\n",
    "n approaches infinity with \n",
    "�\n",
    "�\n",
    "np fixed."
   ]
  },
  {
   "cell_type": "markdown",
   "id": "bb2e117c-1737-4bdd-a232-2354d6de50ab",
   "metadata": {},
   "source": [
    "## Q10. In normal distribution with respect to mean position, where does the least frequent data appear?"
   ]
  },
  {
   "cell_type": "markdown",
   "id": "e43290d1-7ec5-4665-85ff-63e1f546e4cb",
   "metadata": {},
   "source": [
    "# Ans ==\n",
    "In a normal distribution (also known as a Gaussian distribution), the probability density is highest at the mean, and it decreases symmetrically as you move away from the mean in both directions. Therefore, the least frequent data points are found in the tails of the distribution, farthest away from the mean.\n",
    "\n",
    "In a standard normal distribution (with a mean of 0 and a standard deviation of 1), the tails extend to positive and negative infinity. The data points in these extreme tails are less frequent because they represent values that are significantly higher or lower than the mean."
   ]
  },
  {
   "cell_type": "code",
   "execution_count": null,
   "id": "e399fea2-d918-45ca-9599-2d92a21e712e",
   "metadata": {},
   "outputs": [],
   "source": []
  }
 ],
 "metadata": {
  "kernelspec": {
   "display_name": "Python 3 (ipykernel)",
   "language": "python",
   "name": "python3"
  },
  "language_info": {
   "codemirror_mode": {
    "name": "ipython",
    "version": 3
   },
   "file_extension": ".py",
   "mimetype": "text/x-python",
   "name": "python",
   "nbconvert_exporter": "python",
   "pygments_lexer": "ipython3",
   "version": "3.10.8"
  }
 },
 "nbformat": 4,
 "nbformat_minor": 5
}
