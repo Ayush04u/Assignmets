{
 "cells": [
  {
   "cell_type": "markdown",
   "id": "99f8bf09-875f-4240-abbc-6e11e5e79a0e",
   "metadata": {},
   "source": [
    "## Q1. Write a Python function that takes in two arrays of data and calculates the F-value for a variance ratio test. The function should return the F-value and the corresponding p-value for the test."
   ]
  },
  {
   "cell_type": "code",
   "execution_count": 1,
   "id": "f19d1c8e-276b-4ad1-8dd8-799a99b15dd3",
   "metadata": {},
   "outputs": [
    {
     "name": "stdout",
     "output_type": "stream",
     "text": [
      "F-value: 83.42164758223048\n",
      "P-value: 7.862285733887039e-17\n"
     ]
    }
   ],
   "source": [
    "#Ans ==\n",
    "\n",
    "import numpy as np\n",
    "from scipy.stats import f_oneway\n",
    "\n",
    "def calculate_f_value(arr1, arr2):\n",
    "    \"\"\"\n",
    "    Calculate F-value and p-value for variance ratio test (ANOVA).\n",
    "\n",
    "    Parameters:\n",
    "    - arr1: First array of data\n",
    "    - arr2: Second array of data\n",
    "\n",
    "    Returns:\n",
    "    - f_value: F-value for the variance ratio test\n",
    "    - p_value: Corresponding p-value\n",
    "    \"\"\"\n",
    "    # Check if the arrays are valid and have enough data points\n",
    "    if len(arr1) < 2 or len(arr2) < 2:\n",
    "        raise ValueError(\"Both arrays must have at least 2 data points.\")\n",
    "\n",
    "    # Perform the F-test using scipy.stats.f_oneway\n",
    "    f_value, p_value = f_oneway(arr1, arr2)\n",
    "\n",
    "    return f_value, p_value\n",
    "\n",
    "# Example usage:\n",
    "array1 = np.random.normal(0, 1, 100)  # Example array 1 with 100 data points\n",
    "array2 = np.random.normal(1, 1, 100)  # Example array 2 with 100 data points\n",
    "\n",
    "f_value, p_value = calculate_f_value(array1, array2)\n",
    "\n",
    "print(\"F-value:\", f_value)\n",
    "print(\"P-value:\", p_value)\n"
   ]
  },
  {
   "cell_type": "markdown",
   "id": "ab26363a-d188-4801-b542-3b885d3227c5",
   "metadata": {},
   "source": [
    "## Q2. Given a significance level of 0.05 and the degrees of freedom for the numerator and denominator of an F-distribution, write a Python function that returns the critical F-value for a two-tailed test."
   ]
  },
  {
   "cell_type": "code",
   "execution_count": 1,
   "id": "fdb8d8eb-c4db-4171-8463-c8b3c0125879",
   "metadata": {},
   "outputs": [
    {
     "name": "stdout",
     "output_type": "stream",
     "text": [
      "Critical F-value: 3.8586986662732143\n"
     ]
    }
   ],
   "source": [
    "#Ans ==\n",
    "from scipy.stats import f\n",
    "\n",
    "def critical_f_value(alpha, df_num, df_denom):\n",
    "    # Calculate the critical F-value for a two-tailed test\n",
    "    critical_value = f.ppf(1 - alpha/2, df_num, df_denom)\n",
    "    return critical_value\n",
    "\n",
    "# Example usage:\n",
    "significance_level = 0.05\n",
    "degrees_of_freedom_num = 3  # replace with your actual value\n",
    "degrees_of_freedom_denom = 20  # replace with your actual value\n",
    "\n",
    "result = critical_f_value(significance_level, degrees_of_freedom_num, degrees_of_freedom_denom)\n",
    "print(f\"Critical F-value: {result}\")\n"
   ]
  },
  {
   "cell_type": "markdown",
   "id": "c8e63594-aaff-4724-aaf2-6d9a41cf6d9c",
   "metadata": {},
   "source": [
    "## Q3. Write a Python program that generates random samples from two normal distributions with known variances and uses an F-test to determine if the variances are equal. The program should output the F- value, degrees of freedom, and p-value for the test."
   ]
  },
  {
   "cell_type": "code",
   "execution_count": 2,
   "id": "07a998ee-a066-44e1-89d8-df995773aea2",
   "metadata": {},
   "outputs": [
    {
     "name": "stdout",
     "output_type": "stream",
     "text": [
      "F-value: 2.4811\n",
      "Degrees of freedom: (99, 99)\n",
      "P-value: 0.0000\n",
      "Reject the null hypothesis. Variances are not equal.\n"
     ]
    }
   ],
   "source": [
    "import numpy as np\n",
    "from scipy.stats import f\n",
    "\n",
    "def f_test(sample1, sample2):\n",
    "    # Calculate variances\n",
    "    var1 = np.var(sample1, ddof=1)\n",
    "    var2 = np.var(sample2, ddof=1)\n",
    "\n",
    "    # Calculate degrees of freedom\n",
    "    df1 = len(sample1) - 1\n",
    "    df2 = len(sample2) - 1\n",
    "\n",
    "    # Calculate F-value\n",
    "    f_value = var1 / var2 if var1 > var2 else var2 / var1\n",
    "\n",
    "    # Calculate p-value\n",
    "    p_value = 2 * min(f.cdf(f_value, df1, df2), 1 - f.cdf(f_value, df1, df2))\n",
    "\n",
    "    return f_value, df1, df2, p_value\n",
    "\n",
    "# Generate random samples from two normal distributions\n",
    "np.random.seed(42)  # Set seed for reproducibility\n",
    "sample1 = np.random.normal(loc=0, scale=1, size=100)\n",
    "sample2 = np.random.normal(loc=0, scale=1.5, size=100)\n",
    "\n",
    "# Perform F-test\n",
    "f_value, df1, df2, p_value = f_test(sample1, sample2)\n",
    "\n",
    "# Print results\n",
    "print(f\"F-value: {f_value:.4f}\")\n",
    "print(f\"Degrees of freedom: ({df1}, {df2})\")\n",
    "print(f\"P-value: {p_value:.4f}\")\n",
    "\n",
    "# Interpret the results\n",
    "alpha = 0.05\n",
    "if p_value < alpha:\n",
    "    print(\"Reject the null hypothesis. Variances are not equal.\")\n",
    "else:\n",
    "    print(\"Fail to reject the null hypothesis. Variances are equal.\")\n"
   ]
  },
  {
   "cell_type": "markdown",
   "id": "8d47d18d-9bd9-4291-ade3-e1988d32848f",
   "metadata": {},
   "source": [
    "## Q4.The variances of two populations are known to be 10 and 15. A sample of 12 observations is taken from each population. Conduct an F-test at the 5% significance level to determine if the variances are significantly different."
   ]
  },
  {
   "cell_type": "markdown",
   "id": "bfe35d5c-4638-4512-9061-7b5b0b8e5a4f",
   "metadata": {},
   "source": [
    "# Ans ==\n",
    "\n",
    "To conduct an F-test to determine if the variances of two populations are significantly different, you can use the following steps:\n",
    "\n",
    "1. State the Hypotheses:\n",
    "\n",
    "•Null Hypothesis (H0): The variances are equal (σ₁² = σ₂²)\n",
    "•Alternative Hypothesis (H1): The variances are not equal (σ₁² ≠ σ₂²)\n",
    "2. Select the Significance Level:\n",
    "\n",
    "•α = 0.05 (5%)\n",
    "3. Calculate the F-statistic: The formula for the F-statistic is given by:\n",
    "\n",
    "𝐹=𝑆12/𝑆22\n",
    "\n",
    "where 𝑆12 and 𝑆22 are sample variances from the two populations.\n",
    "\n",
    "In this case, 𝑆12 is the sample variance from the population with a known variance of 10, and 𝑆22 is the sample variance from the population with a known variance of 15.\n",
    "\n",
    "𝐹=𝑆12/𝑆22=10/15\n",
    "\n",
    "4. Determine the Critical Region:\n",
    "\n",
    "•Degrees of freedom for the numerator (𝑑𝑓1) is the number of observations in the first sample minus 1.\n",
    "•Degrees of freedom for the denominator (𝑑𝑓2) is the number of observations in the second sample minus 1.\n",
    "You can find critical values for the F-distribution with 𝑑𝑓1 and 𝑑𝑓2 degrees of freedom at the 5% significance level.\n",
    "\n",
    "5. Make a Decision:\n",
    "\n",
    "•If the calculated F-statistic is in the critical region, reject the null hypothesis.\n",
    "•If the calculated F-statistic is not in the critical region, fail to reject the null hypothesis.\n",
    "Note: When using tables or software to find critical values, make sure to match the degrees of freedom for the numerator and denominator.\n",
    "\n",
    "Without the specific sample variances, it's not possible to provide the exact critical values or make a decision on whether to reject the null hypothesis. You need to compute the F-statistic using the sample variances and compare it to the critical value from the F-distribution.\n",
    "\n"
   ]
  },
  {
   "cell_type": "markdown",
   "id": "ef91de84-0a06-481d-86bc-49322d6ba6c4",
   "metadata": {},
   "source": [
    "## Q5. A manufacturer claims that the variance of the diameter of a certain product is 0.005. A sample of 25 products is taken, and the sample variance is found to be 0.006. Conduct an F-test at the 1% significance level to determine if the claim is justified."
   ]
  },
  {
   "cell_type": "markdown",
   "id": "ae18b44a-fe5e-48fb-8fed-29c179cddb37",
   "metadata": {},
   "source": [
    "# Ans ==\n",
    "To conduct an F-test to determine if the claim about the variance is justified, we can use the following hypotheses:\n",
    "\n",
    "•Null Hypothesis (H0): The population variance is equal to the claimed variance.\n",
    "•Alternative Hypothesis (H1): The population variance is greater than the claimed variance.\n",
    "Mathematically:\n",
    "\n",
    "•H0: σ² = 0.005\n",
    "•H1: σ² > 0.005\n",
    "Here, σ² is the population variance.\n",
    "\n",
    "The test statistic (F) is given by:\n",
    "\n",
    "𝐹=𝑠2/𝜎2\n",
    "\n",
    "where:\n",
    "\n",
    "•𝑠2 is the sample variance\n",
    "•𝜎2 is the claimed population variance\n",
    "In this case, the critical region for the right-tailed test at a 1% significance level will be determined by the F-distribution with degrees of freedom (𝑛−1) for the numerator (sample variance) and (sample size−1) for the denominator (claimed variance).\n",
    "\n",
    "Let's calculate the critical F-value and compare it with the calculated F-value:\n",
    "\n",
    "Critical F-value=𝐹𝛼,(𝑛−1),(25−1)\n",
    "\n",
    "Now, let's perform the calculations:\n",
    "\n",
    "Calculated F-value=0.0060.005\n",
    "\n",
    "Degrees of freedom for the numerator (𝑑𝑓1): 25−1=24 Degrees of freedom for the denominator (𝑑𝑓2): 1 (since there's only one claimed variance)\n",
    "\n",
    "Critical F-value=𝐹0.01,24,1\n",
    "\n",
    "You can look up the critical F-value from an F-table or use statistical software for this purpose.\n",
    "\n",
    "If the calculated F-value is greater than the critical F-value, you reject the null hypothesis and conclude that there is enough evidence to support the manufacturer's claim. Otherwise, if the calculated F-value is less than or equal to the critical F-value, you fail to reject the null hypothesis.\n",
    "\n"
   ]
  },
  {
   "cell_type": "markdown",
   "id": "4d319a7c-9823-4a90-adde-6d8e53292999",
   "metadata": {},
   "source": [
    "## Q6. Write a Python function that takes in the degrees of freedom for the numerator and denominator of an F-distribution and calculates the mean and variance of the distribution. The function should return the mean and variance as a tuple."
   ]
  },
  {
   "cell_type": "code",
   "execution_count": 3,
   "id": "a52a23a0-a85f-41ce-9546-b3242469718a",
   "metadata": {},
   "outputs": [
    {
     "name": "stdout",
     "output_type": "stream",
     "text": [
      "Mean: 1.25, Variance: 1.9097222222222223\n"
     ]
    }
   ],
   "source": [
    "def f_distribution_mean_variance(df1, df2):\n",
    "    if df2 <= 2:\n",
    "        raise ValueError(\"Degrees of freedom for denominator (df2) must be greater than 2.\")\n",
    "    \n",
    "    if df2 <= 4:\n",
    "        raise ValueError(\"Degrees of freedom for denominator (df2) must be greater than 4 for variance calculation.\")\n",
    "\n",
    "    mean = df2 / (df2 - 2)\n",
    "    variance = (2 * df2**2 * (df1 + df2 - 2)) / (df1 * (df2 - 2)**2 * (df2 - 4))\n",
    "\n",
    "    return mean, variance\n",
    "\n",
    "# Example usage:\n",
    "df1 = 3  # Degrees of freedom for numerator\n",
    "df2 = 10  # Degrees of freedom for denominator\n",
    "\n",
    "mean, variance = f_distribution_mean_variance(df1, df2)\n",
    "print(f\"Mean: {mean}, Variance: {variance}\")\n"
   ]
  },
  {
   "cell_type": "markdown",
   "id": "147015e8-c4c7-42cf-9501-8b9c78ef3f8a",
   "metadata": {},
   "source": [
    "## Q7. A random sample of 10 measurements is taken from a normal population with unknown variance. The sample variance is found to be 25. Another random sample of 15 measurements is taken from another normal population with unknown variance, and the sample variance is found to be 20. Conduct an F-test at the 10% significance level to determine if the variances are significantly different."
   ]
  },
  {
   "cell_type": "code",
   "execution_count": 4,
   "id": "5c4c47db-2900-4842-8600-4339d4553f6a",
   "metadata": {},
   "outputs": [
    {
     "name": "stdout",
     "output_type": "stream",
     "text": [
      "Fail to reject the null hypothesis. Variances are not significantly different.\n",
      "Test Statistic: 1.25\n",
      "Critical Values (Lower, Upper): 0.3305268601412525 2.6457907352338195\n"
     ]
    }
   ],
   "source": [
    "#Ans ==\n",
    "from scipy.stats import f\n",
    "\n",
    "# Given data\n",
    "sample_var1 = 25\n",
    "sample_var2 = 20\n",
    "alpha = 0.10\n",
    "df1 = 10 - 1  # degrees of freedom for the first sample\n",
    "df2 = 15 - 1  # degrees of freedom for the second sample\n",
    "\n",
    "# Test statistic\n",
    "F = sample_var1 / sample_var2\n",
    "\n",
    "# Critical values from F-distribution\n",
    "critical_value_lower = f.ppf(alpha/2, df1, df2)\n",
    "critical_value_upper = f.ppf(1 - alpha/2, df1, df2)\n",
    "\n",
    "# Decision\n",
    "if F < critical_value_lower or F > critical_value_upper:\n",
    "    print(\"Reject the null hypothesis. Variances are significantly different.\")\n",
    "else:\n",
    "    print(\"Fail to reject the null hypothesis. Variances are not significantly different.\")\n",
    "\n",
    "print(\"Test Statistic:\", F)\n",
    "print(\"Critical Values (Lower, Upper):\", critical_value_lower, critical_value_upper)\n"
   ]
  },
  {
   "cell_type": "markdown",
   "id": "9d6c2479-ebea-4d5e-892f-9d066a164f00",
   "metadata": {},
   "source": [
    "## Q8. The following data represent the waiting times in minutes at two different restaurants on a Saturday night: Restaurant A: 24, 25, 28, 23, 22, 20, 27; Restaurant B: 31, 33, 35, 30, 32, 36. Conduct an F-test at the 5% significance level to determine if the variances are significantly different."
   ]
  },
  {
   "cell_type": "code",
   "execution_count": 5,
   "id": "4e4dd123-7353-4b6e-8ee4-f699b00a5fab",
   "metadata": {},
   "outputs": [
    {
     "name": "stdout",
     "output_type": "stream",
     "text": [
      "Fail to reject the null hypothesis. Variances are not significantly different.\n",
      "Test Statistic: 1.4551907719609583\n",
      "Critical Values (Lower, Upper): 0.16701279718024772 6.977701858535566\n"
     ]
    }
   ],
   "source": [
    "import numpy as np\n",
    "from scipy.stats import f\n",
    "\n",
    "# Given data\n",
    "waiting_times_A = np.array([24, 25, 28, 23, 22, 20, 27])\n",
    "waiting_times_B = np.array([31, 33, 35, 30, 32, 36])\n",
    "alpha = 0.05\n",
    "\n",
    "# Sample variances\n",
    "variance_A = np.var(waiting_times_A, ddof=1)\n",
    "variance_B = np.var(waiting_times_B, ddof=1)\n",
    "\n",
    "# Test statistic\n",
    "F = variance_A / variance_B\n",
    "\n",
    "# Degrees of freedom\n",
    "df1 = len(waiting_times_A) - 1\n",
    "df2 = len(waiting_times_B) - 1\n",
    "\n",
    "# Critical values from F-distribution\n",
    "critical_value_lower = f.ppf(alpha/2, df1, df2)\n",
    "critical_value_upper = f.ppf(1 - alpha/2, df1, df2)\n",
    "\n",
    "# Decision\n",
    "if F < critical_value_lower or F > critical_value_upper:\n",
    "    print(\"Reject the null hypothesis. Variances are significantly different.\")\n",
    "else:\n",
    "    print(\"Fail to reject the null hypothesis. Variances are not significantly different.\")\n",
    "\n",
    "print(\"Test Statistic:\", F)\n",
    "print(\"Critical Values (Lower, Upper):\", critical_value_lower, critical_value_upper)\n"
   ]
  },
  {
   "cell_type": "markdown",
   "id": "36e27f0f-3484-45df-a578-bd3fd1ba2cce",
   "metadata": {},
   "source": [
    "## Q9. The following data represent the test scores of two groups of students: Group A: 80, 85, 90, 92, 87, 83; Group B: 75, 78, 82, 79, 81, 84. Conduct an F-test at the 1% significance level to determine if the variances are significantly different."
   ]
  },
  {
   "cell_type": "code",
   "execution_count": 6,
   "id": "70033764-d285-465a-971a-27ba45caf9dc",
   "metadata": {},
   "outputs": [
    {
     "name": "stdout",
     "output_type": "stream",
     "text": [
      "Fail to reject the null hypothesis. Variances are not significantly different.\n",
      "Test Statistic: 1.9442622950819677\n",
      "Critical Values (Lower, Upper): 0.066936171954696 14.939605459912224\n"
     ]
    }
   ],
   "source": [
    "#Ans ==\n",
    "import numpy as np\n",
    "from scipy.stats import f\n",
    "\n",
    "# Given data\n",
    "test_scores_A = np.array([80, 85, 90, 92, 87, 83])\n",
    "test_scores_B = np.array([75, 78, 82, 79, 81, 84])\n",
    "alpha = 0.01\n",
    "\n",
    "# Sample variances\n",
    "variance_A = np.var(test_scores_A, ddof=1)\n",
    "variance_B = np.var(test_scores_B, ddof=1)\n",
    "\n",
    "# Test statistic\n",
    "F = variance_A / variance_B\n",
    "\n",
    "# Degrees of freedom\n",
    "df1 = len(test_scores_A) - 1\n",
    "df2 = len(test_scores_B) - 1\n",
    "\n",
    "# Critical values from F-distribution\n",
    "critical_value_lower = f.ppf(alpha/2, df1, df2)\n",
    "critical_value_upper = f.ppf(1 - alpha/2, df1, df2)\n",
    "\n",
    "# Decision\n",
    "if F < critical_value_lower or F > critical_value_upper:\n",
    "    print(\"Reject the null hypothesis. Variances are significantly different.\")\n",
    "else:\n",
    "    print(\"Fail to reject the null hypothesis. Variances are not significantly different.\")\n",
    "\n",
    "print(\"Test Statistic:\", F)\n",
    "print(\"Critical Values (Lower, Upper):\", critical_value_lower, critical_value_upper)\n"
   ]
  },
  {
   "cell_type": "code",
   "execution_count": null,
   "id": "964cee5a-bfbc-46b1-842f-e5547111d745",
   "metadata": {},
   "outputs": [],
   "source": []
  }
 ],
 "metadata": {
  "kernelspec": {
   "display_name": "Python 3 (ipykernel)",
   "language": "python",
   "name": "python3"
  },
  "language_info": {
   "codemirror_mode": {
    "name": "ipython",
    "version": 3
   },
   "file_extension": ".py",
   "mimetype": "text/x-python",
   "name": "python",
   "nbconvert_exporter": "python",
   "pygments_lexer": "ipython3",
   "version": "3.10.8"
  }
 },
 "nbformat": 4,
 "nbformat_minor": 5
}
