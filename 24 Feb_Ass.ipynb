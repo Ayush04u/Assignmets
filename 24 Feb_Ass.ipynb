{
 "cells": [
  {
   "cell_type": "markdown",
   "id": "2dde9eba-f789-4393-82f6-da5358df404d",
   "metadata": {},
   "source": [
    "## Q1. List any five functions of the pandas library with execution."
   ]
  },
  {
   "cell_type": "markdown",
   "id": "86347f94-3d64-4f6e-b7c5-3a669a8b08ed",
   "metadata": {},
   "source": [
    "## ANS ==\n",
    "Here are five functions of the pandas library with execution:"
   ]
  },
  {
   "cell_type": "markdown",
   "id": "1e51ca12-0d5b-4d68-ab91-4f5eb609077b",
   "metadata": {},
   "source": [
    "1. read_csv(): This function reads a CSV file into a pandas DataFrame. For example, suppose you have a CSV file named \"data.csv\" with the following data:"
   ]
  },
  {
   "cell_type": "code",
   "execution_count": 3,
   "id": "dca66a77-23c1-474d-a8d5-dcb02168c293",
   "metadata": {},
   "outputs": [
    {
     "name": "stdout",
     "output_type": "stream",
     "text": [
      "   Unnamed: 0    Name  Age  Gender\n",
      "0           0   Alice   25  Female\n",
      "1           1     Bob   30    Male\n",
      "2           2  Claire   27  Female\n"
     ]
    }
   ],
   "source": [
    "import pandas as pd\n",
    "\n",
    "df = pd.read_csv('data.csv')\n",
    "print(df)\n"
   ]
  },
  {
   "cell_type": "markdown",
   "id": "016d54e0-3a62-4170-a7af-fee4cda27a20",
   "metadata": {},
   "source": [
    "2. head(): This function returns the first n rows of a DataFrame. For example, to get the first 3 rows of the DataFrame from the previous example, you can use the following code:"
   ]
  },
  {
   "cell_type": "code",
   "execution_count": 4,
   "id": "37b38044-104b-4986-b4d3-145e0a9e6ec8",
   "metadata": {},
   "outputs": [
    {
     "name": "stdout",
     "output_type": "stream",
     "text": [
      "   Unnamed: 0    Name  Age  Gender\n",
      "0           0   Alice   25  Female\n",
      "1           1     Bob   30    Male\n",
      "2           2  Claire   27  Female\n"
     ]
    }
   ],
   "source": [
    "print(df.head(3))"
   ]
  },
  {
   "cell_type": "markdown",
   "id": "2f472b26-8fdc-4a3c-9a5a-9b64134929a3",
   "metadata": {},
   "source": [
    "3. describe(): This function returns a summary of the statistics of a DataFrame, such as count, mean, and standard deviation. For example:"
   ]
  },
  {
   "cell_type": "code",
   "execution_count": 5,
   "id": "8b1550c0-21d9-4d1f-990d-36cd96b2bd59",
   "metadata": {},
   "outputs": [
    {
     "name": "stdout",
     "output_type": "stream",
     "text": [
      "       Unnamed: 0        Age\n",
      "count         3.0   3.000000\n",
      "mean          1.0  27.333333\n",
      "std           1.0   2.516611\n",
      "min           0.0  25.000000\n",
      "25%           0.5  26.000000\n",
      "50%           1.0  27.000000\n",
      "75%           1.5  28.500000\n",
      "max           2.0  30.000000\n"
     ]
    }
   ],
   "source": [
    "print(df.describe())"
   ]
  },
  {
   "cell_type": "markdown",
   "id": "9904fea2-c885-499c-88c3-6c98ee9073d4",
   "metadata": {},
   "source": [
    "4. groupby(): This function groups a DataFrame by one or more columns and applies a function to each group. For example, suppose you want to group the DataFrame from the previous example by the \"Gender\" column and get the mean age for each group. You can use the following code:"
   ]
  },
  {
   "cell_type": "code",
   "execution_count": 6,
   "id": "bd19063a-293e-423c-81cc-27756c9b5836",
   "metadata": {},
   "outputs": [
    {
     "name": "stdout",
     "output_type": "stream",
     "text": [
      "        Unnamed: 0   Age\n",
      "Gender                  \n",
      "Female         1.0  26.0\n",
      "Male           1.0  30.0\n"
     ]
    },
    {
     "name": "stderr",
     "output_type": "stream",
     "text": [
      "/tmp/ipykernel_85/946085640.py:2: FutureWarning: The default value of numeric_only in DataFrameGroupBy.mean is deprecated. In a future version, numeric_only will default to False. Either specify numeric_only or select only columns which should be valid for the function.\n",
      "  print(grouped.mean())\n"
     ]
    }
   ],
   "source": [
    "grouped = df.groupby('Gender')\n",
    "print(grouped.mean())\n"
   ]
  },
  {
   "cell_type": "markdown",
   "id": "13283dd3-eb61-419b-b899-b78a25a8e82e",
   "metadata": {},
   "source": [
    "5. plot(): This function creates a plot of the data in a DataFrame. For example, suppose you want to create a bar plot of the age of each person in the DataFrame from the previous example. You can use the following code:"
   ]
  },
  {
   "cell_type": "code",
   "execution_count": 7,
   "id": "0b98f38c-0e32-4e78-8080-44aebf5fd4c0",
   "metadata": {},
   "outputs": [
    {
     "data": {
      "text/plain": [
       "<AxesSubplot: xlabel='Name'>"
      ]
     },
     "execution_count": 7,
     "metadata": {},
     "output_type": "execute_result"
    },
    {
     "data": {
      "image/png": "[encoded data removed]",
      "text/plain": [
       "<Figure size 640x480 with 1 Axes>"
      ]
     },
     "metadata": {},
     "output_type": "display_data"
    }
   ],
   "source": [
    "df.plot(kind='bar', x='Name', y='Age')\n"
   ]
  },
  {
   "cell_type": "markdown",
   "id": "c7926cbb-692b-43df-98d6-acfc601df579",
   "metadata": {},
   "source": [
    "## Q2. Given a Pandas DataFrame df with columns 'A', 'B', and 'C', write a Python function to re-index the DataFrame with a new index that starts from 1 and increments by 2 for each row."
   ]
  },
  {
   "cell_type": "code",
   "execution_count": 8,
   "id": "7c098cb8-b296-4f13-ad13-dc7f3544ed8d",
   "metadata": {},
   "outputs": [],
   "source": [
    "import pandas as pd \n",
    "\n",
    "def reindex_df(df):\n",
    "    new_index = pd.RangeIndex(start=1, step=2, stop=len(df)*2)\n",
    "    new_df = df.set_index(new_index)\n",
    "    return new_df"
   ]
  },
  {
   "cell_type": "code",
   "execution_count": 9,
   "id": "7a36c0a5-64ec-4ead-b497-3c56926fff20",
   "metadata": {},
   "outputs": [],
   "source": [
    "new_df = reindex_df(df)\n"
   ]
  },
  {
   "cell_type": "markdown",
   "id": "558275bf-f335-4160-a475-426d482ae9d3",
   "metadata": {},
   "source": [
    "## Q3. You have a Pandas DataFrame df with a column named 'Values'. Write a Python function that iterates over the DataFrame and calculates the sum of the first three values in the 'Values' column. The function should print the sum to the console."
   ]
  },
  {
   "cell_type": "code",
   "execution_count": 2,
   "id": "b62b1163-410e-4875-969e-6a2b22d5964e",
   "metadata": {},
   "outputs": [
    {
     "name": "stdout",
     "output_type": "stream",
     "text": [
      "Original DataFrame:\n",
      "   Values\n",
      "0      10\n",
      "1      20\n",
      "2      30\n",
      "3      40\n",
      "4      50\n",
      "Sum of the first three values: 60\n"
     ]
    }
   ],
   "source": [
    "import pandas as pd\n",
    "\n",
    "def calculate_sum_of_first_three(df):\n",
    "    \n",
    "    if 'Values' not in df.columns:\n",
    "        print(\"Error: 'Values' column not found in the DataFrame.\")\n",
    "        return\n",
    "    \n",
    "\n",
    "    first_three_values = df['Values'].iloc[:3]\n",
    "    \n",
    "\n",
    "    sum_of_first_three = first_three_values.sum()\n",
    "    print(\"Sum of the first three values:\", sum_of_first_three)\n",
    "\n",
    "\n",
    "df = pd.DataFrame({'Values': [10, 20, 30, 40, 50]})\n",
    "\n",
    "\n",
    "print(\"Original DataFrame:\")\n",
    "print(df)\n",
    "\n",
    "\n",
    "calculate_sum_of_first_three(df)\n"
   ]
  },
  {
   "cell_type": "markdown",
   "id": "8a9719ef-2acf-4b93-8bc1-e5419b54d92a",
   "metadata": {},
   "source": [
    "# Q4. Given a Pandas DataFrame df with a column 'Text', write a Python function to create a new column 'Word_Count' that contains the number of words in each row of the 'Text' column."
   ]
  },
  {
   "cell_type": "code",
   "execution_count": 4,
   "id": "c351c6d5-09f2-42c2-816f-a356385f8582",
   "metadata": {},
   "outputs": [
    {
     "name": "stdout",
     "output_type": "stream",
     "text": [
      "Original DataFrame:\n",
      "                         Text\n",
      "0  This is a sample sentence.\n",
      "1            Another example.\n",
      "\n",
      "DataFrame with Word_Count column:\n",
      "                         Text  Word_Count\n",
      "0  This is a sample sentence.           5\n",
      "1            Another example.           2\n"
     ]
    }
   ],
   "source": [
    "import pandas as pd\n",
    "\n",
    "def add_word_count_column(df):\n",
    "    if 'Text' not in df.columns:\n",
    "        print(\"Error: 'Text' column not found in the DataFrame.\")\n",
    "        return\n",
    "    \n",
    "\n",
    "    df['Word_Count'] = df['Text'].apply(lambda x: len(str(x).split()))\n",
    "    \n",
    "    return df\n",
    "\n",
    "\n",
    "df = pd.DataFrame({'Text': [\"This is a sample sentence.\", \"Another example.\"]})\n",
    "\n",
    "\n",
    "print(\"Original DataFrame:\")\n",
    "print(df)\n",
    "\n",
    "\n",
    "df_with_word_count = add_word_count_column(df)\n",
    "\n",
    "print(\"\\nDataFrame with Word_Count column:\")\n",
    "print(df_with_word_count)\n"
   ]
  },
  {
   "cell_type": "markdown",
   "id": "0765a614-8d84-4a43-9a0b-f942fd56053d",
   "metadata": {},
   "source": [
    "# Q5. How are DataFrame.size() and DataFrame.shape() different?"
   ]
  },
  {
   "cell_type": "markdown",
   "id": "7bb0a1ba-0f3a-4cc5-8366-b0cd6bb0b2be",
   "metadata": {},
   "source": [
    "# ANS==\n",
    "1. DataFrame.size:- DataFrame.size returns the total number of elements in the DataFrame, i.e., the product of the number of rows and columns.The result is an integer representing the total number of cells or entries in the DataFrame.\n",
    "2. DataFrame.shape:- DataFrame.shape returns a tuple representing the dimensions of the DataFrame in the form (number_of_rows, number_of_columns).It provides a more detailed breakdown of the structure of the DataFrame."
   ]
  },
  {
   "cell_type": "markdown",
   "id": "e8e40bf1-2c8a-4903-87bf-613ac4e19681",
   "metadata": {},
   "source": [
    "# Q6. Which function of pandas do we use to read an excel file?"
   ]
  },
  {
   "cell_type": "markdown",
   "id": "62544e99-3e01-420f-beba-91d310919cba",
   "metadata": {},
   "source": [
    "# ANS==\n",
    "\n",
    "In Pandas, you can use the pd.read_csv() function to read data from an Excel file. This function is part of the Pandas library and is specifically designed for reading tabular data from Excel files."
   ]
  },
  {
   "cell_type": "markdown",
   "id": "5dea4964-bfe8-4f56-a7b7-e3c3fea74cba",
   "metadata": {},
   "source": [
    "## Q7. You have a Pandas DataFrame df that contains a column named 'Email' that contains email  addresses in the format 'username@domain.com'. Write a Python function that creates a new column'Username' in df that contains only the username part of each email address."
   ]
  },
  {
   "cell_type": "code",
   "execution_count": 4,
   "id": "3b7cb6c8-0ef2-4ab1-bf3a-fcd5c899a785",
   "metadata": {},
   "outputs": [
    {
     "name": "stdout",
     "output_type": "stream",
     "text": [
      "               Email Username\n",
      "0  user1@example.com    user1\n",
      "1  user2@example.com    user2\n",
      "2  user3@example.com    user3\n"
     ]
    }
   ],
   "source": [
    "#ANS  ==\n",
    "import pandas as pd\n",
    "\n",
    "def extract_username(email):\n",
    "    return email.split('@')[0]\n",
    "\n",
    "def add_username_column(df):\n",
    "    df['Username'] = df['Email'].apply(extract_username)\n",
    "    return df\n",
    "\n",
    "\n",
    "\n",
    "df = add_username_column(df)\n",
    "\n",
    "print(df)\n"
   ]
  },
  {
   "cell_type": "markdown",
   "id": "0019886a-921a-41e1-94ea-d7d4194c2b72",
   "metadata": {},
   "source": [
    "# Q8. You have a Pandas DataFrame df with columns 'A', 'B', and 'C'. Write a Python function that selects \n",
    "all rows where the value in column 'A' is greater than 5 and the value in column 'B' is less than 10. The \n",
    "function should return a new DataFrame that contains only the selected rows.\n",
    "\n",
    "For example, if df contains the following values:\n",
    "\n",
    "   A   B   C\n",
    "\n",
    "0  3   5   1\n",
    "\n",
    "1  8   2   7\n",
    "\n",
    "2  6   9   4\n",
    "\n",
    "3  2   3   5\n",
    "\n",
    "4  9   1   2\n",
    "\n",
    "Your function should select the following rows:   A   B   C\n",
    "\n",
    "1  8   2   7\n",
    "\n",
    "4  9   1   2\n",
    "\n",
    "The function should return a new DataFrame that contains only the selected rows"
   ]
  },
  {
   "cell_type": "code",
   "execution_count": 8,
   "id": "bfc93541-0064-4de9-90e4-2bb6f1bf5d0a",
   "metadata": {},
   "outputs": [
    {
     "name": "stdout",
     "output_type": "stream",
     "text": [
      "   A  B  C\n",
      "1  8  2  7\n",
      "2  6  9  4\n",
      "4  9  1  2\n"
     ]
    }
   ],
   "source": [
    "# Ans ==\n",
    "import pandas as pd\n",
    "\n",
    "def select_rows(df):\n",
    "    # Use boolean indexing to select rows based on conditions\n",
    "    selected_rows = df[(df['A'] > 5) & (df['B'] < 10)]\n",
    "    \n",
    "    # Return the new DataFrame containing only the selected rows\n",
    "    return selected_rows\n",
    "\n",
    "# Example usage:\n",
    "# Assuming df is your DataFrame with columns 'A', 'B', and 'C'\n",
    "df = pd.DataFrame({'A': [3, 8, 6, 2, 9],\n",
    "                   'B': [5, 2, 9, 3, 1],\n",
    "                   'C': [1, 7, 4, 5, 2]})\n",
    "\n",
    "# Call the function to select rows\n",
    "selected_df = select_rows(df)\n",
    "\n",
    "# Display the selected DataFrame\n",
    "print(selected_df)\n"
   ]
  },
  {
   "cell_type": "markdown",
   "id": "0d5cbce6-7f76-4d3c-b9ae-cea2928fd24b",
   "metadata": {},
   "source": [
    "# Q9. Given a Pandas DataFrame df with a column 'Values', write a Python function to calculate the mean,median, and standard deviation of the values in the 'Values' column."
   ]
  },
  {
   "cell_type": "code",
   "execution_count": 14,
   "id": "5b67200d-cbc3-43de-aae9-a6ff647b538f",
   "metadata": {},
   "outputs": [
    {
     "name": "stdout",
     "output_type": "stream",
     "text": [
      "Mean: 20.0\n",
      "Median: 20.0\n",
      "Standard Deviation: 7.905694150420948\n"
     ]
    }
   ],
   "source": [
    "#Ans ==\n",
    "import pandas as pd\n",
    "\n",
    "def calculate_stats(df, column_name='Values'):\n",
    "    # Check if the specified column name exists in the DataFrame\n",
    "    if column_name not in df.columns:\n",
    "        print(f\"Column '{column_name}' not found in the DataFrame.\")\n",
    "        return None, None, None\n",
    "    \n",
    "    # Extract the specified column\n",
    "    values_column = df[column_name]\n",
    "    \n",
    "    # Calculate mean, median, and standard deviation\n",
    "    mean_value = values_column.mean()\n",
    "    median_value = values_column.median()\n",
    "    std_deviation = values_column.std()\n",
    "    \n",
    "    # Return the calculated statistics\n",
    "    return mean_value, median_value, std_deviation\n",
    "\n",
    "\n",
    "df = pd.DataFrame({'Values': [10, 15, 20, 25, 30]})\n",
    "\n",
    "# Call the function to calculate statistics for the 'Values' column\n",
    "mean_val, median_val, std_dev = calculate_stats(df, column_name='Values')\n",
    "\n",
    "# Display the results if the column is found\n",
    "if mean_val is not None:\n",
    "    print(f\"Mean: {mean_val}\")\n",
    "    print(f\"Median: {median_val}\")\n",
    "    print(f\"Standard Deviation: {std_dev}\")\n"
   ]
  },
  {
   "cell_type": "markdown",
   "id": "682e06ca-2176-4631-97d3-2b1ce479b414",
   "metadata": {},
   "source": [
    "# Q10. Given a Pandas DataFrame df with a column 'Sales' and a column 'Date', write a Python function to create a new column 'MovingAverage' that contains the moving average of the sales for the past 7 days for each row in the DataFrame. The moving average should be calculated using a window of size 7 and should include the current day."
   ]
  },
  {
   "cell_type": "code",
   "execution_count": 1,
   "id": "5541641d-4d5b-4b2b-b3a5-dea336884210",
   "metadata": {},
   "outputs": [
    {
     "name": "stdout",
     "output_type": "stream",
     "text": [
      "   Sales       Date  MovingAverage\n",
      "0     10 2022-01-01           10.0\n",
      "1     15 2022-01-02           12.5\n",
      "2     20 2022-01-03           15.0\n",
      "3     25 2022-01-04           17.5\n",
      "4     30 2022-01-05           20.0\n",
      "5     35 2022-01-06           22.5\n",
      "6     40 2022-01-07           25.0\n"
     ]
    }
   ],
   "source": [
    "#Ans \n",
    "import pandas as pd\n",
    "\n",
    "def calculate_moving_average(df, window_size=7):\n",
    "    # Check if the 'Date' column is in datetime format\n",
    "    if not pd.api.types.is_datetime64_any_dtype(df['Date']):\n",
    "        # Convert 'Date' column to datetime format if it's not already\n",
    "        df['Date'] = pd.to_datetime(df['Date'])\n",
    "    \n",
    "    # Sort the DataFrame by 'Date'\n",
    "    df = df.sort_values(by='Date')\n",
    "\n",
    "    # Create the 'MovingAverage' column\n",
    "    df['MovingAverage'] = df['Sales'].rolling(window=window_size, min_periods=1).mean()\n",
    "\n",
    "    return df\n",
    "\n",
    "# Example usage:\n",
    "# Assuming df is your DataFrame with columns 'Sales' and 'Date'\n",
    "df = pd.DataFrame({'Sales': [10, 15, 20, 25, 30, 35, 40],\n",
    "                   'Date': ['2022-01-01', '2022-01-02', '2022-01-03', '2022-01-04', '2022-01-05', '2022-01-06', '2022-01-07']})\n",
    "\n",
    "# Call the function to calculate the moving average\n",
    "df = calculate_moving_average(df)\n",
    "\n",
    "# Display the updated DataFrame\n",
    "print(df)\n"
   ]
  },
  {
   "cell_type": "markdown",
   "id": "d8d3102b-a08f-48ed-9d73-75e77911568c",
   "metadata": {},
   "source": [
    "# Q11. You have a Pandas DataFrame df with a column 'Date'. Write a Python function that creates a new column 'Weekday' in the DataFrame. The 'Weekday' column should contain the weekday name (e.g.Monday, Tuesday) corresponding to each date in the 'Date' column.\n",
    "\n",
    "For example, if df contains the following values:\n",
    "\n",
    "         Date\n",
    "\n",
    "0  2023-01-01\n",
    "\n",
    "1  2023-01-02\n",
    "\n",
    "2  2023-01-03\n",
    "\n",
    "3  2023-01-04\n",
    "\n",
    "4  2023-01-05\n",
    "\n",
    "Your function should create the following DataFrame:\n",
    "\n",
    "\n",
    "         Date    Weekday\n",
    "\n",
    "0  2023-01-01    Sunday\n",
    "\n",
    "1  2023-01-02     Monday\n",
    "\n",
    "2  2023-01-03    Tuesday\n",
    "\n",
    "3  2023-01-04    Wednesday\n",
    "\n",
    "4  2023-01-05    Thursday\n",
    "\n",
    "The function should return the modified DataFrame"
   ]
  },
  {
   "cell_type": "code",
   "execution_count": 2,
   "id": "647ae01b-a9ae-419e-9c72-d76c5fdf8c7f",
   "metadata": {},
   "outputs": [
    {
     "name": "stdout",
     "output_type": "stream",
     "text": [
      "        Date    Weekday\n",
      "0 2023-01-01     Sunday\n",
      "1 2023-01-02     Monday\n",
      "2 2023-01-03    Tuesday\n",
      "3 2023-01-04  Wednesday\n",
      "4 2023-01-05   Thursday\n"
     ]
    }
   ],
   "source": [
    "#Ans ==\n",
    "import pandas as pd\n",
    "\n",
    "def add_weekday_column(df):\n",
    "    # Convert 'Date' column to datetime format if it's not already\n",
    "    df['Date'] = pd.to_datetime(df['Date'])\n",
    "    \n",
    "    # Create the 'Weekday' column\n",
    "    df['Weekday'] = df['Date'].dt.strftime('%A')\n",
    "\n",
    "    return df\n",
    "\n",
    "# Example usage:\n",
    "# Assuming df is your DataFrame with a column 'Date'\n",
    "df = pd.DataFrame({'Date': ['2023-01-01', '2023-01-02', '2023-01-03', '2023-01-04', '2023-01-05']})\n",
    "\n",
    "# Call the function to add the 'Weekday' column\n",
    "df = add_weekday_column(df)\n",
    "\n",
    "# Display the updated DataFrame\n",
    "print(df)\n"
   ]
  },
  {
   "cell_type": "markdown",
   "id": "ecafcb85-23d4-4203-a736-160b438976dc",
   "metadata": {},
   "source": [
    "# Q12. Given a Pandas DataFrame df with a column 'Date' that contains timestamps, write a Python function to select all rows where the date is between '2023-01-01' and '2023-01-31'."
   ]
  },
  {
   "cell_type": "code",
   "execution_count": 3,
   "id": "0cf7fa34-ed3f-4081-a3f7-b168572d72af",
   "metadata": {},
   "outputs": [
    {
     "name": "stdout",
     "output_type": "stream",
     "text": [
      "        Date\n",
      "0 2023-01-01\n",
      "1 2023-01-15\n",
      "2 2023-01-25\n"
     ]
    }
   ],
   "source": [
    "#Ans ==\n",
    "import pandas as pd\n",
    "\n",
    "def select_rows_in_date_range(df, start_date='2023-01-01', end_date='2023-01-31'):\n",
    "    # Convert 'Date' column to datetime format if it's not already\n",
    "    df['Date'] = pd.to_datetime(df['Date'])\n",
    "    \n",
    "    # Create a mask for the date range\n",
    "    mask = (df['Date'] >= start_date) & (df['Date'] <= end_date)\n",
    "    \n",
    "    # Select rows within the specified date range\n",
    "    selected_rows = df[mask]\n",
    "\n",
    "    return selected_rows\n",
    "\n",
    "# Example usage:\n",
    "# Assuming df is your DataFrame with a column 'Date'\n",
    "df = pd.DataFrame({'Date': ['2023-01-01', '2023-01-15', '2023-01-25', '2023-02-05']})\n",
    "\n",
    "# Call the function to select rows in the date range\n",
    "selected_df = select_rows_in_date_range(df, start_date='2023-01-01', end_date='2023-01-31')\n",
    "\n",
    "# Display the selected DataFrame\n",
    "print(selected_df)\n"
   ]
  },
  {
   "cell_type": "markdown",
   "id": "685d4b69-d460-4bca-9c40-7f50c273586d",
   "metadata": {},
   "source": [
    "# Q13. To use the basic functions of pandas, what is the first and foremost necessary library that needs to be imported?"
   ]
  },
  {
   "cell_type": "markdown",
   "id": "af87b318-51b8-43a8-91bc-5b90ca0c3e98",
   "metadata": {},
   "source": [
    "# Ans ==\n",
    "To use the basic functions of Pandas, you need to import the Pandas library itself. The common convention is to import it with the alias 'pd':\n",
    " import pandas as pd"
   ]
  },
  {
   "cell_type": "code",
   "execution_count": null,
   "id": "70f8512b-e1a7-4e98-a6cf-579cec7e5775",
   "metadata": {},
   "outputs": [],
   "source": []
  }
 ],
 "metadata": {
  "kernelspec": {
   "display_name": "Python 3 (ipykernel)",
   "language": "python",
   "name": "python3"
  },
  "language_info": {
   "codemirror_mode": {
    "name": "ipython",
    "version": 3
   },
   "file_extension": ".py",
   "mimetype": "text/x-python",
   "name": "python",
   "nbconvert_exporter": "python",
   "pygments_lexer": "ipython3",
   "version": "3.10.8"
  }
 },
 "nbformat": 4,
 "nbformat_minor": 5
}
