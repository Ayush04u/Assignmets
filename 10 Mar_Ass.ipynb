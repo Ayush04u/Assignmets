{
 "cells": [
  {
   "cell_type": "markdown",
   "id": "6585b428-df9d-4c73-b484-69887ffecbbc",
   "metadata": {},
   "source": [
    "## Q1: What is Estimation Statistics? Explain point estimate and interval estimate."
   ]
  },
  {
   "cell_type": "markdown",
   "id": "e9f787f9-aecf-45f8-adfd-b56505338e58",
   "metadata": {},
   "source": [
    "# Ans ==\n",
    "\n",
    "Estimation statistics involves the use of sample data to make inferences about population parameters. Two common types of estimates in statistics are point estimates and interval estimates.\n",
    "\n",
    "Point Estimate:\n",
    "\n",
    "A point estimate is a single numerical value that is used to estimate an unknown population parameter. It is essentially a best guess or a single value that summarizes the information provided by the sample.\n",
    "For example, if you want to estimate the average height of a population based on a sample of individuals, the sample mean would be the point estimate for the population mean.\n",
    "Interval Estimate:\n",
    "\n",
    "An interval estimate provides a range within which the true population parameter is likely to fall, along with a level of confidence associated with that range.\n",
    "The most common type of interval estimate is a confidence interval. A confidence interval gives a range of values, and it is accompanied by a confidence level that indicates the probability that the true parameter lies within that range.\n",
    "For instance, a 95% confidence interval for the average height of a population might be from 65 inches to 70 inches. This means that we are 95% confident that the true average height of the population falls within this interval."
   ]
  },
  {
   "cell_type": "markdown",
   "id": "00505649-b04a-414c-b8d8-e6313493afd3",
   "metadata": {},
   "source": [
    "## Q2. Write a Python function to estimate the population mean using a sample mean and standard deviation."
   ]
  },
  {
   "cell_type": "code",
   "execution_count": 1,
   "id": "5eee3daf-ddff-4288-b4b0-db885cd81a0d",
   "metadata": {},
   "outputs": [
    {
     "name": "stdout",
     "output_type": "stream",
     "text": [
      "Estimation Results:\n",
      "Population Mean Estimate: 65.2\n",
      "Confidence Interval: (64.22, 66.18)\n"
     ]
    }
   ],
   "source": [
    "import math\n",
    "\n",
    "def estimate_population_mean(sample_mean, sample_std_dev, sample_size):\n",
    "    \"\"\"\n",
    "    Function to estimate the population mean using a sample mean, standard deviation,\n",
    "    and sample size.\n",
    "\n",
    "    Parameters:\n",
    "    - sample_mean: The mean of the sample.\n",
    "    - sample_std_dev: The standard deviation of the sample.\n",
    "    - sample_size: The size of the sample.\n",
    "\n",
    "    Returns:\n",
    "    - population_mean_estimate: The estimated population mean.\n",
    "    \"\"\"\n",
    "    # Calculate the standard error of the mean\n",
    "    standard_error = sample_std_dev / math.sqrt(sample_size)\n",
    "\n",
    "    # Calculate the margin of error (usually used for constructing confidence intervals)\n",
    "    margin_of_error = 1.96 * standard_error  # 1.96 corresponds to a 95% confidence level\n",
    "\n",
    "    # Calculate the lower and upper bounds of the estimated population mean\n",
    "    lower_bound = sample_mean - margin_of_error\n",
    "    upper_bound = sample_mean + margin_of_error\n",
    "\n",
    "    # The estimated population mean is the same as the sample mean\n",
    "    population_mean_estimate = sample_mean\n",
    "\n",
    "    print(\"Estimation Results:\")\n",
    "    print(f\"Population Mean Estimate: {population_mean_estimate}\")\n",
    "    print(f\"Confidence Interval: ({lower_bound}, {upper_bound})\")\n",
    "\n",
    "    return population_mean_estimate\n",
    "\n",
    "# Example usage:\n",
    "sample_mean = 65.2\n",
    "sample_std_dev = 5.0\n",
    "sample_size = 100\n",
    "\n",
    "population_mean_estimate = estimate_population_mean(sample_mean, sample_std_dev, sample_size)\n"
   ]
  },
  {
   "cell_type": "markdown",
   "id": "5b0e29bd-a275-48e0-bbd2-7a5365f0b1e4",
   "metadata": {},
   "source": [
    "## Q3: What is Hypothesis testing? Why is it used? State the importance of Hypothesis testing."
   ]
  },
  {
   "cell_type": "markdown",
   "id": "a18e77f5-ffa6-4b78-a68e-05a4e481412a",
   "metadata": {},
   "source": [
    "# Ans ==\n",
    "Hypothesis testing is a statistical method used to make inferences about a population parameter based on a sample of data. It involves formulating a hypothesis about the population parameter, collecting and analyzing data, and then making a decision about whether to accept or reject the initial hypothesis.\n",
    "\n",
    "Here's a general outline of how hypothesis testing works:\n",
    "\n",
    "Formulate Hypotheses:\n",
    "\n",
    "Null Hypothesis (H0): This is a statement of no effect or no difference. It is the default assumption that there is no significant change or relationship.\n",
    "Alternative Hypothesis (H1 or Ha): This is a statement that contradicts the null hypothesis and suggests the presence of a significant effect or difference.\n",
    "Collect Data:\n",
    "\n",
    "Gather a sample from the population and collect relevant data.\n",
    "Statistical Analysis:\n",
    "\n",
    "Use statistical methods to analyze the data and calculate a test statistic.\n",
    "Make a Decision:\n",
    "\n",
    "Compare the test statistic to a critical value or p-value to decide whether to reject the null hypothesis.\n",
    "If the evidence is strong enough, the null hypothesis is rejected in favor of the alternative hypothesis.\n",
    "Importance of Hypothesis Testing:\n",
    "\n",
    "Scientific Inquiry:\n",
    "\n",
    "Hypothesis testing is fundamental to the scientific method. It allows researchers to systematically test their ideas and theories against empirical evidence.\n",
    "Decision-Making:\n",
    "\n",
    "In various fields, such as business, medicine, and social sciences, decisions often need to be made based on available data. Hypothesis testing provides a structured way to make informed decisions.\n",
    "Quality Control:\n",
    "\n",
    "In manufacturing and industry, hypothesis testing is used to ensure the quality of products by testing whether certain specifications are met.\n",
    "Policy and Strategy Evaluation:\n",
    "\n",
    "Hypothesis testing is valuable in evaluating the effectiveness of policies, strategies, or interventions by comparing outcomes before and after implementation.\n",
    "Scientific Research:\n",
    "\n",
    "It helps researchers draw conclusions about population parameters based on sample data, allowing for generalization from a smaller group to a larger population.\n",
    "Risk Management:\n",
    "\n",
    "In finance and other domains, hypothesis testing is used to assess the risk associated with certain decisions or investments."
   ]
  },
  {
   "cell_type": "markdown",
   "id": "8040f2b9-86c7-4f62-b817-fa0912d5bbdc",
   "metadata": {},
   "source": [
    "## Q4. Create a hypothesis that states whether the average weight of male college students is greater than the average weight of female college students."
   ]
  },
  {
   "cell_type": "markdown",
   "id": "faf9d167-efdb-469c-afd8-cfa494987859",
   "metadata": {},
   "source": [
    "# Ans ==\n",
    "We'll use the null hypothesis (H0) and the alternative hypothesis (H1):\n",
    "\n",
    "Null Hypothesis (H0): The average weight of male college students is equal to or less than the average weight of female college students.\n",
    "\n",
    "H0: μ_male <= μ_female\n",
    "Alternative Hypothesis (H1): The average weight of male college students is greater than the average weight of female college students.\n",
    "\n",
    "H1: μ_male > μ_female\n",
    "Here:\n",
    "\n",
    "μ_male represents the population mean weight of male college students.\n",
    "μ_female represents the population mean weight of female college students.\n",
    "In the null hypothesis, we use the \"less than or equal to\" sign to cover both the possibilities that the weights are equal or that male weights are less than female weights. The alternative hypothesis asserts that male weights are greater.\n",
    "\n",
    "This sets up a framework for testing whether there is evidence to support the claim that the average weight of male college students is greater than the average weight of female college students based on sample data"
   ]
  },
  {
   "cell_type": "markdown",
   "id": "0276529c-26e4-45ec-be5a-7c527c024ad1",
   "metadata": {},
   "source": [
    "## Q5. Write a Python script to conduct a hypothesis test on the difference between two population means, given a sample from each population."
   ]
  },
  {
   "cell_type": "code",
   "execution_count": 5,
   "id": "4e28f4f4-d8b5-4b78-9ef9-1e89e203f45a",
   "metadata": {},
   "outputs": [
    {
     "name": "stdout",
     "output_type": "stream",
     "text": [
      "T-Test Results:\n",
      "T-Statistic: 3.9703446152237705\n",
      "P-Value: 0.0018583403686073374\n",
      "Reject the null hypothesis at the 0.05 significance level.\n"
     ]
    },
    {
     "data": {
      "text/plain": [
       "(3.9703446152237705, 0.0018583403686073374)"
      ]
     },
     "execution_count": 5,
     "metadata": {},
     "output_type": "execute_result"
    }
   ],
   "source": [
    "# Ans ==\n",
    "import numpy as np\n",
    "from scipy import stats\n",
    "\n",
    "def conduct_ttest(sample1, sample2, alpha=0.05):\n",
    "    \"\"\"\n",
    "    Conducts an independent samples t-test to compare the means of two populations.\n",
    "\n",
    "    Parameters:\n",
    "    - sample1: NumPy array or list representing the first sample.\n",
    "    - sample2: NumPy array or list representing the second sample.\n",
    "    - alpha: Significance level (default is 0.05).\n",
    "\n",
    "    Returns:\n",
    "    - result: A tuple containing the t-statistic and p-value from the t-test.\n",
    "    \"\"\"\n",
    "    t_statistic, p_value = stats.ttest_ind(sample1, sample2)\n",
    "\n",
    "    print(\"T-Test Results:\")\n",
    "    print(f\"T-Statistic: {t_statistic}\")\n",
    "    print(f\"P-Value: {p_value}\")\n",
    "\n",
    "    if p_value < alpha:\n",
    "        print(\"Reject the null hypothesis at the\", alpha, \"significance level.\")\n",
    "    else:\n",
    "        print(\"Fail to reject the null hypothesis at the\", alpha, \"significance level.\")\n",
    "\n",
    "    return t_statistic, p_value\n",
    "\n",
    "male_weights = np.array([70, 72, 68, 74, 71, 73, 69])\n",
    "female_weights = np.array([65, 68, 63, 70, 66, 67, 64])\n",
    "\n",
    "conduct_ttest(male_weights, female_weights)\n"
   ]
  },
  {
   "cell_type": "markdown",
   "id": "422f7600-dd4b-4366-a07c-241bb097c0a9",
   "metadata": {},
   "source": [
    "## Q6: What is a null and alternative hypothesis? Give some examples."
   ]
  },
  {
   "cell_type": "markdown",
   "id": "649ce703-34c7-434a-a05b-74faa3f489fb",
   "metadata": {},
   "source": [
    "# Ans ==\n",
    "Null Hypothesis (H0):\n",
    "The null hypothesis is a statement that there is no significant difference or effect, or that a parameter is equal to a specific value. It often represents the default or status quo assumption. Researchers typically test the null hypothesis to determine if there is enough evidence to reject it in favor of an alternative hypothesis. The notation often used is H0.\n",
    "\n",
    "Alternative Hypothesis (H1 or Ha):\n",
    "The alternative hypothesis is a statement that contradicts the null hypothesis. It suggests that there is a significant difference, effect, or relationship in the population. Researchers are generally interested in supporting the alternative hypothesis. The notation often used is H1 or Ha.\n",
    "\n",
    "Here are some examples to illustrate the concepts:\n",
    "\n",
    "Example for Mean Comparison:\n",
    "\n",
    "Null Hypothesis (H0): The average test scores of students who receive tutoring are equal to the average test scores of students who do not receive tutoring.\n",
    "Alternative Hypothesis (H1): The average test scores of students who receive tutoring are different from the average test scores of students who do not receive tutoring.\n",
    "Example for Proportion Comparison:\n",
    "\n",
    "Null Hypothesis (H0): The proportion of customers who prefer product A is equal to or greater than the proportion of customers who prefer product B.\n",
    "Alternative Hypothesis (H1): The proportion of customers who prefer product A is less than the proportion of customers who prefer product B.\n",
    "Example for Correlation:\n",
    "\n",
    "Null Hypothesis (H0): There is no correlation between the hours of study and exam performance.\n",
    "Alternative Hypothesis (H1): There is a significant positive correlation between the hours of study and exam performance.\n",
    "Example for Population Mean:\n",
    "\n",
    "Null Hypothesis (H0): The average weight of male and female athletes is the same.\n",
    "Alternative Hypothesis (H1): The average weight of male athletes is different from the average weight of female athletes.\n",
    "Example for Difference in Means:\n",
    "\n",
    "Null Hypothesis (H0): The average reaction time under two different conditions is equal.\n",
    "Alternative Hypothesis (H1): The average reaction time under the two conditions is not equal."
   ]
  },
  {
   "cell_type": "markdown",
   "id": "9f5b283c-0335-4773-934a-827963e2406b",
   "metadata": {},
   "source": [
    "## Q7: Write down the steps involved in hypothesis testing."
   ]
  },
  {
   "cell_type": "markdown",
   "id": "097c2d73-23c3-4820-95e3-c5ccecac2a0b",
   "metadata": {},
   "source": [
    "# Ans ==\n",
    "Hypothesis testing involves a series of steps to make inferences about a population parameter based on sample data. Here are the general steps involved in hypothesis testing:\n",
    "\n",
    "Formulate the Hypotheses:\n",
    "\n",
    "Null Hypothesis (H0): State a hypothesis of no effect or no difference. Use symbols to represent population parameters.\n",
    "Alternative Hypothesis (H1 or Ha): State a hypothesis that contradicts the null hypothesis, suggesting the presence of an effect or difference.\n",
    "Choose the Significance Level (α):\n",
    "\n",
    "Select a significance level, denoted by α, which represents the probability of making a Type I error (rejecting a true null hypothesis). Common choices include 0.05, 0.01, or 0.10.\n",
    "Collect and Analyze the Data:\n",
    "\n",
    "Collect a sample from the population of interest.\n",
    "Perform statistical analysis based on the nature of the hypothesis test and the type of data. Common tests include t-tests, chi-square tests, ANOVA, etc.\n",
    "Calculate the Test Statistic:\n",
    "\n",
    "Compute the test statistic using the sample data. The test statistic depends on the type of hypothesis test being conducted.\n",
    "Determine the Critical Region:\n",
    "\n",
    "Identify the critical region(s) in the distribution of the test statistic under the null hypothesis. This is the region where you would reject the null hypothesis.\n",
    "Make a Decision:\n",
    "\n",
    "Compare the calculated test statistic to the critical value(s).\n",
    "If the test statistic falls in the critical region, reject the null hypothesis.\n",
    "If the test statistic does not fall in the critical region, fail to reject the null hypothesis.\n",
    "Draw Conclusions:\n",
    "\n",
    "Based on the decision in step 6, draw conclusions about the null hypothesis.\n",
    "If the null hypothesis is rejected, provide evidence in support of the alternative hypothesis.\n",
    "If the null hypothesis is not rejected, there is insufficient evidence to support the alternative hypothesis.\n",
    "Consider Practical Significance:\n",
    "\n",
    "Even if a result is statistically significant, consider whether the observed effect is practically significant and meaningful in the real-world context.\n",
    "Report Results:\n",
    "\n",
    "Summarize the results, including the test statistic, p-value, and the decision regarding the null hypothesis.\n",
    "Provide insights into the implications of the findings.\n",
    "Interpretation and Conclusion:\n",
    "\n",
    "Interpret the results in the context of the original research question.\n",
    "Draw conclusions about the population parameter based on the evidence from the sample.\n",
    "These steps provide a systematic and structured approach to hypothesis testing, ensuring that decisions are based on statistical evidence and controlled for the risk of making Type I errors. Adjustments may be made based on the specific requirements of the hypothesis test being conducted."
   ]
  },
  {
   "cell_type": "markdown",
   "id": "4f20ef95-0d4c-439b-8cd0-51a26a5ba44c",
   "metadata": {},
   "source": [
    "## Q8. Define p-value and explain its significance in hypothesis testing."
   ]
  },
  {
   "cell_type": "markdown",
   "id": "3633be6d-3382-43dd-9bb2-7adae7b60d42",
   "metadata": {},
   "source": [
    "#Ans ==\n",
    "The p-value, or probability value, is a crucial concept in hypothesis testing. It is a measure that helps assess the evidence against the null hypothesis and informs the decision of whether to reject the null hypothesis in favor of the alternative hypothesis.\n",
    "\n",
    "The p-value is the probability of observing a test statistic as extreme as, or more extreme than, the one calculated from the sample data, assuming that the null hypothesis is true.\n",
    "In other words, the p-value quantifies the strength of evidence against the null hypothesis. A low p-value suggests that the observed data is unlikely under the assumption that the null hypothesis is true.\n",
    "Significance Level (α):\n",
    "\n",
    "The p-value is compared to a pre-defined significance level (α), which is the probability of making a Type I error (rejecting a true null hypothesis).\n",
    "Common choices for α include 0.05, 0.01, or 0.10.\n",
    "Decision Rule:\n",
    "\n",
    "If the p-value is less than or equal to the chosen significance level (α), the null hypothesis is rejected.\n",
    "If the p-value is greater than the significance level, there is insufficient evidence to reject the null hypothesis.\n",
    "Interpretation:\n",
    "\n",
    "A small p-value (typically less than 0.05) suggests that the observed data is unlikely under the null hypothesis, leading to the rejection of the null hypothesis.\n",
    "A large p-value suggests that the observed data is not unusual under the null hypothesis, and there is no significant evidence to reject the null hypothesis.\n",
    "Conclusions:\n",
    "\n",
    "If the null hypothesis is rejected, it implies that there is evidence in favor of the alternative hypothesis.\n",
    "If the null hypothesis is not rejected, it suggests that there is not enough evidence to support the alternative hypothesis.\n",
    "Uncertainty and Confidence:\n",
    "\n",
    "The p-value does not provide the probability that either hypothesis is true. It only quantifies the strength of evidence against the null hypothesis given the data.\n",
    "A small p-value indicates low uncertainty, while a large p-value indicates higher uncertainty regarding the conclusion."
   ]
  },
  {
   "cell_type": "markdown",
   "id": "6d2861f0-ce44-4472-a063-ba6520e7586f",
   "metadata": {},
   "source": [
    "## Q9. Generate a Student's t-distribution plot using Python's matplotlib library, with the degrees of freedom parameter set to 10."
   ]
  },
  {
   "cell_type": "code",
   "execution_count": 2,
   "id": "895e8d80-e859-4124-b63d-e43ee0922633",
   "metadata": {},
   "outputs": [
    {
     "data": {
      "image/png": "[encoded data removed]",
      "text/plain": [
       "<Figure size 640x480 with 1 Axes>"
      ]
     },
     "metadata": {},
     "output_type": "display_data"
    }
   ],
   "source": [
    "#Ans ==\n",
    "import numpy as np\n",
    "import matplotlib.pyplot as plt\n",
    "from scipy.stats import t\n",
    "\n",
    "# Set the degrees of freedom\n",
    "degrees_of_freedom = 10\n",
    "\n",
    "# Generate x values for the plot\n",
    "x_values = np.linspace(-4, 4, 1000)\n",
    "\n",
    "# Calculate the probability density function (PDF) values for the t-distribution\n",
    "pdf_values = t.pdf(x_values, df=degrees_of_freedom)\n",
    "\n",
    "# Plot the t-distribution\n",
    "plt.plot(x_values, pdf_values, label=f'Student\\'s t-distribution (df={degrees_of_freedom})')\n",
    "plt.title('Student\\'s t-distribution')\n",
    "plt.xlabel('x')\n",
    "plt.ylabel('Probability Density')\n",
    "plt.legend()\n",
    "plt.grid(True)\n",
    "plt.show()\n"
   ]
  },
  {
   "cell_type": "markdown",
   "id": "9be62cb9-e217-4245-b540-115769a5c4cb",
   "metadata": {},
   "source": [
    "## Q10. Write a Python program to calculate the two-sample t-test for independent samples, given two random samples of equal size and a null hypothesis that the population means are equal."
   ]
  },
  {
   "cell_type": "code",
   "execution_count": 4,
   "id": "05cbe395-745a-4cda-b46a-e2f6e2afa4c6",
   "metadata": {},
   "outputs": [
    {
     "name": "stdout",
     "output_type": "stream",
     "text": [
      "Two-Sample T-Test Results:\n",
      "T-Statistic: -4.512913234547557\n",
      "P-Value: 3.176506547470136e-05\n",
      "Reject the null hypothesis at the 0.05 significance level.\n"
     ]
    },
    {
     "data": {
      "text/plain": [
       "(-4.512913234547557, 3.176506547470136e-05)"
      ]
     },
     "execution_count": 4,
     "metadata": {},
     "output_type": "execute_result"
    }
   ],
   "source": [
    "#Ans ==\n",
    "import numpy as np\n",
    "from scipy.stats import ttest_ind\n",
    "\n",
    "def two_sample_t_test(sample1, sample2, alpha=0.05):\n",
    "    \"\"\"\n",
    "    Perform a two-sample t-test for independent samples.\n",
    "\n",
    "    Parameters:\n",
    "    - sample1: NumPy array or list representing the first sample.\n",
    "    - sample2: NumPy array or list representing the second sample.\n",
    "    - alpha: Significance level (default is 0.05).\n",
    "\n",
    "    Returns:\n",
    "    - t_statistic: The calculated t-statistic.\n",
    "    - p_value: The p-value associated with the t-statistic.\n",
    "    \"\"\"\n",
    "    t_statistic, p_value = ttest_ind(sample1, sample2)\n",
    "\n",
    "    print(\"Two-Sample T-Test Results:\")\n",
    "    print(f\"T-Statistic: {t_statistic}\")\n",
    "    print(f\"P-Value: {p_value}\")\n",
    "\n",
    "    if p_value < alpha:\n",
    "        print(\"Reject the null hypothesis at the\", alpha, \"significance level.\")\n",
    "    else:\n",
    "        print(\"Fail to reject the null hypothesis at the\", alpha, \"significance level.\")\n",
    "\n",
    "    return t_statistic, p_value\n",
    "\n",
    "np.random.seed(42)\n",
    "sample_size = 30\n",
    "sample1 = np.random.normal(loc=0, scale=1, size=sample_size)\n",
    "sample2 = np.random.normal(loc=1, scale=1, size=sample_size)\n",
    "\n",
    "# Perform the two-sample t-test\n",
    "two_sample_t_test(sample1, sample2)\n"
   ]
  },
  {
   "cell_type": "markdown",
   "id": "a8713267-95fe-419b-8a48-7d1f0081adf8",
   "metadata": {},
   "source": [
    "## Q11: What is Student’s t distribution? When to use the t-Distribution."
   ]
  },
  {
   "cell_type": "markdown",
   "id": "bf98a1c0-e338-40a4-b51b-f7b1fd3e4c3f",
   "metadata": {},
   "source": [
    "#Ans ==\n",
    "\n",
    "Student's t-distribution, often referred to as the t-distribution, is a probability distribution that is used in statistical hypothesis testing when the sample size is small and the population standard deviation is unknown. It is named after William Sealy Gosset, who published under the pseudonym \"Student.\"\n",
    "\n",
    "Characteristics of the t-Distribution:\n",
    "\n",
    "Shape:\n",
    "\n",
    "The t-distribution is similar in shape to the normal distribution, but it has heavier tails.\n",
    "As the degrees of freedom increase, the t-distribution approaches the shape of the standard normal distribution (z-distribution).\n",
    "Parameter:\n",
    "\n",
    "The t-distribution is characterized by a parameter called degrees of freedom (df). The degrees of freedom depend on the sample size and are denoted as df = n - 1, where n is the sample size.\n",
    "Centered at 0:\n",
    "\n",
    "Like the standard normal distribution, the t-distribution is centered at 0.\n",
    "Spread:\n",
    "\n",
    "The spread of the t-distribution is greater than that of the standard normal distribution due to the heavier tails.\n",
    "When to Use the t-Distribution:\n",
    "The t-distribution is appropriate in situations where the following conditions are met:\n",
    "\n",
    "Small Sample Size:\n",
    "\n",
    "When dealing with small sample sizes (typically n < 30), the t-distribution is more appropriate than the normal distribution for making inferences about population parameters.\n",
    "Unknown Population Standard Deviation:\n",
    "\n",
    "When the population standard deviation is unknown, and the sample standard deviation is used instead, the t-distribution should be used.\n",
    "Normality Assumption:\n",
    "\n",
    "The t-distribution is robust to deviations from normality, especially as the sample size increases. However, it is still important to consider the normality assumption, especially for small sample sizes.\n",
    "Common Use Cases:\n",
    "\n",
    "Hypothesis Testing: When comparing sample means or conducting tests about population means with small sample sizes.\n",
    "Confidence Intervals: For constructing confidence intervals when the population standard deviation is unknown.\n",
    "Regression Analysis: In some cases, the t-distribution is used in statistical tests associated with regression analysis.\n",
    "Example:\n",
    "Suppose you have a small sample (e.g., n = 15) and want to test whether the sample mean is significantly different from a hypothesized population mean when the population standard deviation is unknown. In this case, you would use a t-test and the t-distribution."
   ]
  },
  {
   "cell_type": "markdown",
   "id": "6f408099-c6cf-41bf-b829-f79b3d9d10b9",
   "metadata": {},
   "source": [
    "## Q12: What is t-statistic? State the formula for t-statistic."
   ]
  },
  {
   "cell_type": "markdown",
   "id": "7f808d48-f490-42bf-8537-e2391fc9e139",
   "metadata": {},
   "source": [
    "# Ans ==\n",
    "\n",
    "the t-statistic is the difference between the sample mean and the hypothesized population mean, divided by the standard error of the mean (\n",
    "�\n",
    "/\n",
    "�\n",
    "s/ \n",
    "n\n",
    "​\n",
    " ). The standard error of the mean is a measure of how much sample means are expected to vary from the true population mean.\n",
    "\n",
    "The t-statistic follows a t-distribution with degrees of freedom \n",
    "�\n",
    "�\n",
    "=\n",
    "�\n",
    "−\n",
    "1\n",
    "df=n−1 under the null hypothesis. The larger the absolute value of the t-statistic, the further the sample mean is from the hypothesized population mean, suggesting stronger evidence against the null hypothesis.\n",
    "\n",
    "In hypothesis testing, you compare the calculated t-statistic to critical values from the t-distribution or calculate a p-value to determine whether to reject the null hypothesis. If the absolute value of the t-statistic is larger than a critical value or if the p-value is less than the significance level (α), you may reject the null hypothesis."
   ]
  },
  {
   "cell_type": "markdown",
   "id": "94b6388f-27e5-4eca-a59a-cb73fce544a0",
   "metadata": {},
   "source": [
    "# Q13. A coffee shop owner wants to estimate the average daily revenue for their shop. They take a random sample of 50 days and find the sample mean revenue to be $500  with a standard deviation of $50. Estimate the population mean revenue with a 95% confidence interval."
   ]
  },
  {
   "cell_type": "code",
   "execution_count": 7,
   "id": "7df4169c-e1bc-4b70-9058-6ef611f58bb1",
   "metadata": {},
   "outputs": [
    {
     "name": "stdout",
     "output_type": "stream",
     "text": [
      "95% Confidence Interval: ($485.79, $514.21)\n"
     ]
    }
   ],
   "source": [
    "#Ans ==\n",
    "import math\n",
    "\n",
    "# Given data\n",
    "sample_mean = 500\n",
    "sample_std_dev = 50\n",
    "sample_size = 50\n",
    "confidence_level = 0.95\n",
    "\n",
    "# Critical value for a 95% confidence interval with 49 degrees of freedom\n",
    "critical_value = 2.009\n",
    "\n",
    "# Calculate the margin of error\n",
    "margin_of_error = critical_value * (sample_std_dev / math.sqrt(sample_size))\n",
    "\n",
    "# Calculate the confidence interval\n",
    "lower_bound = sample_mean - margin_of_error\n",
    "upper_bound = sample_mean + margin_of_error\n",
    "\n",
    "# Print the results\n",
    "print(f\"95% Confidence Interval: (${lower_bound:.2f}, ${upper_bound:.2f})\")\n"
   ]
  },
  {
   "cell_type": "markdown",
   "id": "dca2dc04-fb7a-42c2-bf56-eb89d8b362c0",
   "metadata": {},
   "source": [
    "## Q14. A researcher hypothesizes that a new drug will decrease blood pressure by 10 mmHg. They conduct a clinical trial with 100 patients and find that the sample mean decrease in blood pressure is 8 mmHg with a standard deviation of 3 mmHg. Test the hypothesis with a significance level of 0.05."
   ]
  },
  {
   "cell_type": "code",
   "execution_count": 8,
   "id": "94a8d0d1-bb59-43d5-8d2b-97a8174107de",
   "metadata": {},
   "outputs": [
    {
     "name": "stdout",
     "output_type": "stream",
     "text": [
      "t-Statistic: -6.67\n",
      "Critical Value: 1.98\n",
      "P-Value: 0.0000\n",
      "Reject the null hypothesis. There is significant evidence that the drug's effect is different from 10 mmHg.\n"
     ]
    }
   ],
   "source": [
    "#Ans ==\n",
    "import math\n",
    "from scipy.stats import t\n",
    "\n",
    "# Given data\n",
    "sample_mean = 8\n",
    "hypothesized_mean = 10\n",
    "sample_std_dev = 3\n",
    "sample_size = 100\n",
    "significance_level = 0.05\n",
    "\n",
    "# Calculate the t-statistic\n",
    "t_statistic = (sample_mean - hypothesized_mean) / (sample_std_dev / math.sqrt(sample_size))\n",
    "\n",
    "# Degrees of freedom for a one-sample t-test\n",
    "degrees_of_freedom = sample_size - 1\n",
    "\n",
    "# Calculate the critical value for a two-tailed test\n",
    "critical_value = t.ppf(1 - significance_level / 2, df=degrees_of_freedom)\n",
    "\n",
    "# Compare the t-statistic to the critical value\n",
    "p_value = 2 * (1 - t.cdf(abs(t_statistic), df=degrees_of_freedom))\n",
    "\n",
    "# Print the results\n",
    "print(f\"t-Statistic: {t_statistic:.2f}\")\n",
    "print(f\"Critical Value: {critical_value:.2f}\")\n",
    "print(f\"P-Value: {p_value:.4f}\")\n",
    "\n",
    "# Perform the hypothesis test\n",
    "if abs(t_statistic) > critical_value or p_value < significance_level:\n",
    "    print(\"Reject the null hypothesis. There is significant evidence that the drug's effect is different from 10 mmHg.\")\n",
    "else:\n",
    "    print(\"Fail to reject the null hypothesis. There is not enough evidence to conclude a significant difference.\")\n"
   ]
  },
  {
   "cell_type": "markdown",
   "id": "f19a7ad5-dc95-4cda-85d7-f414088de64c",
   "metadata": {},
   "source": [
    "## Q15. An electronics company produces a certain type of product with a mean weight of 5 pounds and a standard deviation of 0.5 pounds. A random sample of 25 products is taken, and the sample mean weight is found to be 4.8 pounds. Test the hypothesis that the true mean weight of the products is less than 5 pounds with a significance level of 0.01."
   ]
  },
  {
   "cell_type": "code",
   "execution_count": 9,
   "id": "68e43bfe-4ba8-4afb-974a-ee02ff52c49f",
   "metadata": {},
   "outputs": [
    {
     "name": "stdout",
     "output_type": "stream",
     "text": [
      "t-Statistic: -2.00\n",
      "Critical Value: -2.49\n",
      "P-Value: 0.0285\n",
      "Reject the null hypothesis. There is significant evidence that the true mean weight is less than 5 pounds.\n"
     ]
    }
   ],
   "source": [
    "#Ans ==\n",
    "import math\n",
    "from scipy.stats import t\n",
    "\n",
    "# Given data\n",
    "sample_mean = 4.8\n",
    "hypothesized_mean = 5\n",
    "sample_std_dev = 0.5\n",
    "sample_size = 25\n",
    "significance_level = 0.01\n",
    "\n",
    "# Calculate the t-statistic\n",
    "t_statistic = (sample_mean - hypothesized_mean) / (sample_std_dev / math.sqrt(sample_size))\n",
    "\n",
    "# Degrees of freedom for a one-sample t-test\n",
    "degrees_of_freedom = sample_size - 1\n",
    "\n",
    "# Calculate the critical value for a left-tailed test\n",
    "critical_value = t.ppf(significance_level, df=degrees_of_freedom)\n",
    "\n",
    "# Calculate the p-value\n",
    "p_value = t.cdf(t_statistic, df=degrees_of_freedom)\n",
    "\n",
    "# Print the results\n",
    "print(f\"t-Statistic: {t_statistic:.2f}\")\n",
    "print(f\"Critical Value: {critical_value:.2f}\")\n",
    "print(f\"P-Value: {p_value:.4f}\")\n",
    "\n",
    "# Perform the hypothesis test\n",
    "if t_statistic < -critical_value or p_value < significance_level:\n",
    "    print(\"Reject the null hypothesis. There is significant evidence that the true mean weight is less than 5 pounds.\")\n",
    "else:\n",
    "    print(\"Fail to reject the null hypothesis. There is not enough evidence to conclude a significant difference.\")\n"
   ]
  },
  {
   "cell_type": "markdown",
   "id": "d4eefdd3-1885-439e-b021-1ab46b5dcaf2",
   "metadata": {},
   "source": [
    "## Q16. Two groups of students are given different study materials to prepare for a test. The first group (n1 =30) has a mean score of 80 with a standard deviation of 10, and the second group (n2 = 40) has a mean score of 75 with a standard deviation of 8. Test the hypothesis that the population means for the two groups are equal with a significance level of 0.01."
   ]
  },
  {
   "cell_type": "code",
   "execution_count": 10,
   "id": "21712ddd-e3a6-471c-9749-e790f0a678de",
   "metadata": {},
   "outputs": [
    {
     "name": "stdout",
     "output_type": "stream",
     "text": [
      "t-Statistic: 2.25\n",
      "Critical Value: 2.65\n",
      "P-Value: 0.0276\n",
      "Fail to reject the null hypothesis. There is not enough evidence to conclude a significant difference.\n"
     ]
    }
   ],
   "source": [
    "#Ans ==\n",
    "import math\n",
    "from scipy.stats import t\n",
    "\n",
    "# Group 1 data\n",
    "mean1 = 80\n",
    "std_dev1 = 10\n",
    "sample_size1 = 30\n",
    "\n",
    "# Group 2 data\n",
    "mean2 = 75\n",
    "std_dev2 = 8\n",
    "sample_size2 = 40\n",
    "\n",
    "# Significance level\n",
    "significance_level = 0.01\n",
    "\n",
    "# Calculate the t-statistic\n",
    "t_statistic = (mean1 - mean2) / math.sqrt((std_dev1**2 / sample_size1) + (std_dev2**2 / sample_size2))\n",
    "\n",
    "# Degrees of freedom for an independent samples t-test\n",
    "degrees_of_freedom = sample_size1 + sample_size2 - 2\n",
    "\n",
    "# Calculate the critical value for a two-tailed test\n",
    "critical_value = t.ppf(1 - significance_level / 2, df=degrees_of_freedom)\n",
    "\n",
    "# Calculate the p-value\n",
    "p_value = 2 * (1 - t.cdf(abs(t_statistic), df=degrees_of_freedom))\n",
    "\n",
    "# Print the results\n",
    "print(f\"t-Statistic: {t_statistic:.2f}\")\n",
    "print(f\"Critical Value: {critical_value:.2f}\")\n",
    "print(f\"P-Value: {p_value:.4f}\")\n",
    "\n",
    "# Perform the hypothesis test\n",
    "if abs(t_statistic) > critical_value or p_value < significance_level:\n",
    "    print(\"Reject the null hypothesis. There is significant evidence that the population means are not equal.\")\n",
    "else:\n",
    "    print(\"Fail to reject the null hypothesis. There is not enough evidence to conclude a significant difference.\")\n"
   ]
  },
  {
   "cell_type": "markdown",
   "id": "63aad8cd-31b9-49be-80d0-1d0f92244bc7",
   "metadata": {},
   "source": [
    "## Q17. A marketing company wants to estimate the average number of ads watched by viewers during a TV program. They take a random sample of 50 viewers and find that the sample mean is 4 with a standard deviation of 1.5. Estimate the population mean with a 99% confidence interval."
   ]
  },
  {
   "cell_type": "code",
   "execution_count": 11,
   "id": "6bb91f1e-1f9e-46be-928a-3ad37b934892",
   "metadata": {},
   "outputs": [
    {
     "name": "stdout",
     "output_type": "stream",
     "text": [
      "99% Confidence Interval: (3.45, 4.55)\n"
     ]
    }
   ],
   "source": [
    "#Ans ==\n",
    "import math\n",
    "\n",
    "# Given data\n",
    "sample_mean = 4\n",
    "sample_std_dev = 1.5\n",
    "sample_size = 50\n",
    "confidence_level = 0.99\n",
    "\n",
    "# Critical value for a 99% confidence interval\n",
    "critical_value = 2.576\n",
    "\n",
    "# Calculate the margin of error\n",
    "margin_of_error = critical_value * (sample_std_dev / math.sqrt(sample_size))\n",
    "\n",
    "# Calculate the confidence interval\n",
    "lower_bound = sample_mean - margin_of_error\n",
    "upper_bound = sample_mean + margin_of_error\n",
    "\n",
    "# Print the results\n",
    "print(f\"99% Confidence Interval: ({lower_bound:.2f}, {upper_bound:.2f})\")\n"
   ]
  },
  {
   "cell_type": "code",
   "execution_count": null,
   "id": "ce6d98fc-595f-4b3b-839b-7c20edc36b8f",
   "metadata": {},
   "outputs": [],
   "source": []
  }
 ],
 "metadata": {
  "kernelspec": {
   "display_name": "Python 3 (ipykernel)",
   "language": "python",
   "name": "python3"
  },
  "language_info": {
   "codemirror_mode": {
    "name": "ipython",
    "version": 3
   },
   "file_extension": ".py",
   "mimetype": "text/x-python",
   "name": "python",
   "nbconvert_exporter": "python",
   "pygments_lexer": "ipython3",
   "version": "3.10.8"
  }
 },
 "nbformat": 4,
 "nbformat_minor": 5
}
