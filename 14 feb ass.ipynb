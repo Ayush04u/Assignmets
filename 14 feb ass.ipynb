{
 "cells": [
  {
   "cell_type": "markdown",
   "id": "ed7d48ac-7c60-4f31-a209-756a526feb2f",
   "metadata": {},
   "source": [
    "## Q1.What is multithreading in python?why is it used? Name the module used to handle threads in python"
   ]
  },
  {
   "cell_type": "markdown",
   "id": "7556becb-d719-4d8e-a273-ecf94e4801dd",
   "metadata": {},
   "source": [
    "## ANS ==\n",
    "Multithreading is a programming technique in which multiple threads of execution are created within a single process. In Python, it allows multiple threads of execution to run simultaneously within the same program. Each thread can execute its own set of instructions independently, but they share the same memory space and resources of the process.\n",
    "\n",
    "Multithreading in Python is used to improve the performance of certain types of programs by allowing them to take advantage of multiple processors or cores. This can lead to faster execution times, especially in programs that perform a lot of I/O operations or other tasks that can be run in parallel.\n",
    "\n",
    "The module used to handle threads in Python is called \"threading\". This module provides a way to create and manage threads in Python"
   ]
  },
  {
   "cell_type": "markdown",
   "id": "5d5a079d-ed69-4995-8445-e455c83c66b7",
   "metadata": {},
   "source": [
    "## Q2. Why threading module used? write the use of the following functions\n",
    "1. activeCount()\n",
    "2. currentThread()\n",
    "3. enumerate()"
   ]
  },
  {
   "cell_type": "markdown",
   "id": "f2a50c5e-2aec-459b-b3dd-10d698300d6e",
   "metadata": {},
   "source": [
    "## ANS == \n",
    "The threading module in Python is used for creating and managing threads in a multithreaded environment. The main advantage of using threads is that it allows multiple tasks to run concurrently, which can improve the overall performance of the application.\n",
    "\n",
    "Here are the uses of the following functions in the threading module:\n",
    "\n",
    "activeCount(): This function is used to get the number of active threads in the current thread's process. It returns an integer value representing the number of threads currently executing, including the main thread.\n",
    "\n",
    "currentThread(): This function is used to get a reference to the current thread object. It returns the thread object representing the current thread of execution.\n",
    "\n",
    "enumerate(): This function is used to get a list of all thread objects that are currently active. It returns a list of thread objects, including the main thread. If the thread is not yet started, it will not be included in the list. This function is useful for debugging or monitoring purposes."
   ]
  },
  {
   "cell_type": "markdown",
   "id": "bc110e55-cb48-4a53-906d-17a947acc46c",
   "metadata": {},
   "source": [
    "## Q3. Explain the following functions\n",
    "1. run()\n",
    "2. start()\n",
    "3. join()\n",
    "4. isAlive()"
   ]
  },
  {
   "cell_type": "markdown",
   "id": "0b05d512-5f79-43ce-a753-f298c5413189",
   "metadata": {},
   "source": [
    "## ANS ==\n",
    "1. run(): This function is called when a thread is started using the start() function. It contains the code that will be executed in the thread. When the start() function is called, it creates a new thread and calls the run() function of that thread. \n",
    "\n",
    "2. start(): This function is used to start a new thread. It creates a new thread and calls its run() function. The start() function does not wait for the thread to finish executing, but returns immediately.\n",
    "\n",
    "3. join(): This function is used to wait for a thread to finish executing. When the join() function is called, the current thread will block and wait for the specified thread to finish executing before continuing. If the specified thread has already finished executing, the join() function will return immediately.\n",
    "4. isAlive(): This function is used to check whether a thread is currently executing or has finished executing. If the thread is still executing, the isAlive() function will return True. If the thread has finished executing, the isAlive() function will return False."
   ]
  },
  {
   "cell_type": "markdown",
   "id": "ef64fdab-3678-438e-8ebd-c0b309fd0298",
   "metadata": {},
   "source": [
    "## Q4. Write a python program to create two threads. Thread one must print the list of squares and thread two must print the list of cubes"
   ]
  },
  {
   "cell_type": "code",
   "execution_count": 2,
   "id": "ca1448c5-4259-42b7-8bbf-d1acdb7cf630",
   "metadata": {},
   "outputs": [
    {
     "name": "stdout",
     "output_type": "stream",
     "text": [
      "Square of 1: 1\n",
      "Square of 2: 4\n",
      "Square of 3: 9\n",
      "Square of 4: 16\n",
      "Square of 5: 25\n",
      "Square of 6: 36\n",
      "Square of 7: 49\n",
      "Square of 8: 64\n",
      "Square of 9: 81\n",
      "Square of 10: 100\n",
      "Cube of 1: 1\n",
      "Cube of 2: 8\n",
      "Cube of 3: 27\n",
      "Cube of 4: 64\n",
      "Cube of 5: 125\n",
      "Cube of 6: 216\n",
      "Cube of 7: 343\n",
      "Cube of 8: 512\n",
      "Cube of 9: 729\n",
      "Cube of 10: 1000\n",
      "Finished executing both threads\n"
     ]
    }
   ],
   "source": [
    "import threading\n",
    "\n",
    "def print_squares():\n",
    "    for i in range(1,11):\n",
    "        print(f\"Square of {i}: {i ** 2}\")\n",
    "\n",
    "def print_cubes():\n",
    "    for i in range(1,11):\n",
    "        print(f\"Cube of {i}: {i ** 3}\")\n",
    "if __name__ == \"__main__\":\n",
    "    t1 = threading.Thread(target=print_squares)\n",
    "    t2 = threading.Thread(target=print_cubes)\n",
    "    \n",
    "    t1.start()\n",
    "    t2.start()\n",
    "    \n",
    "    t1.join()\n",
    "    t2.join()\n",
    "    \n",
    "    print(\"Finished executing both threads\")"
   ]
  },
  {
   "cell_type": "markdown",
   "id": "f52d832a-123b-4f1b-b3f1-3ad59c70b666",
   "metadata": {},
   "source": [
    "## Q5. State advantages and disadvantages of multithreading"
   ]
  },
  {
   "cell_type": "markdown",
   "id": "8261b344-9f42-41e2-9acb-f58b05467111",
   "metadata": {},
   "source": [
    "## ANS ==\n",
    "Advantages:\n",
    "\n",
    "1. Increased Performance: Multithreading can lead to improved performance, as it allows multiple threads to execute concurrently, thereby utilizing idle CPU resources and reducing the time required to complete a task.\n",
    "\n",
    "2. Enhanced Responsiveness: Multithreading can also improve the responsiveness of an application, as it allows for the execution of time-consuming tasks in the background while still allowing the user interface to remain responsive.\n",
    "\n",
    "3. Improved Resource Utilization: By utilizing multiple threads, multithreading can help improve the overall utilization of system resources, including CPU time, memory, and I/O operations.\n",
    "\n",
    "4. Simplified Programming: In many cases, multithreading can simplify programming, as it allows developers to write more efficient and modular code by separating different tasks into separate threads.\n",
    "\n",
    "Disadvantages:\n",
    "\n",
    "1. Increased Complexity: Multithreading can also add complexity to an application, as it requires developers to consider issues such as thread synchronization, race conditions, and deadlocks.\n",
    "\n",
    "2. Debugging Challenges: Debugging multithreaded applications can be more challenging than debugging single-threaded applications, as the interactions between threads can be difficult to predict and diagnose.\n",
    "\n",
    "3. Resource Overhead: Multithreading can also lead to increased resource overhead, as each thread requires its own stack space and other resources.\n",
    "\n",
    "4. Compatibility Issues: Some older systems and software may not be designed to support multithreading, which can lead to compatibility issues when attempting to run multithreaded applications."
   ]
  },
  {
   "cell_type": "markdown",
   "id": "8b5c04df-715c-44b5-9e06-57d1e0d585cc",
   "metadata": {},
   "source": [
    "## Q6. Explain deadblock and race conditions."
   ]
  },
  {
   "cell_type": "markdown",
   "id": "a3a216a2-26d4-409c-939a-3f8a5a9f95b0",
   "metadata": {},
   "source": [
    "## ANS  == \n",
    "A deadlock occurs when two or more threads are blocked and waiting for each other to release a resource, resulting in a situation where none of the threads can proceed. This can occur when two or more threads are holding resources and each requires additional resources that are currently held by the other thread(s).\n",
    "\n",
    "A race condition occurs when two or more threads are accessing shared resources or variables in a way that can lead to unpredictable results. This can occur when multiple threads attempt to access or modify the same resource at the same time, or when one thread modifies a resource while another thread is in the process of accessing or modifying it. The result can be inconsistent or incorrect behavior, as the threads may interfere with each other in unexpected ways."
   ]
  },
  {
   "cell_type": "code",
   "execution_count": null,
   "id": "2ea4e4c3-6ee8-4d26-9218-436e4173e118",
   "metadata": {},
   "outputs": [],
   "source": []
  }
 ],
 "metadata": {
  "kernelspec": {
   "display_name": "Python 3 (ipykernel)",
   "language": "python",
   "name": "python3"
  },
  "language_info": {
   "codemirror_mode": {
    "name": "ipython",
    "version": 3
   },
   "file_extension": ".py",
   "mimetype": "text/x-python",
   "name": "python",
   "nbconvert_exporter": "python",
   "pygments_lexer": "ipython3",
   "version": "3.10.8"
  }
 },
 "nbformat": 4,
 "nbformat_minor": 5
}
