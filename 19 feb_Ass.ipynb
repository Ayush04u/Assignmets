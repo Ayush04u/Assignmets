{
 "cells": [
  {
   "cell_type": "markdown",
   "id": "86af8520-fe20-482b-8796-74c8f741d9da",
   "metadata": {},
   "source": [
    "## Q1. What is Flask Framework? What are the advantages of Flask Framework?"
   ]
  },
  {
   "cell_type": "markdown",
   "id": "1255fb58-cdd0-4363-8aa7-0ff1eb17d203",
   "metadata": {},
   "source": [
    "## ANS ==\n",
    "Flask is a lightweight web framework for Python that allows developers to build web applications quickly and easily. It is a micro-framework that is designed to be simple, flexible, and easy to learn.\n",
    "\n",
    "Some of the advantages of Flask include:\n",
    "\n",
    "1. Easy to Use: Flask is simple and easy to use, making it a great choice for beginners who are just getting started with web development.\n",
    "\n",
    "2. Lightweight: Flask is a lightweight framework that has minimal dependencies, making it easy to install and run on any system.\n",
    "\n",
    "3. Flexible: Flask is highly flexible and can be used to build a wide range of web applications, from small personal projects to large-scale enterprise applications.\n",
    "\n",
    "4. Modular: Flask is built using a modular design, which allows developers to add or remove features as needed.\n",
    "\n",
    "5. Large Community: Flask has a large and active community of developers, which means that there are plenty of resources and support available online.\n",
    "\n",
    "6. Customizable: Flask allows developers to customize the framework to meet their specific needs and requirements."
   ]
  },
  {
   "cell_type": "markdown",
   "id": "fa63254a-433d-4e3c-86dd-0c10e973b28d",
   "metadata": {},
   "source": [
    "## Q2.Create a simple Flask application to display ‘Hello World!!’. Attach the screenshot of the output in Jupyter Notebook."
   ]
  },
  {
   "cell_type": "code",
   "execution_count": null,
   "id": "55cfc285-9da9-4794-9c83-1b76639a0188",
   "metadata": {},
   "outputs": [
    {
     "name": "stdout",
     "output_type": "stream",
     "text": [
      " * Serving Flask app '__main__'\n",
      " * Debug mode: off\n"
     ]
    },
    {
     "name": "stderr",
     "output_type": "stream",
     "text": [
      "WARNING: This is a development server. Do not use it in a production deployment. Use a production WSGI server instead.\n",
      " * Running on http://127.0.0.1:5000\n",
      "Press CTRL+C to quit\n"
     ]
    }
   ],
   "source": [
    "from flask import Flask\n",
    "\n",
    "app = Flask(__name__)\n",
    "\n",
    "@app.route('/')\n",
    "def hello():\n",
    "    return 'Hello World!!'\n",
    "\n",
    "if __name__ == '__main__':\n",
    "    app.run()\n"
   ]
  },
  {
   "cell_type": "code",
   "execution_count": 2,
   "id": "72ed1386-eb9f-44d6-960d-bffc770520de",
   "metadata": {},
   "outputs": [
    {
     "name": "stdout",
     "output_type": "stream",
     "text": [
      "Collecting flask\n",
      "  Downloading Flask-2.2.3-py3-none-any.whl (101 kB)\n",
      "\u001b[2K     \u001b[90m━━━━━━━━━━━━━━━━━━━━━━━━━━━━━━━━━━━━━━━\u001b[0m \u001b[32m101.8/101.8 kB\u001b[0m \u001b[31m4.7 MB/s\u001b[0m eta \u001b[36m0:00:00\u001b[0m\n",
      "\u001b[?25hCollecting Werkzeug>=2.2.2\n",
      "  Downloading Werkzeug-2.2.3-py3-none-any.whl (233 kB)\n",
      "\u001b[2K     \u001b[90m━━━━━━━━━━━━━━━━━━━━━━━━━━━━━━━━━━━━━━\u001b[0m \u001b[32m233.6/233.6 kB\u001b[0m \u001b[31m29.3 MB/s\u001b[0m eta \u001b[36m0:00:00\u001b[0m\n",
      "\u001b[?25hRequirement already satisfied: click>=8.0 in /opt/conda/lib/python3.10/site-packages (from flask) (8.1.3)\n",
      "Requirement already satisfied: Jinja2>=3.0 in /opt/conda/lib/python3.10/site-packages (from flask) (3.1.2)\n",
      "Collecting itsdangerous>=2.0\n",
      "  Downloading itsdangerous-2.1.2-py3-none-any.whl (15 kB)\n",
      "Requirement already satisfied: MarkupSafe>=2.0 in /opt/conda/lib/python3.10/site-packages (from Jinja2>=3.0->flask) (2.1.1)\n",
      "Installing collected packages: Werkzeug, itsdangerous, flask\n",
      "Successfully installed Werkzeug-2.2.3 flask-2.2.3 itsdangerous-2.1.2\n",
      "Note: you may need to restart the kernel to use updated packages.\n"
     ]
    }
   ],
   "source": [
    "pip install flask"
   ]
  },
  {
   "cell_type": "code",
   "execution_count": null,
   "id": "0a19419c-6ed4-4ea7-b6e8-d500af32c881",
   "metadata": {},
   "outputs": [],
   "source": []
  },
  {
   "cell_type": "markdown",
   "id": "677209be-8226-43ca-a27a-bce4a111b37b",
   "metadata": {},
   "source": [
    "<img src=\"Hello_world1.png\" width= 200, height=100>"
   ]
  },
  {
   "cell_type": "markdown",
   "id": "506f2bb8-7d14-4b02-a2b3-eaad606f74ef",
   "metadata": {},
   "source": [
    "## Q3. What is App routing in Flask? Why do we use app routes?"
   ]
  },
  {
   "cell_type": "markdown",
   "id": "26c0dc3a-656c-4c99-91c8-dba60933558c",
   "metadata": {},
   "source": [
    "## ANS ==\n",
    "In Flask, app routing refers to the process of mapping URL endpoints to specific functions in a Flask application. Flask uses the concept of \"routes\" to define these mappings, which are defined using the @app.route decorator\n",
    "\n",
    "We use app routes in Flask to handle user requests and provide appropriate responses. By defining routes for specific URLs, we can create a logical structure for our application and ensure that users are directed to the appropriate functionality based on their requests."
   ]
  },
  {
   "cell_type": "markdown",
   "id": "bf6933e8-6404-4aa1-b0cf-109af4ec6214",
   "metadata": {},
   "source": [
    "## Q4. Create a “/welcome” route to display the welcome message “Welcome to ABC Corporation” and a “/” route to show the following details: Company Name: ABC Corporation Location: India Contact Detail: 999999-9999"
   ]
  },
  {
   "cell_type": "code",
   "execution_count": null,
   "id": "cc1defd4-89d3-448f-8ced-875c41974ac0",
   "metadata": {},
   "outputs": [],
   "source": [
    "from flask import flask\n",
    "\n",
    "app = flask(__name__)\n",
    "\n",
    "@app.route('/welcome')\n",
    "def welcome():\n",
    "    return 'Welcome to ABC Corporation'\n",
    "\n",
    "@app.route('/')\n",
    "def company_details():\n",
    "    return 'Company Name: ABC Corporation\\nLocation: India\\nContact Detail: 999-999-9999'\n",
    "if __name__ == '__main__':\n",
    "    app.run(debug=True)"
   ]
  },
  {
   "cell_type": "markdown",
   "id": "85ddc9bb-341a-416b-80fa-ee7fbbcff994",
   "metadata": {},
   "source": [
    "<img src=\"random.png\">"
   ]
  },
  {
   "cell_type": "markdown",
   "id": "1550538c-2c98-4693-8335-a7517c569124",
   "metadata": {},
   "source": [
    "## Q5. What function is used in Flask for URL Building? Write a Python code to demonstrate the working of the url_for() function."
   ]
  },
  {
   "cell_type": "markdown",
   "id": "b1250d36-6514-4f40-8782-c2e838fae48e",
   "metadata": {},
   "source": [
    "## ANS ==\n",
    "The url_for() function is used in Flask for URL building. It generates a URL to the specified endpoint with the provided arguments."
   ]
  },
  {
   "cell_type": "code",
   "execution_count": 4,
   "id": "8adf4cb4-2c23-428d-97b7-c2bcb6694080",
   "metadata": {},
   "outputs": [
    {
     "name": "stdout",
     "output_type": "stream",
     "text": [
      "/\n",
      "/user/Ayush045\n",
      "/login\n"
     ]
    }
   ],
   "source": [
    "from flask import Flask, url_for\n",
    "\n",
    "app = Flask(__name__)\n",
    "\n",
    "@app.route('/')\n",
    "def index():\n",
    "    return 'Hello, World!'\n",
    "\n",
    "@app.route('/user/<username>')\n",
    "def profile(username):\n",
    "    return f'{username}\\'s profile'\n",
    "\n",
    "@app.route('/login')\n",
    "def login():\n",
    "    return 'Login page'\n",
    "with app.test_request_context():\n",
    "    print(url_for('index'))\n",
    "    \n",
    "    print(url_for('profile', username='Ayush045'))\n",
    "    \n",
    "    print(url_for('login'))"
   ]
  },
  {
   "cell_type": "code",
   "execution_count": null,
   "id": "a71bc23a-729f-41a7-8e09-92c317a67dc9",
   "metadata": {},
   "outputs": [],
   "source": []
  },
  {
   "cell_type": "code",
   "execution_count": null,
   "id": "00ebf0e8-9b5d-42c3-91ee-a6bddacad5d4",
   "metadata": {},
   "outputs": [],
   "source": []
  }
 ],
 "metadata": {
  "kernelspec": {
   "display_name": "Python 3 (ipykernel)",
   "language": "python",
   "name": "python3"
  },
  "language_info": {
   "codemirror_mode": {
    "name": "ipython",
    "version": 3
   },
   "file_extension": ".py",
   "mimetype": "text/x-python",
   "name": "python",
   "nbconvert_exporter": "python",
   "pygments_lexer": "ipython3",
   "version": "3.10.8"
  }
 },
 "nbformat": 4,
 "nbformat_minor": 5
}
